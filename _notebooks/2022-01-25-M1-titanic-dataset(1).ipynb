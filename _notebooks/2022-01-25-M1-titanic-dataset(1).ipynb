{
 "cells": [
  {
   "cell_type": "markdown",
   "source": "---\n# \"M1 Applied Data Science and Machine Learning\"\n> \"M1 Assignment: predicting survivors from the Titanic dataset \"\n\n- toc:true- branch: master\n- badges: true\n- comments: true\n- author: Robin Færaas\n- categories: [EDA, SML]",
   "metadata": {
    "cell_id": "355fc85d-e319-4409-8a7a-5bd35e6d0a9a",
    "tags": [],
    "deepnote_cell_type": "markdown"
   }
  },
  {
   "cell_type": "markdown",
   "source": "---",
   "metadata": {
    "tags": [],
    "cell_id": "00000-eed832a1-9728-492f-809c-1ff1f4ed229b",
    "deepnote_cell_type": "markdown"
   }
  },
  {
   "cell_type": "code",
   "metadata": {
    "tags": [],
    "cell_id": "00001-96adbfd6-11ec-4b77-87cb-7d95029c944d",
    "deepnote_to_be_reexecuted": false,
    "source_hash": "dd59e900",
    "execution_start": 1641984337499,
    "execution_millis": 2961,
    "deepnote_cell_type": "code"
   },
   "source": "#importing the libraries used \nimport numpy as np\nimport pandas as pd\nimport matplotlib.pyplot as plt\nimport seaborn as sns\n%matplotlib inline\nsns.set()\n\nimport warnings\nwarnings.filterwarnings(\"ignore\", category=FutureWarning)\n#warnings.filterwarnings(\"ignore\", category=DeprecationWarning)\n#warnings.filterwarnings(\"ignore\")\n\nfrom sklearn.linear_model import LogisticRegression\nfrom sklearn.neighbors import KNeighborsClassifier\nfrom sklearn.naive_bayes import  GaussianNB\nfrom sklearn.svm import SVC\nfrom sklearn.metrics import confusion_matrix,accuracy_score\nfrom sklearn.ensemble import RandomForestClassifier\nfrom sklearn.ensemble import GradientBoostingClassifier",
   "execution_count": null,
   "outputs": []
  },
  {
   "cell_type": "markdown",
   "source": "This Project was used for M1, introduction to machine learning and EDA. The data set is the Titanic survival dataset, a popular competition dataset on kaggle.   ",
   "metadata": {
    "cell_id": "0d64c002-bbf7-4ce5-8a4b-1673af584266",
    "tags": [],
    "deepnote_cell_type": "markdown"
   }
  },
  {
   "cell_type": "markdown",
   "source": "# 1. Data Preparation",
   "metadata": {
    "tags": [],
    "cell_id": "00002-e5e84dd2-2392-4362-8914-9b9600b2bb50",
    "deepnote_cell_type": "markdown"
   }
  },
  {
   "cell_type": "markdown",
   "source": "The goal here is to get an understadning of the data and and prepare it for further analysis, some important steps is to make the data cleaner by, removing missing values, outliers, type of variables etc  ",
   "metadata": {
    "cell_id": "a280e718-dc29-4e83-9474-c3c4970b7cef",
    "tags": [],
    "deepnote_cell_type": "markdown"
   }
  },
  {
   "cell_type": "code",
   "metadata": {
    "tags": [],
    "cell_id": "00002-a2be08ec-c4b9-425a-8405-abff2d278686",
    "deepnote_to_be_reexecuted": false,
    "source_hash": "567a5a1",
    "execution_start": 1641984340468,
    "execution_millis": 29,
    "deepnote_cell_type": "code"
   },
   "source": "df_train = pd.read_csv(\"/work/train.csv\")\ndf_test = pd.read_csv(\"/work/test.csv\")",
   "execution_count": null,
   "outputs": []
  },
  {
   "cell_type": "code",
   "metadata": {
    "tags": [],
    "cell_id": "00003-5e0f4d10-45f5-4ef4-b043-b7719352f786",
    "deepnote_to_be_reexecuted": false,
    "source_hash": "5e2a9c26",
    "execution_start": 1641984340500,
    "execution_millis": 131,
    "deepnote_cell_type": "code"
   },
   "source": "df_train.head()",
   "execution_count": null,
   "outputs": [
    {
     "output_type": "execute_result",
     "execution_count": 3,
     "data": {
      "application/vnd.deepnote.dataframe.v3+json": {
       "column_count": 12,
       "row_count": 5,
       "columns": [
        {
         "name": "PassengerId",
         "dtype": "int64",
         "stats": {
          "unique_count": 5,
          "nan_count": 0,
          "min": "1",
          "max": "5",
          "histogram": [
           {
            "bin_start": 1,
            "bin_end": 1.4,
            "count": 1
           },
           {
            "bin_start": 1.4,
            "bin_end": 1.8,
            "count": 0
           },
           {
            "bin_start": 1.8,
            "bin_end": 2.2,
            "count": 1
           },
           {
            "bin_start": 2.2,
            "bin_end": 2.6,
            "count": 0
           },
           {
            "bin_start": 2.6,
            "bin_end": 3,
            "count": 0
           },
           {
            "bin_start": 3,
            "bin_end": 3.4000000000000004,
            "count": 1
           },
           {
            "bin_start": 3.4000000000000004,
            "bin_end": 3.8000000000000003,
            "count": 0
           },
           {
            "bin_start": 3.8000000000000003,
            "bin_end": 4.2,
            "count": 1
           },
           {
            "bin_start": 4.2,
            "bin_end": 4.6,
            "count": 0
           },
           {
            "bin_start": 4.6,
            "bin_end": 5,
            "count": 1
           }
          ]
         }
        },
        {
         "name": "Survived",
         "dtype": "int64",
         "stats": {
          "unique_count": 2,
          "nan_count": 0,
          "min": "0",
          "max": "1",
          "histogram": [
           {
            "bin_start": 0,
            "bin_end": 0.1,
            "count": 2
           },
           {
            "bin_start": 0.1,
            "bin_end": 0.2,
            "count": 0
           },
           {
            "bin_start": 0.2,
            "bin_end": 0.30000000000000004,
            "count": 0
           },
           {
            "bin_start": 0.30000000000000004,
            "bin_end": 0.4,
            "count": 0
           },
           {
            "bin_start": 0.4,
            "bin_end": 0.5,
            "count": 0
           },
           {
            "bin_start": 0.5,
            "bin_end": 0.6000000000000001,
            "count": 0
           },
           {
            "bin_start": 0.6000000000000001,
            "bin_end": 0.7000000000000001,
            "count": 0
           },
           {
            "bin_start": 0.7000000000000001,
            "bin_end": 0.8,
            "count": 0
           },
           {
            "bin_start": 0.8,
            "bin_end": 0.9,
            "count": 0
           },
           {
            "bin_start": 0.9,
            "bin_end": 1,
            "count": 3
           }
          ]
         }
        },
        {
         "name": "Pclass",
         "dtype": "int64",
         "stats": {
          "unique_count": 2,
          "nan_count": 0,
          "min": "1",
          "max": "3",
          "histogram": [
           {
            "bin_start": 1,
            "bin_end": 1.2,
            "count": 2
           },
           {
            "bin_start": 1.2,
            "bin_end": 1.4,
            "count": 0
           },
           {
            "bin_start": 1.4,
            "bin_end": 1.6,
            "count": 0
           },
           {
            "bin_start": 1.6,
            "bin_end": 1.8,
            "count": 0
           },
           {
            "bin_start": 1.8,
            "bin_end": 2,
            "count": 0
           },
           {
            "bin_start": 2,
            "bin_end": 2.2,
            "count": 0
           },
           {
            "bin_start": 2.2,
            "bin_end": 2.4000000000000004,
            "count": 0
           },
           {
            "bin_start": 2.4000000000000004,
            "bin_end": 2.6,
            "count": 0
           },
           {
            "bin_start": 2.6,
            "bin_end": 2.8,
            "count": 0
           },
           {
            "bin_start": 2.8,
            "bin_end": 3,
            "count": 3
           }
          ]
         }
        },
        {
         "name": "Name",
         "dtype": "object",
         "stats": {
          "unique_count": 5,
          "nan_count": 0,
          "categories": [
           {
            "name": "Braund, Mr. Owen Harris",
            "count": 1
           },
           {
            "name": "Cumings, Mrs. John Bradley (Florence Briggs Thayer)",
            "count": 1
           },
           {
            "name": "3 others",
            "count": 3
           }
          ]
         }
        },
        {
         "name": "Sex",
         "dtype": "object",
         "stats": {
          "unique_count": 2,
          "nan_count": 0,
          "categories": [
           {
            "name": "female",
            "count": 3
           },
           {
            "name": "male",
            "count": 2
           }
          ]
         }
        },
        {
         "name": "Age",
         "dtype": "float64",
         "stats": {
          "unique_count": 4,
          "nan_count": 0,
          "min": "22.0",
          "max": "38.0",
          "histogram": [
           {
            "bin_start": 22,
            "bin_end": 23.6,
            "count": 1
           },
           {
            "bin_start": 23.6,
            "bin_end": 25.2,
            "count": 0
           },
           {
            "bin_start": 25.2,
            "bin_end": 26.8,
            "count": 1
           },
           {
            "bin_start": 26.8,
            "bin_end": 28.4,
            "count": 0
           },
           {
            "bin_start": 28.4,
            "bin_end": 30,
            "count": 0
           },
           {
            "bin_start": 30,
            "bin_end": 31.6,
            "count": 0
           },
           {
            "bin_start": 31.6,
            "bin_end": 33.2,
            "count": 0
           },
           {
            "bin_start": 33.2,
            "bin_end": 34.8,
            "count": 0
           },
           {
            "bin_start": 34.8,
            "bin_end": 36.4,
            "count": 2
           },
           {
            "bin_start": 36.4,
            "bin_end": 38,
            "count": 1
           }
          ]
         }
        },
        {
         "name": "SibSp",
         "dtype": "int64",
         "stats": {
          "unique_count": 2,
          "nan_count": 0,
          "min": "0",
          "max": "1",
          "histogram": [
           {
            "bin_start": 0,
            "bin_end": 0.1,
            "count": 2
           },
           {
            "bin_start": 0.1,
            "bin_end": 0.2,
            "count": 0
           },
           {
            "bin_start": 0.2,
            "bin_end": 0.30000000000000004,
            "count": 0
           },
           {
            "bin_start": 0.30000000000000004,
            "bin_end": 0.4,
            "count": 0
           },
           {
            "bin_start": 0.4,
            "bin_end": 0.5,
            "count": 0
           },
           {
            "bin_start": 0.5,
            "bin_end": 0.6000000000000001,
            "count": 0
           },
           {
            "bin_start": 0.6000000000000001,
            "bin_end": 0.7000000000000001,
            "count": 0
           },
           {
            "bin_start": 0.7000000000000001,
            "bin_end": 0.8,
            "count": 0
           },
           {
            "bin_start": 0.8,
            "bin_end": 0.9,
            "count": 0
           },
           {
            "bin_start": 0.9,
            "bin_end": 1,
            "count": 3
           }
          ]
         }
        },
        {
         "name": "Parch",
         "dtype": "int64",
         "stats": {
          "unique_count": 1,
          "nan_count": 0,
          "min": "0",
          "max": "0",
          "histogram": [
           {
            "bin_start": -0.5,
            "bin_end": -0.4,
            "count": 0
           },
           {
            "bin_start": -0.4,
            "bin_end": -0.3,
            "count": 0
           },
           {
            "bin_start": -0.3,
            "bin_end": -0.19999999999999996,
            "count": 0
           },
           {
            "bin_start": -0.19999999999999996,
            "bin_end": -0.09999999999999998,
            "count": 0
           },
           {
            "bin_start": -0.09999999999999998,
            "bin_end": 0,
            "count": 0
           },
           {
            "bin_start": 0,
            "bin_end": 0.10000000000000009,
            "count": 5
           },
           {
            "bin_start": 0.10000000000000009,
            "bin_end": 0.20000000000000007,
            "count": 0
           },
           {
            "bin_start": 0.20000000000000007,
            "bin_end": 0.30000000000000004,
            "count": 0
           },
           {
            "bin_start": 0.30000000000000004,
            "bin_end": 0.4,
            "count": 0
           },
           {
            "bin_start": 0.4,
            "bin_end": 0.5,
            "count": 0
           }
          ]
         }
        },
        {
         "name": "Ticket",
         "dtype": "object",
         "stats": {
          "unique_count": 5,
          "nan_count": 0,
          "categories": [
           {
            "name": "A/5 21171",
            "count": 1
           },
           {
            "name": "PC 17599",
            "count": 1
           },
           {
            "name": "3 others",
            "count": 3
           }
          ]
         }
        },
        {
         "name": "Fare",
         "dtype": "float64",
         "stats": {
          "unique_count": 5,
          "nan_count": 0,
          "min": "7.25",
          "max": "71.2833",
          "histogram": [
           {
            "bin_start": 7.25,
            "bin_end": 13.65333,
            "count": 3
           },
           {
            "bin_start": 13.65333,
            "bin_end": 20.05666,
            "count": 0
           },
           {
            "bin_start": 20.05666,
            "bin_end": 26.459989999999998,
            "count": 0
           },
           {
            "bin_start": 26.459989999999998,
            "bin_end": 32.86332,
            "count": 0
           },
           {
            "bin_start": 32.86332,
            "bin_end": 39.26665,
            "count": 0
           },
           {
            "bin_start": 39.26665,
            "bin_end": 45.669979999999995,
            "count": 0
           },
           {
            "bin_start": 45.669979999999995,
            "bin_end": 52.07331,
            "count": 0
           },
           {
            "bin_start": 52.07331,
            "bin_end": 58.476639999999996,
            "count": 1
           },
           {
            "bin_start": 58.476639999999996,
            "bin_end": 64.87996999999999,
            "count": 0
           },
           {
            "bin_start": 64.87996999999999,
            "bin_end": 71.2833,
            "count": 1
           }
          ]
         }
        },
        {
         "name": "Cabin",
         "dtype": "object",
         "stats": {
          "unique_count": 2,
          "nan_count": 3,
          "categories": [
           {
            "name": "C85",
            "count": 1
           },
           {
            "name": "C123",
            "count": 1
           },
           {
            "name": "Missing",
            "count": 3
           }
          ]
         }
        },
        {
         "name": "Embarked",
         "dtype": "object",
         "stats": {
          "unique_count": 2,
          "nan_count": 0,
          "categories": [
           {
            "name": "S",
            "count": 4
           },
           {
            "name": "C",
            "count": 1
           }
          ]
         }
        },
        {
         "name": "_deepnote_index_column",
         "dtype": "int64"
        }
       ],
       "rows": [
        {
         "PassengerId": 1,
         "Survived": 0,
         "Pclass": 3,
         "Name": "Braund, Mr. Owen Harris",
         "Sex": "male",
         "Age": 22,
         "SibSp": 1,
         "Parch": 0,
         "Ticket": "A/5 21171",
         "Fare": 7.25,
         "Cabin": "nan",
         "Embarked": "S",
         "_deepnote_index_column": 0
        },
        {
         "PassengerId": 2,
         "Survived": 1,
         "Pclass": 1,
         "Name": "Cumings, Mrs. John Bradley (Florence Briggs Thayer)",
         "Sex": "female",
         "Age": 38,
         "SibSp": 1,
         "Parch": 0,
         "Ticket": "PC 17599",
         "Fare": 71.2833,
         "Cabin": "C85",
         "Embarked": "C",
         "_deepnote_index_column": 1
        },
        {
         "PassengerId": 3,
         "Survived": 1,
         "Pclass": 3,
         "Name": "Heikkinen, Miss. Laina",
         "Sex": "female",
         "Age": 26,
         "SibSp": 0,
         "Parch": 0,
         "Ticket": "STON/O2. 3101282",
         "Fare": 7.925,
         "Cabin": "nan",
         "Embarked": "S",
         "_deepnote_index_column": 2
        },
        {
         "PassengerId": 4,
         "Survived": 1,
         "Pclass": 1,
         "Name": "Futrelle, Mrs. Jacques Heath (Lily May Peel)",
         "Sex": "female",
         "Age": 35,
         "SibSp": 1,
         "Parch": 0,
         "Ticket": "113803",
         "Fare": 53.1,
         "Cabin": "C123",
         "Embarked": "S",
         "_deepnote_index_column": 3
        },
        {
         "PassengerId": 5,
         "Survived": 0,
         "Pclass": 3,
         "Name": "Allen, Mr. William Henry",
         "Sex": "male",
         "Age": 35,
         "SibSp": 0,
         "Parch": 0,
         "Ticket": "373450",
         "Fare": 8.05,
         "Cabin": "nan",
         "Embarked": "S",
         "_deepnote_index_column": 4
        }
       ]
      },
      "text/plain": "   PassengerId  Survived  Pclass  \\\n0            1         0       3   \n1            2         1       1   \n2            3         1       3   \n3            4         1       1   \n4            5         0       3   \n\n                                                Name     Sex   Age  SibSp  \\\n0                            Braund, Mr. Owen Harris    male  22.0      1   \n1  Cumings, Mrs. John Bradley (Florence Briggs Th...  female  38.0      1   \n2                             Heikkinen, Miss. Laina  female  26.0      0   \n3       Futrelle, Mrs. Jacques Heath (Lily May Peel)  female  35.0      1   \n4                           Allen, Mr. William Henry    male  35.0      0   \n\n   Parch            Ticket     Fare Cabin Embarked  \n0      0         A/5 21171   7.2500   NaN        S  \n1      0          PC 17599  71.2833   C85        C  \n2      0  STON/O2. 3101282   7.9250   NaN        S  \n3      0            113803  53.1000  C123        S  \n4      0            373450   8.0500   NaN        S  ",
      "text/html": "<div>\n<style scoped>\n    .dataframe tbody tr th:only-of-type {\n        vertical-align: middle;\n    }\n\n    .dataframe tbody tr th {\n        vertical-align: top;\n    }\n\n    .dataframe thead th {\n        text-align: right;\n    }\n</style>\n<table border=\"1\" class=\"dataframe\">\n  <thead>\n    <tr style=\"text-align: right;\">\n      <th></th>\n      <th>PassengerId</th>\n      <th>Survived</th>\n      <th>Pclass</th>\n      <th>Name</th>\n      <th>Sex</th>\n      <th>Age</th>\n      <th>SibSp</th>\n      <th>Parch</th>\n      <th>Ticket</th>\n      <th>Fare</th>\n      <th>Cabin</th>\n      <th>Embarked</th>\n    </tr>\n  </thead>\n  <tbody>\n    <tr>\n      <th>0</th>\n      <td>1</td>\n      <td>0</td>\n      <td>3</td>\n      <td>Braund, Mr. Owen Harris</td>\n      <td>male</td>\n      <td>22.0</td>\n      <td>1</td>\n      <td>0</td>\n      <td>A/5 21171</td>\n      <td>7.2500</td>\n      <td>NaN</td>\n      <td>S</td>\n    </tr>\n    <tr>\n      <th>1</th>\n      <td>2</td>\n      <td>1</td>\n      <td>1</td>\n      <td>Cumings, Mrs. John Bradley (Florence Briggs Th...</td>\n      <td>female</td>\n      <td>38.0</td>\n      <td>1</td>\n      <td>0</td>\n      <td>PC 17599</td>\n      <td>71.2833</td>\n      <td>C85</td>\n      <td>C</td>\n    </tr>\n    <tr>\n      <th>2</th>\n      <td>3</td>\n      <td>1</td>\n      <td>3</td>\n      <td>Heikkinen, Miss. Laina</td>\n      <td>female</td>\n      <td>26.0</td>\n      <td>0</td>\n      <td>0</td>\n      <td>STON/O2. 3101282</td>\n      <td>7.9250</td>\n      <td>NaN</td>\n      <td>S</td>\n    </tr>\n    <tr>\n      <th>3</th>\n      <td>4</td>\n      <td>1</td>\n      <td>1</td>\n      <td>Futrelle, Mrs. Jacques Heath (Lily May Peel)</td>\n      <td>female</td>\n      <td>35.0</td>\n      <td>1</td>\n      <td>0</td>\n      <td>113803</td>\n      <td>53.1000</td>\n      <td>C123</td>\n      <td>S</td>\n    </tr>\n    <tr>\n      <th>4</th>\n      <td>5</td>\n      <td>0</td>\n      <td>3</td>\n      <td>Allen, Mr. William Henry</td>\n      <td>male</td>\n      <td>35.0</td>\n      <td>0</td>\n      <td>0</td>\n      <td>373450</td>\n      <td>8.0500</td>\n      <td>NaN</td>\n      <td>S</td>\n    </tr>\n  </tbody>\n</table>\n</div>"
     },
     "metadata": {}
    }
   ]
  },
  {
   "cell_type": "code",
   "metadata": {
    "tags": [],
    "cell_id": "00005-aa5e29b9-4d26-4c4c-ada1-9579f9b4a396",
    "deepnote_to_be_reexecuted": false,
    "source_hash": "f6325a18",
    "execution_start": 1641984340691,
    "execution_millis": 58,
    "deepnote_cell_type": "code"
   },
   "source": "df_test.head()",
   "execution_count": null,
   "outputs": [
    {
     "output_type": "execute_result",
     "execution_count": 4,
     "data": {
      "application/vnd.deepnote.dataframe.v3+json": {
       "column_count": 11,
       "row_count": 5,
       "columns": [
        {
         "name": "PassengerId",
         "dtype": "int64",
         "stats": {
          "unique_count": 5,
          "nan_count": 0,
          "min": "892",
          "max": "896",
          "histogram": [
           {
            "bin_start": 892,
            "bin_end": 892.4,
            "count": 1
           },
           {
            "bin_start": 892.4,
            "bin_end": 892.8,
            "count": 0
           },
           {
            "bin_start": 892.8,
            "bin_end": 893.2,
            "count": 1
           },
           {
            "bin_start": 893.2,
            "bin_end": 893.6,
            "count": 0
           },
           {
            "bin_start": 893.6,
            "bin_end": 894,
            "count": 0
           },
           {
            "bin_start": 894,
            "bin_end": 894.4,
            "count": 1
           },
           {
            "bin_start": 894.4,
            "bin_end": 894.8,
            "count": 0
           },
           {
            "bin_start": 894.8,
            "bin_end": 895.2,
            "count": 1
           },
           {
            "bin_start": 895.2,
            "bin_end": 895.6,
            "count": 0
           },
           {
            "bin_start": 895.6,
            "bin_end": 896,
            "count": 1
           }
          ]
         }
        },
        {
         "name": "Pclass",
         "dtype": "int64",
         "stats": {
          "unique_count": 2,
          "nan_count": 0,
          "min": "2",
          "max": "3",
          "histogram": [
           {
            "bin_start": 2,
            "bin_end": 2.1,
            "count": 1
           },
           {
            "bin_start": 2.1,
            "bin_end": 2.2,
            "count": 0
           },
           {
            "bin_start": 2.2,
            "bin_end": 2.3,
            "count": 0
           },
           {
            "bin_start": 2.3,
            "bin_end": 2.4,
            "count": 0
           },
           {
            "bin_start": 2.4,
            "bin_end": 2.5,
            "count": 0
           },
           {
            "bin_start": 2.5,
            "bin_end": 2.6,
            "count": 0
           },
           {
            "bin_start": 2.6,
            "bin_end": 2.7,
            "count": 0
           },
           {
            "bin_start": 2.7,
            "bin_end": 2.8,
            "count": 0
           },
           {
            "bin_start": 2.8,
            "bin_end": 2.9,
            "count": 0
           },
           {
            "bin_start": 2.9,
            "bin_end": 3,
            "count": 4
           }
          ]
         }
        },
        {
         "name": "Name",
         "dtype": "object",
         "stats": {
          "unique_count": 5,
          "nan_count": 0,
          "categories": [
           {
            "name": "Kelly, Mr. James",
            "count": 1
           },
           {
            "name": "Wilkes, Mrs. James (Ellen Needs)",
            "count": 1
           },
           {
            "name": "3 others",
            "count": 3
           }
          ]
         }
        },
        {
         "name": "Sex",
         "dtype": "object",
         "stats": {
          "unique_count": 2,
          "nan_count": 0,
          "categories": [
           {
            "name": "male",
            "count": 3
           },
           {
            "name": "female",
            "count": 2
           }
          ]
         }
        },
        {
         "name": "Age",
         "dtype": "float64",
         "stats": {
          "unique_count": 5,
          "nan_count": 0,
          "min": "22.0",
          "max": "62.0",
          "histogram": [
           {
            "bin_start": 22,
            "bin_end": 26,
            "count": 1
           },
           {
            "bin_start": 26,
            "bin_end": 30,
            "count": 1
           },
           {
            "bin_start": 30,
            "bin_end": 34,
            "count": 0
           },
           {
            "bin_start": 34,
            "bin_end": 38,
            "count": 1
           },
           {
            "bin_start": 38,
            "bin_end": 42,
            "count": 0
           },
           {
            "bin_start": 42,
            "bin_end": 46,
            "count": 0
           },
           {
            "bin_start": 46,
            "bin_end": 50,
            "count": 1
           },
           {
            "bin_start": 50,
            "bin_end": 54,
            "count": 0
           },
           {
            "bin_start": 54,
            "bin_end": 58,
            "count": 0
           },
           {
            "bin_start": 58,
            "bin_end": 62,
            "count": 1
           }
          ]
         }
        },
        {
         "name": "SibSp",
         "dtype": "int64",
         "stats": {
          "unique_count": 2,
          "nan_count": 0,
          "min": "0",
          "max": "1",
          "histogram": [
           {
            "bin_start": 0,
            "bin_end": 0.1,
            "count": 3
           },
           {
            "bin_start": 0.1,
            "bin_end": 0.2,
            "count": 0
           },
           {
            "bin_start": 0.2,
            "bin_end": 0.30000000000000004,
            "count": 0
           },
           {
            "bin_start": 0.30000000000000004,
            "bin_end": 0.4,
            "count": 0
           },
           {
            "bin_start": 0.4,
            "bin_end": 0.5,
            "count": 0
           },
           {
            "bin_start": 0.5,
            "bin_end": 0.6000000000000001,
            "count": 0
           },
           {
            "bin_start": 0.6000000000000001,
            "bin_end": 0.7000000000000001,
            "count": 0
           },
           {
            "bin_start": 0.7000000000000001,
            "bin_end": 0.8,
            "count": 0
           },
           {
            "bin_start": 0.8,
            "bin_end": 0.9,
            "count": 0
           },
           {
            "bin_start": 0.9,
            "bin_end": 1,
            "count": 2
           }
          ]
         }
        },
        {
         "name": "Parch",
         "dtype": "int64",
         "stats": {
          "unique_count": 2,
          "nan_count": 0,
          "min": "0",
          "max": "1",
          "histogram": [
           {
            "bin_start": 0,
            "bin_end": 0.1,
            "count": 4
           },
           {
            "bin_start": 0.1,
            "bin_end": 0.2,
            "count": 0
           },
           {
            "bin_start": 0.2,
            "bin_end": 0.30000000000000004,
            "count": 0
           },
           {
            "bin_start": 0.30000000000000004,
            "bin_end": 0.4,
            "count": 0
           },
           {
            "bin_start": 0.4,
            "bin_end": 0.5,
            "count": 0
           },
           {
            "bin_start": 0.5,
            "bin_end": 0.6000000000000001,
            "count": 0
           },
           {
            "bin_start": 0.6000000000000001,
            "bin_end": 0.7000000000000001,
            "count": 0
           },
           {
            "bin_start": 0.7000000000000001,
            "bin_end": 0.8,
            "count": 0
           },
           {
            "bin_start": 0.8,
            "bin_end": 0.9,
            "count": 0
           },
           {
            "bin_start": 0.9,
            "bin_end": 1,
            "count": 1
           }
          ]
         }
        },
        {
         "name": "Ticket",
         "dtype": "object",
         "stats": {
          "unique_count": 5,
          "nan_count": 0,
          "categories": [
           {
            "name": "330911",
            "count": 1
           },
           {
            "name": "363272",
            "count": 1
           },
           {
            "name": "3 others",
            "count": 3
           }
          ]
         }
        },
        {
         "name": "Fare",
         "dtype": "float64",
         "stats": {
          "unique_count": 5,
          "nan_count": 0,
          "min": "7.0",
          "max": "12.2875",
          "histogram": [
           {
            "bin_start": 7,
            "bin_end": 7.52875,
            "count": 1
           },
           {
            "bin_start": 7.52875,
            "bin_end": 8.0575,
            "count": 1
           },
           {
            "bin_start": 8.0575,
            "bin_end": 8.58625,
            "count": 0
           },
           {
            "bin_start": 8.58625,
            "bin_end": 9.115,
            "count": 1
           },
           {
            "bin_start": 9.115,
            "bin_end": 9.64375,
            "count": 0
           },
           {
            "bin_start": 9.64375,
            "bin_end": 10.1725,
            "count": 1
           },
           {
            "bin_start": 10.1725,
            "bin_end": 10.70125,
            "count": 0
           },
           {
            "bin_start": 10.70125,
            "bin_end": 11.23,
            "count": 0
           },
           {
            "bin_start": 11.23,
            "bin_end": 11.75875,
            "count": 0
           },
           {
            "bin_start": 11.75875,
            "bin_end": 12.2875,
            "count": 1
           }
          ]
         }
        },
        {
         "name": "Cabin",
         "dtype": "object",
         "stats": {
          "unique_count": 0,
          "nan_count": 5,
          "categories": [
           {
            "name": "Missing",
            "count": 5
           }
          ]
         }
        },
        {
         "name": "Embarked",
         "dtype": "object",
         "stats": {
          "unique_count": 2,
          "nan_count": 0,
          "categories": [
           {
            "name": "S",
            "count": 3
           },
           {
            "name": "Q",
            "count": 2
           }
          ]
         }
        },
        {
         "name": "_deepnote_index_column",
         "dtype": "int64"
        }
       ],
       "rows": [
        {
         "PassengerId": 892,
         "Pclass": 3,
         "Name": "Kelly, Mr. James",
         "Sex": "male",
         "Age": 34.5,
         "SibSp": 0,
         "Parch": 0,
         "Ticket": "330911",
         "Fare": 7.8292,
         "Cabin": "nan",
         "Embarked": "Q",
         "_deepnote_index_column": 0
        },
        {
         "PassengerId": 893,
         "Pclass": 3,
         "Name": "Wilkes, Mrs. James (Ellen Needs)",
         "Sex": "female",
         "Age": 47,
         "SibSp": 1,
         "Parch": 0,
         "Ticket": "363272",
         "Fare": 7,
         "Cabin": "nan",
         "Embarked": "S",
         "_deepnote_index_column": 1
        },
        {
         "PassengerId": 894,
         "Pclass": 2,
         "Name": "Myles, Mr. Thomas Francis",
         "Sex": "male",
         "Age": 62,
         "SibSp": 0,
         "Parch": 0,
         "Ticket": "240276",
         "Fare": 9.6875,
         "Cabin": "nan",
         "Embarked": "Q",
         "_deepnote_index_column": 2
        },
        {
         "PassengerId": 895,
         "Pclass": 3,
         "Name": "Wirz, Mr. Albert",
         "Sex": "male",
         "Age": 27,
         "SibSp": 0,
         "Parch": 0,
         "Ticket": "315154",
         "Fare": 8.6625,
         "Cabin": "nan",
         "Embarked": "S",
         "_deepnote_index_column": 3
        },
        {
         "PassengerId": 896,
         "Pclass": 3,
         "Name": "Hirvonen, Mrs. Alexander (Helga E Lindqvist)",
         "Sex": "female",
         "Age": 22,
         "SibSp": 1,
         "Parch": 1,
         "Ticket": "3101298",
         "Fare": 12.2875,
         "Cabin": "nan",
         "Embarked": "S",
         "_deepnote_index_column": 4
        }
       ]
      },
      "text/plain": "   PassengerId  Pclass                                          Name     Sex  \\\n0          892       3                              Kelly, Mr. James    male   \n1          893       3              Wilkes, Mrs. James (Ellen Needs)  female   \n2          894       2                     Myles, Mr. Thomas Francis    male   \n3          895       3                              Wirz, Mr. Albert    male   \n4          896       3  Hirvonen, Mrs. Alexander (Helga E Lindqvist)  female   \n\n    Age  SibSp  Parch   Ticket     Fare Cabin Embarked  \n0  34.5      0      0   330911   7.8292   NaN        Q  \n1  47.0      1      0   363272   7.0000   NaN        S  \n2  62.0      0      0   240276   9.6875   NaN        Q  \n3  27.0      0      0   315154   8.6625   NaN        S  \n4  22.0      1      1  3101298  12.2875   NaN        S  ",
      "text/html": "<div>\n<style scoped>\n    .dataframe tbody tr th:only-of-type {\n        vertical-align: middle;\n    }\n\n    .dataframe tbody tr th {\n        vertical-align: top;\n    }\n\n    .dataframe thead th {\n        text-align: right;\n    }\n</style>\n<table border=\"1\" class=\"dataframe\">\n  <thead>\n    <tr style=\"text-align: right;\">\n      <th></th>\n      <th>PassengerId</th>\n      <th>Pclass</th>\n      <th>Name</th>\n      <th>Sex</th>\n      <th>Age</th>\n      <th>SibSp</th>\n      <th>Parch</th>\n      <th>Ticket</th>\n      <th>Fare</th>\n      <th>Cabin</th>\n      <th>Embarked</th>\n    </tr>\n  </thead>\n  <tbody>\n    <tr>\n      <th>0</th>\n      <td>892</td>\n      <td>3</td>\n      <td>Kelly, Mr. James</td>\n      <td>male</td>\n      <td>34.5</td>\n      <td>0</td>\n      <td>0</td>\n      <td>330911</td>\n      <td>7.8292</td>\n      <td>NaN</td>\n      <td>Q</td>\n    </tr>\n    <tr>\n      <th>1</th>\n      <td>893</td>\n      <td>3</td>\n      <td>Wilkes, Mrs. James (Ellen Needs)</td>\n      <td>female</td>\n      <td>47.0</td>\n      <td>1</td>\n      <td>0</td>\n      <td>363272</td>\n      <td>7.0000</td>\n      <td>NaN</td>\n      <td>S</td>\n    </tr>\n    <tr>\n      <th>2</th>\n      <td>894</td>\n      <td>2</td>\n      <td>Myles, Mr. Thomas Francis</td>\n      <td>male</td>\n      <td>62.0</td>\n      <td>0</td>\n      <td>0</td>\n      <td>240276</td>\n      <td>9.6875</td>\n      <td>NaN</td>\n      <td>Q</td>\n    </tr>\n    <tr>\n      <th>3</th>\n      <td>895</td>\n      <td>3</td>\n      <td>Wirz, Mr. Albert</td>\n      <td>male</td>\n      <td>27.0</td>\n      <td>0</td>\n      <td>0</td>\n      <td>315154</td>\n      <td>8.6625</td>\n      <td>NaN</td>\n      <td>S</td>\n    </tr>\n    <tr>\n      <th>4</th>\n      <td>896</td>\n      <td>3</td>\n      <td>Hirvonen, Mrs. Alexander (Helga E Lindqvist)</td>\n      <td>female</td>\n      <td>22.0</td>\n      <td>1</td>\n      <td>1</td>\n      <td>3101298</td>\n      <td>12.2875</td>\n      <td>NaN</td>\n      <td>S</td>\n    </tr>\n  </tbody>\n</table>\n</div>"
     },
     "metadata": {}
    }
   ]
  },
  {
   "cell_type": "code",
   "metadata": {
    "tags": [],
    "cell_id": "00006-d7c4338a-ca12-46d6-8aef-d611309fef23",
    "deepnote_to_be_reexecuted": false,
    "source_hash": "677a0de0",
    "execution_start": 1641984340776,
    "execution_millis": 11,
    "deepnote_cell_type": "code"
   },
   "source": "print(df_train.info())\nprint(df_test.info())",
   "execution_count": null,
   "outputs": [
    {
     "name": "stdout",
     "text": "<class 'pandas.core.frame.DataFrame'>\nRangeIndex: 891 entries, 0 to 890\nData columns (total 12 columns):\n #   Column       Non-Null Count  Dtype  \n---  ------       --------------  -----  \n 0   PassengerId  891 non-null    int64  \n 1   Survived     891 non-null    int64  \n 2   Pclass       891 non-null    int64  \n 3   Name         891 non-null    object \n 4   Sex          891 non-null    object \n 5   Age          714 non-null    float64\n 6   SibSp        891 non-null    int64  \n 7   Parch        891 non-null    int64  \n 8   Ticket       891 non-null    object \n 9   Fare         891 non-null    float64\n 10  Cabin        204 non-null    object \n 11  Embarked     889 non-null    object \ndtypes: float64(2), int64(5), object(5)\nmemory usage: 83.7+ KB\nNone\n<class 'pandas.core.frame.DataFrame'>\nRangeIndex: 418 entries, 0 to 417\nData columns (total 11 columns):\n #   Column       Non-Null Count  Dtype  \n---  ------       --------------  -----  \n 0   PassengerId  418 non-null    int64  \n 1   Pclass       418 non-null    int64  \n 2   Name         418 non-null    object \n 3   Sex          418 non-null    object \n 4   Age          332 non-null    float64\n 5   SibSp        418 non-null    int64  \n 6   Parch        418 non-null    int64  \n 7   Ticket       418 non-null    object \n 8   Fare         417 non-null    float64\n 9   Cabin        91 non-null     object \n 10  Embarked     418 non-null    object \ndtypes: float64(2), int64(4), object(5)\nmemory usage: 36.0+ KB\nNone\n",
     "output_type": "stream",
     "data": {}
    }
   ]
  },
  {
   "cell_type": "code",
   "metadata": {
    "tags": [],
    "cell_id": "00007-d3774fff-cdb2-4ddb-b86c-f4aaca9aa05b",
    "deepnote_to_be_reexecuted": false,
    "source_hash": "57e08d74",
    "execution_start": 1641984340843,
    "execution_millis": 42,
    "deepnote_cell_type": "code"
   },
   "source": "df_train.describe()\n#df_test.describe()",
   "execution_count": null,
   "outputs": [
    {
     "output_type": "execute_result",
     "execution_count": 6,
     "data": {
      "application/vnd.deepnote.dataframe.v3+json": {
       "column_count": 7,
       "row_count": 8,
       "columns": [
        {
         "name": "PassengerId",
         "dtype": "float64",
         "stats": {
          "unique_count": 6,
          "nan_count": 0,
          "min": "1.0",
          "max": "891.0",
          "histogram": [
           {
            "bin_start": 1,
            "bin_end": 90,
            "count": 1
           },
           {
            "bin_start": 90,
            "bin_end": 179,
            "count": 0
           },
           {
            "bin_start": 179,
            "bin_end": 268,
            "count": 2
           },
           {
            "bin_start": 268,
            "bin_end": 357,
            "count": 0
           },
           {
            "bin_start": 357,
            "bin_end": 446,
            "count": 0
           },
           {
            "bin_start": 446,
            "bin_end": 535,
            "count": 2
           },
           {
            "bin_start": 535,
            "bin_end": 624,
            "count": 0
           },
           {
            "bin_start": 624,
            "bin_end": 713,
            "count": 1
           },
           {
            "bin_start": 713,
            "bin_end": 802,
            "count": 0
           },
           {
            "bin_start": 802,
            "bin_end": 891,
            "count": 2
           }
          ]
         }
        },
        {
         "name": "Survived",
         "dtype": "float64",
         "stats": {
          "unique_count": 5,
          "nan_count": 0,
          "min": "0.0",
          "max": "891.0",
          "histogram": [
           {
            "bin_start": 0,
            "bin_end": 89.1,
            "count": 7
           },
           {
            "bin_start": 89.1,
            "bin_end": 178.2,
            "count": 0
           },
           {
            "bin_start": 178.2,
            "bin_end": 267.29999999999995,
            "count": 0
           },
           {
            "bin_start": 267.29999999999995,
            "bin_end": 356.4,
            "count": 0
           },
           {
            "bin_start": 356.4,
            "bin_end": 445.5,
            "count": 0
           },
           {
            "bin_start": 445.5,
            "bin_end": 534.5999999999999,
            "count": 0
           },
           {
            "bin_start": 534.5999999999999,
            "bin_end": 623.6999999999999,
            "count": 0
           },
           {
            "bin_start": 623.6999999999999,
            "bin_end": 712.8,
            "count": 0
           },
           {
            "bin_start": 712.8,
            "bin_end": 801.9,
            "count": 0
           },
           {
            "bin_start": 801.9,
            "bin_end": 891,
            "count": 1
           }
          ]
         }
        },
        {
         "name": "Pclass",
         "dtype": "float64",
         "stats": {
          "unique_count": 6,
          "nan_count": 0,
          "min": "0.836071240977049",
          "max": "891.0",
          "histogram": [
           {
            "bin_start": 0.836071240977049,
            "bin_end": 89.85246411687935,
            "count": 7
           },
           {
            "bin_start": 89.85246411687935,
            "bin_end": 178.86885699278164,
            "count": 0
           },
           {
            "bin_start": 178.86885699278164,
            "bin_end": 267.88524986868396,
            "count": 0
           },
           {
            "bin_start": 267.88524986868396,
            "bin_end": 356.90164274458624,
            "count": 0
           },
           {
            "bin_start": 356.90164274458624,
            "bin_end": 445.9180356204885,
            "count": 0
           },
           {
            "bin_start": 445.9180356204885,
            "bin_end": 534.9344284963909,
            "count": 0
           },
           {
            "bin_start": 534.9344284963909,
            "bin_end": 623.9508213722931,
            "count": 0
           },
           {
            "bin_start": 623.9508213722931,
            "bin_end": 712.9672142481954,
            "count": 0
           },
           {
            "bin_start": 712.9672142481954,
            "bin_end": 801.9836071240977,
            "count": 0
           },
           {
            "bin_start": 801.9836071240977,
            "bin_end": 891,
            "count": 1
           }
          ]
         }
        },
        {
         "name": "Age",
         "dtype": "float64",
         "stats": {
          "unique_count": 8,
          "nan_count": 0,
          "min": "0.42",
          "max": "714.0",
          "histogram": [
           {
            "bin_start": 0.42,
            "bin_end": 71.778,
            "count": 6
           },
           {
            "bin_start": 71.778,
            "bin_end": 143.136,
            "count": 1
           },
           {
            "bin_start": 143.136,
            "bin_end": 214.494,
            "count": 0
           },
           {
            "bin_start": 214.494,
            "bin_end": 285.85200000000003,
            "count": 0
           },
           {
            "bin_start": 285.85200000000003,
            "bin_end": 357.21000000000004,
            "count": 0
           },
           {
            "bin_start": 357.21000000000004,
            "bin_end": 428.56800000000004,
            "count": 0
           },
           {
            "bin_start": 428.56800000000004,
            "bin_end": 499.92600000000004,
            "count": 0
           },
           {
            "bin_start": 499.92600000000004,
            "bin_end": 571.284,
            "count": 0
           },
           {
            "bin_start": 571.284,
            "bin_end": 642.6419999999999,
            "count": 0
           },
           {
            "bin_start": 642.6419999999999,
            "bin_end": 714,
            "count": 1
           }
          ]
         }
        },
        {
         "name": "SibSp",
         "dtype": "float64",
         "stats": {
          "unique_count": 6,
          "nan_count": 0,
          "min": "0.0",
          "max": "891.0",
          "histogram": [
           {
            "bin_start": 0,
            "bin_end": 89.1,
            "count": 7
           },
           {
            "bin_start": 89.1,
            "bin_end": 178.2,
            "count": 0
           },
           {
            "bin_start": 178.2,
            "bin_end": 267.29999999999995,
            "count": 0
           },
           {
            "bin_start": 267.29999999999995,
            "bin_end": 356.4,
            "count": 0
           },
           {
            "bin_start": 356.4,
            "bin_end": 445.5,
            "count": 0
           },
           {
            "bin_start": 445.5,
            "bin_end": 534.5999999999999,
            "count": 0
           },
           {
            "bin_start": 534.5999999999999,
            "bin_end": 623.6999999999999,
            "count": 0
           },
           {
            "bin_start": 623.6999999999999,
            "bin_end": 712.8,
            "count": 0
           },
           {
            "bin_start": 712.8,
            "bin_end": 801.9,
            "count": 0
           },
           {
            "bin_start": 801.9,
            "bin_end": 891,
            "count": 1
           }
          ]
         }
        },
        {
         "name": "Parch",
         "dtype": "float64",
         "stats": {
          "unique_count": 5,
          "nan_count": 0,
          "min": "0.0",
          "max": "891.0",
          "histogram": [
           {
            "bin_start": 0,
            "bin_end": 89.1,
            "count": 7
           },
           {
            "bin_start": 89.1,
            "bin_end": 178.2,
            "count": 0
           },
           {
            "bin_start": 178.2,
            "bin_end": 267.29999999999995,
            "count": 0
           },
           {
            "bin_start": 267.29999999999995,
            "bin_end": 356.4,
            "count": 0
           },
           {
            "bin_start": 356.4,
            "bin_end": 445.5,
            "count": 0
           },
           {
            "bin_start": 445.5,
            "bin_end": 534.5999999999999,
            "count": 0
           },
           {
            "bin_start": 534.5999999999999,
            "bin_end": 623.6999999999999,
            "count": 0
           },
           {
            "bin_start": 623.6999999999999,
            "bin_end": 712.8,
            "count": 0
           },
           {
            "bin_start": 712.8,
            "bin_end": 801.9,
            "count": 0
           },
           {
            "bin_start": 801.9,
            "bin_end": 891,
            "count": 1
           }
          ]
         }
        },
        {
         "name": "Fare",
         "dtype": "float64",
         "stats": {
          "unique_count": 8,
          "nan_count": 0,
          "min": "0.0",
          "max": "891.0",
          "histogram": [
           {
            "bin_start": 0,
            "bin_end": 89.1,
            "count": 6
           },
           {
            "bin_start": 89.1,
            "bin_end": 178.2,
            "count": 0
           },
           {
            "bin_start": 178.2,
            "bin_end": 267.29999999999995,
            "count": 0
           },
           {
            "bin_start": 267.29999999999995,
            "bin_end": 356.4,
            "count": 0
           },
           {
            "bin_start": 356.4,
            "bin_end": 445.5,
            "count": 0
           },
           {
            "bin_start": 445.5,
            "bin_end": 534.5999999999999,
            "count": 1
           },
           {
            "bin_start": 534.5999999999999,
            "bin_end": 623.6999999999999,
            "count": 0
           },
           {
            "bin_start": 623.6999999999999,
            "bin_end": 712.8,
            "count": 0
           },
           {
            "bin_start": 712.8,
            "bin_end": 801.9,
            "count": 0
           },
           {
            "bin_start": 801.9,
            "bin_end": 891,
            "count": 1
           }
          ]
         }
        },
        {
         "name": "_deepnote_index_column",
         "dtype": "object"
        }
       ],
       "rows": [
        {
         "PassengerId": 891,
         "Survived": 891,
         "Pclass": 891,
         "Age": 714,
         "SibSp": 891,
         "Parch": 891,
         "Fare": 891,
         "_deepnote_index_column": "count"
        },
        {
         "PassengerId": 446,
         "Survived": 0.3838383838383838,
         "Pclass": 2.308641975308642,
         "Age": 29.69911764705882,
         "SibSp": 0.5230078563411896,
         "Parch": 0.38159371492704824,
         "Fare": 32.204207968574636,
         "_deepnote_index_column": "mean"
        },
        {
         "PassengerId": 257.3538420152301,
         "Survived": 0.4865924542648575,
         "Pclass": 0.836071240977049,
         "Age": 14.526497332334042,
         "SibSp": 1.1027434322934317,
         "Parch": 0.8060572211299483,
         "Fare": 49.6934285971809,
         "_deepnote_index_column": "std"
        },
        {
         "PassengerId": 1,
         "Survived": 0,
         "Pclass": 1,
         "Age": 0.42,
         "SibSp": 0,
         "Parch": 0,
         "Fare": 0,
         "_deepnote_index_column": "min"
        },
        {
         "PassengerId": 223.5,
         "Survived": 0,
         "Pclass": 2,
         "Age": 20.125,
         "SibSp": 0,
         "Parch": 0,
         "Fare": 7.9104,
         "_deepnote_index_column": "25%"
        },
        {
         "PassengerId": 446,
         "Survived": 0,
         "Pclass": 3,
         "Age": 28,
         "SibSp": 0,
         "Parch": 0,
         "Fare": 14.4542,
         "_deepnote_index_column": "50%"
        },
        {
         "PassengerId": 668.5,
         "Survived": 1,
         "Pclass": 3,
         "Age": 38,
         "SibSp": 1,
         "Parch": 0,
         "Fare": 31,
         "_deepnote_index_column": "75%"
        },
        {
         "PassengerId": 891,
         "Survived": 1,
         "Pclass": 3,
         "Age": 80,
         "SibSp": 8,
         "Parch": 6,
         "Fare": 512.3292,
         "_deepnote_index_column": "max"
        }
       ]
      },
      "text/plain": "       PassengerId    Survived      Pclass         Age       SibSp  \\\ncount   891.000000  891.000000  891.000000  714.000000  891.000000   \nmean    446.000000    0.383838    2.308642   29.699118    0.523008   \nstd     257.353842    0.486592    0.836071   14.526497    1.102743   \nmin       1.000000    0.000000    1.000000    0.420000    0.000000   \n25%     223.500000    0.000000    2.000000   20.125000    0.000000   \n50%     446.000000    0.000000    3.000000   28.000000    0.000000   \n75%     668.500000    1.000000    3.000000   38.000000    1.000000   \nmax     891.000000    1.000000    3.000000   80.000000    8.000000   \n\n            Parch        Fare  \ncount  891.000000  891.000000  \nmean     0.381594   32.204208  \nstd      0.806057   49.693429  \nmin      0.000000    0.000000  \n25%      0.000000    7.910400  \n50%      0.000000   14.454200  \n75%      0.000000   31.000000  \nmax      6.000000  512.329200  ",
      "text/html": "<div>\n<style scoped>\n    .dataframe tbody tr th:only-of-type {\n        vertical-align: middle;\n    }\n\n    .dataframe tbody tr th {\n        vertical-align: top;\n    }\n\n    .dataframe thead th {\n        text-align: right;\n    }\n</style>\n<table border=\"1\" class=\"dataframe\">\n  <thead>\n    <tr style=\"text-align: right;\">\n      <th></th>\n      <th>PassengerId</th>\n      <th>Survived</th>\n      <th>Pclass</th>\n      <th>Age</th>\n      <th>SibSp</th>\n      <th>Parch</th>\n      <th>Fare</th>\n    </tr>\n  </thead>\n  <tbody>\n    <tr>\n      <th>count</th>\n      <td>891.000000</td>\n      <td>891.000000</td>\n      <td>891.000000</td>\n      <td>714.000000</td>\n      <td>891.000000</td>\n      <td>891.000000</td>\n      <td>891.000000</td>\n    </tr>\n    <tr>\n      <th>mean</th>\n      <td>446.000000</td>\n      <td>0.383838</td>\n      <td>2.308642</td>\n      <td>29.699118</td>\n      <td>0.523008</td>\n      <td>0.381594</td>\n      <td>32.204208</td>\n    </tr>\n    <tr>\n      <th>std</th>\n      <td>257.353842</td>\n      <td>0.486592</td>\n      <td>0.836071</td>\n      <td>14.526497</td>\n      <td>1.102743</td>\n      <td>0.806057</td>\n      <td>49.693429</td>\n    </tr>\n    <tr>\n      <th>min</th>\n      <td>1.000000</td>\n      <td>0.000000</td>\n      <td>1.000000</td>\n      <td>0.420000</td>\n      <td>0.000000</td>\n      <td>0.000000</td>\n      <td>0.000000</td>\n    </tr>\n    <tr>\n      <th>25%</th>\n      <td>223.500000</td>\n      <td>0.000000</td>\n      <td>2.000000</td>\n      <td>20.125000</td>\n      <td>0.000000</td>\n      <td>0.000000</td>\n      <td>7.910400</td>\n    </tr>\n    <tr>\n      <th>50%</th>\n      <td>446.000000</td>\n      <td>0.000000</td>\n      <td>3.000000</td>\n      <td>28.000000</td>\n      <td>0.000000</td>\n      <td>0.000000</td>\n      <td>14.454200</td>\n    </tr>\n    <tr>\n      <th>75%</th>\n      <td>668.500000</td>\n      <td>1.000000</td>\n      <td>3.000000</td>\n      <td>38.000000</td>\n      <td>1.000000</td>\n      <td>0.000000</td>\n      <td>31.000000</td>\n    </tr>\n    <tr>\n      <th>max</th>\n      <td>891.000000</td>\n      <td>1.000000</td>\n      <td>3.000000</td>\n      <td>80.000000</td>\n      <td>8.000000</td>\n      <td>6.000000</td>\n      <td>512.329200</td>\n    </tr>\n  </tbody>\n</table>\n</div>"
     },
     "metadata": {}
    }
   ]
  },
  {
   "cell_type": "code",
   "metadata": {
    "tags": [],
    "cell_id": "00008-efca5c8c-98c2-4db5-bb36-cb32c8bfbe93",
    "deepnote_to_be_reexecuted": false,
    "source_hash": "b094a917",
    "execution_start": 1641984340893,
    "execution_millis": 74,
    "deepnote_cell_type": "code"
   },
   "source": "df_test.describe()",
   "execution_count": null,
   "outputs": [
    {
     "output_type": "execute_result",
     "execution_count": 7,
     "data": {
      "application/vnd.deepnote.dataframe.v3+json": {
       "column_count": 6,
       "row_count": 8,
       "columns": [
        {
         "name": "PassengerId",
         "dtype": "float64",
         "stats": {
          "unique_count": 7,
          "nan_count": 0,
          "min": "120.81045760473994",
          "max": "1309.0",
          "histogram": [
           {
            "bin_start": 120.81045760473994,
            "bin_end": 239.62941184426595,
            "count": 1
           },
           {
            "bin_start": 239.62941184426595,
            "bin_end": 358.44836608379194,
            "count": 0
           },
           {
            "bin_start": 358.44836608379194,
            "bin_end": 477.26732032331796,
            "count": 1
           },
           {
            "bin_start": 477.26732032331796,
            "bin_end": 596.086274562844,
            "count": 0
           },
           {
            "bin_start": 596.086274562844,
            "bin_end": 714.90522880237,
            "count": 0
           },
           {
            "bin_start": 714.90522880237,
            "bin_end": 833.7241830418959,
            "count": 0
           },
           {
            "bin_start": 833.7241830418959,
            "bin_end": 952.543137281422,
            "count": 1
           },
           {
            "bin_start": 952.543137281422,
            "bin_end": 1071.362091520948,
            "count": 1
           },
           {
            "bin_start": 1071.362091520948,
            "bin_end": 1190.181045760474,
            "count": 2
           },
           {
            "bin_start": 1190.181045760474,
            "bin_end": 1309,
            "count": 2
           }
          ]
         }
        },
        {
         "name": "Pclass",
         "dtype": "float64",
         "stats": {
          "unique_count": 5,
          "nan_count": 0,
          "min": "0.8418375519640503",
          "max": "418.0",
          "histogram": [
           {
            "bin_start": 0.8418375519640503,
            "bin_end": 42.557653796767646,
            "count": 7
           },
           {
            "bin_start": 42.557653796767646,
            "bin_end": 84.27347004157124,
            "count": 0
           },
           {
            "bin_start": 84.27347004157124,
            "bin_end": 125.98928628637485,
            "count": 0
           },
           {
            "bin_start": 125.98928628637485,
            "bin_end": 167.70510253117845,
            "count": 0
           },
           {
            "bin_start": 167.70510253117845,
            "bin_end": 209.42091877598205,
            "count": 0
           },
           {
            "bin_start": 209.42091877598205,
            "bin_end": 251.13673502078566,
            "count": 0
           },
           {
            "bin_start": 251.13673502078566,
            "bin_end": 292.8525512655892,
            "count": 0
           },
           {
            "bin_start": 292.8525512655892,
            "bin_end": 334.5683675103928,
            "count": 0
           },
           {
            "bin_start": 334.5683675103928,
            "bin_end": 376.2841837551964,
            "count": 0
           },
           {
            "bin_start": 376.2841837551964,
            "bin_end": 418,
            "count": 1
           }
          ]
         }
        },
        {
         "name": "Age",
         "dtype": "float64",
         "stats": {
          "unique_count": 8,
          "nan_count": 0,
          "min": "0.17",
          "max": "332.0",
          "histogram": [
           {
            "bin_start": 0.17,
            "bin_end": 33.353,
            "count": 5
           },
           {
            "bin_start": 33.353,
            "bin_end": 66.536,
            "count": 1
           },
           {
            "bin_start": 66.536,
            "bin_end": 99.71900000000001,
            "count": 1
           },
           {
            "bin_start": 99.71900000000001,
            "bin_end": 132.902,
            "count": 0
           },
           {
            "bin_start": 132.902,
            "bin_end": 166.08499999999998,
            "count": 0
           },
           {
            "bin_start": 166.08499999999998,
            "bin_end": 199.268,
            "count": 0
           },
           {
            "bin_start": 199.268,
            "bin_end": 232.451,
            "count": 0
           },
           {
            "bin_start": 232.451,
            "bin_end": 265.634,
            "count": 0
           },
           {
            "bin_start": 265.634,
            "bin_end": 298.817,
            "count": 0
           },
           {
            "bin_start": 298.817,
            "bin_end": 332,
            "count": 1
           }
          ]
         }
        },
        {
         "name": "SibSp",
         "dtype": "float64",
         "stats": {
          "unique_count": 6,
          "nan_count": 0,
          "min": "0.0",
          "max": "418.0",
          "histogram": [
           {
            "bin_start": 0,
            "bin_end": 41.8,
            "count": 7
           },
           {
            "bin_start": 41.8,
            "bin_end": 83.6,
            "count": 0
           },
           {
            "bin_start": 83.6,
            "bin_end": 125.39999999999999,
            "count": 0
           },
           {
            "bin_start": 125.39999999999999,
            "bin_end": 167.2,
            "count": 0
           },
           {
            "bin_start": 167.2,
            "bin_end": 209,
            "count": 0
           },
           {
            "bin_start": 209,
            "bin_end": 250.79999999999998,
            "count": 0
           },
           {
            "bin_start": 250.79999999999998,
            "bin_end": 292.59999999999997,
            "count": 0
           },
           {
            "bin_start": 292.59999999999997,
            "bin_end": 334.4,
            "count": 0
           },
           {
            "bin_start": 334.4,
            "bin_end": 376.2,
            "count": 0
           },
           {
            "bin_start": 376.2,
            "bin_end": 418,
            "count": 1
           }
          ]
         }
        },
        {
         "name": "Parch",
         "dtype": "float64",
         "stats": {
          "unique_count": 5,
          "nan_count": 0,
          "min": "0.0",
          "max": "418.0",
          "histogram": [
           {
            "bin_start": 0,
            "bin_end": 41.8,
            "count": 7
           },
           {
            "bin_start": 41.8,
            "bin_end": 83.6,
            "count": 0
           },
           {
            "bin_start": 83.6,
            "bin_end": 125.39999999999999,
            "count": 0
           },
           {
            "bin_start": 125.39999999999999,
            "bin_end": 167.2,
            "count": 0
           },
           {
            "bin_start": 167.2,
            "bin_end": 209,
            "count": 0
           },
           {
            "bin_start": 209,
            "bin_end": 250.79999999999998,
            "count": 0
           },
           {
            "bin_start": 250.79999999999998,
            "bin_end": 292.59999999999997,
            "count": 0
           },
           {
            "bin_start": 292.59999999999997,
            "bin_end": 334.4,
            "count": 0
           },
           {
            "bin_start": 334.4,
            "bin_end": 376.2,
            "count": 0
           },
           {
            "bin_start": 376.2,
            "bin_end": 418,
            "count": 1
           }
          ]
         }
        },
        {
         "name": "Fare",
         "dtype": "float64",
         "stats": {
          "unique_count": 8,
          "nan_count": 0,
          "min": "0.0",
          "max": "512.3292",
          "histogram": [
           {
            "bin_start": 0,
            "bin_end": 51.23292,
            "count": 5
           },
           {
            "bin_start": 51.23292,
            "bin_end": 102.46584,
            "count": 1
           },
           {
            "bin_start": 102.46584,
            "bin_end": 153.69876,
            "count": 0
           },
           {
            "bin_start": 153.69876,
            "bin_end": 204.93168,
            "count": 0
           },
           {
            "bin_start": 204.93168,
            "bin_end": 256.1646,
            "count": 0
           },
           {
            "bin_start": 256.1646,
            "bin_end": 307.39752,
            "count": 0
           },
           {
            "bin_start": 307.39752,
            "bin_end": 358.63044,
            "count": 0
           },
           {
            "bin_start": 358.63044,
            "bin_end": 409.86336,
            "count": 0
           },
           {
            "bin_start": 409.86336,
            "bin_end": 461.09628,
            "count": 1
           },
           {
            "bin_start": 461.09628,
            "bin_end": 512.3292,
            "count": 1
           }
          ]
         }
        },
        {
         "name": "_deepnote_index_column",
         "dtype": "object"
        }
       ],
       "rows": [
        {
         "PassengerId": 418,
         "Pclass": 418,
         "Age": 332,
         "SibSp": 418,
         "Parch": 418,
         "Fare": 417,
         "_deepnote_index_column": "count"
        },
        {
         "PassengerId": 1100.5,
         "Pclass": 2.2655502392344498,
         "Age": 30.272590361445783,
         "SibSp": 0.4473684210526316,
         "Parch": 0.3923444976076555,
         "Fare": 35.627188489208635,
         "_deepnote_index_column": "mean"
        },
        {
         "PassengerId": 120.81045760473994,
         "Pclass": 0.8418375519640503,
         "Age": 14.181209235624422,
         "SibSp": 0.8967595611217135,
         "Parch": 0.9814288785371691,
         "Fare": 55.907576179973844,
         "_deepnote_index_column": "std"
        },
        {
         "PassengerId": 892,
         "Pclass": 1,
         "Age": 0.17,
         "SibSp": 0,
         "Parch": 0,
         "Fare": 0,
         "_deepnote_index_column": "min"
        },
        {
         "PassengerId": 996.25,
         "Pclass": 1,
         "Age": 21,
         "SibSp": 0,
         "Parch": 0,
         "Fare": 7.8958,
         "_deepnote_index_column": "25%"
        },
        {
         "PassengerId": 1100.5,
         "Pclass": 3,
         "Age": 27,
         "SibSp": 0,
         "Parch": 0,
         "Fare": 14.4542,
         "_deepnote_index_column": "50%"
        },
        {
         "PassengerId": 1204.75,
         "Pclass": 3,
         "Age": 39,
         "SibSp": 1,
         "Parch": 0,
         "Fare": 31.5,
         "_deepnote_index_column": "75%"
        },
        {
         "PassengerId": 1309,
         "Pclass": 3,
         "Age": 76,
         "SibSp": 8,
         "Parch": 9,
         "Fare": 512.3292,
         "_deepnote_index_column": "max"
        }
       ]
      },
      "text/plain": "       PassengerId      Pclass         Age       SibSp       Parch        Fare\ncount   418.000000  418.000000  332.000000  418.000000  418.000000  417.000000\nmean   1100.500000    2.265550   30.272590    0.447368    0.392344   35.627188\nstd     120.810458    0.841838   14.181209    0.896760    0.981429   55.907576\nmin     892.000000    1.000000    0.170000    0.000000    0.000000    0.000000\n25%     996.250000    1.000000   21.000000    0.000000    0.000000    7.895800\n50%    1100.500000    3.000000   27.000000    0.000000    0.000000   14.454200\n75%    1204.750000    3.000000   39.000000    1.000000    0.000000   31.500000\nmax    1309.000000    3.000000   76.000000    8.000000    9.000000  512.329200",
      "text/html": "<div>\n<style scoped>\n    .dataframe tbody tr th:only-of-type {\n        vertical-align: middle;\n    }\n\n    .dataframe tbody tr th {\n        vertical-align: top;\n    }\n\n    .dataframe thead th {\n        text-align: right;\n    }\n</style>\n<table border=\"1\" class=\"dataframe\">\n  <thead>\n    <tr style=\"text-align: right;\">\n      <th></th>\n      <th>PassengerId</th>\n      <th>Pclass</th>\n      <th>Age</th>\n      <th>SibSp</th>\n      <th>Parch</th>\n      <th>Fare</th>\n    </tr>\n  </thead>\n  <tbody>\n    <tr>\n      <th>count</th>\n      <td>418.000000</td>\n      <td>418.000000</td>\n      <td>332.000000</td>\n      <td>418.000000</td>\n      <td>418.000000</td>\n      <td>417.000000</td>\n    </tr>\n    <tr>\n      <th>mean</th>\n      <td>1100.500000</td>\n      <td>2.265550</td>\n      <td>30.272590</td>\n      <td>0.447368</td>\n      <td>0.392344</td>\n      <td>35.627188</td>\n    </tr>\n    <tr>\n      <th>std</th>\n      <td>120.810458</td>\n      <td>0.841838</td>\n      <td>14.181209</td>\n      <td>0.896760</td>\n      <td>0.981429</td>\n      <td>55.907576</td>\n    </tr>\n    <tr>\n      <th>min</th>\n      <td>892.000000</td>\n      <td>1.000000</td>\n      <td>0.170000</td>\n      <td>0.000000</td>\n      <td>0.000000</td>\n      <td>0.000000</td>\n    </tr>\n    <tr>\n      <th>25%</th>\n      <td>996.250000</td>\n      <td>1.000000</td>\n      <td>21.000000</td>\n      <td>0.000000</td>\n      <td>0.000000</td>\n      <td>7.895800</td>\n    </tr>\n    <tr>\n      <th>50%</th>\n      <td>1100.500000</td>\n      <td>3.000000</td>\n      <td>27.000000</td>\n      <td>0.000000</td>\n      <td>0.000000</td>\n      <td>14.454200</td>\n    </tr>\n    <tr>\n      <th>75%</th>\n      <td>1204.750000</td>\n      <td>3.000000</td>\n      <td>39.000000</td>\n      <td>1.000000</td>\n      <td>0.000000</td>\n      <td>31.500000</td>\n    </tr>\n    <tr>\n      <th>max</th>\n      <td>1309.000000</td>\n      <td>3.000000</td>\n      <td>76.000000</td>\n      <td>8.000000</td>\n      <td>9.000000</td>\n      <td>512.329200</td>\n    </tr>\n  </tbody>\n</table>\n</div>"
     },
     "metadata": {}
    }
   ]
  },
  {
   "cell_type": "code",
   "metadata": {
    "tags": [],
    "cell_id": "00009-f0e36219-7175-475f-bfa3-08597070c366",
    "deepnote_to_be_reexecuted": false,
    "source_hash": "455c7b4b",
    "execution_start": 1641984340973,
    "execution_millis": 8,
    "deepnote_output_heights": [
     252
    ],
    "deepnote_cell_type": "code"
   },
   "source": "df_train.isnull().sum()",
   "execution_count": null,
   "outputs": [
    {
     "output_type": "execute_result",
     "execution_count": 8,
     "data": {
      "text/plain": "PassengerId      0\nSurvived         0\nPclass           0\nName             0\nSex              0\nAge            177\nSibSp            0\nParch            0\nTicket           0\nFare             0\nCabin          687\nEmbarked         2\ndtype: int64"
     },
     "metadata": {}
    }
   ]
  },
  {
   "cell_type": "code",
   "metadata": {
    "tags": [],
    "cell_id": "00010-853e345b-5fa9-44fe-baa5-cd7c58a964ce",
    "deepnote_to_be_reexecuted": false,
    "source_hash": "5a27af67",
    "execution_start": 1641984340991,
    "execution_millis": 5,
    "deepnote_output_heights": [
     232
    ],
    "deepnote_cell_type": "code"
   },
   "source": "df_test.isnull().sum()",
   "execution_count": null,
   "outputs": [
    {
     "output_type": "execute_result",
     "execution_count": 9,
     "data": {
      "text/plain": "PassengerId      0\nPclass           0\nName             0\nSex              0\nAge             86\nSibSp            0\nParch            0\nTicket           0\nFare             1\nCabin          327\nEmbarked         0\ndtype: int64"
     },
     "metadata": {}
    }
   ]
  },
  {
   "cell_type": "markdown",
   "source": "Under there is a corrlation matrix and this will show correlation between the different variables. if there is a 100% positive linear correlation or negative correlation.",
   "metadata": {
    "cell_id": "2af0036c-2bc2-4064-ad62-480eb4b26a6a",
    "tags": [],
    "deepnote_cell_type": "markdown"
   }
  },
  {
   "cell_type": "code",
   "metadata": {
    "tags": [],
    "cell_id": "00012-18b518fd-ab2f-4314-a470-1b17447ceaa3",
    "deepnote_to_be_reexecuted": false,
    "source_hash": "559e7178",
    "execution_start": 1641984341045,
    "execution_millis": 1043,
    "deepnote_output_heights": [
     21.199996948242188,
     611
    ],
    "deepnote_cell_type": "code"
   },
   "source": "f, ax = plt.subplots(figsize=(15, 15))\ncorr = df_train.corr()\nsns.heatmap(corr, mask=np.zeros_like(corr, dtype=np.bool), cmap=sns.diverging_palette(220, 10, as_cmap=True),\nsquare=True, ax=ax, annot = True)",
   "execution_count": null,
   "outputs": [
    {
     "output_type": "execute_result",
     "execution_count": 10,
     "data": {
      "text/plain": "<AxesSubplot:>"
     },
     "metadata": {}
    },
    {
     "data": {
      "text/plain": "<Figure size 1080x1080 with 2 Axes>",
      "image/png": "[encoded data removed]"
     },
     "metadata": {
      "image/png": {
       "width": 822,
       "height": 833
      }
     },
     "output_type": "display_data"
    }
   ]
  },
  {
   "cell_type": "markdown",
   "source": "From the fata preparation there are not som many variables correlated, we have some missing values in age and ticket. ",
   "metadata": {
    "cell_id": "611896ef-6f2f-433e-b1ea-9be30b0a16c5",
    "tags": [],
    "deepnote_cell_type": "markdown"
   }
  },
  {
   "cell_type": "markdown",
   "source": "In the EDA (exploritory data analysis) we take a deeper dive into to the variables and try to make some useful plots/ graphs.",
   "metadata": {
    "cell_id": "f3f19fbb-7d8e-46fc-bbef-8eabaabc00ea",
    "tags": [],
    "deepnote_cell_type": "markdown"
   }
  },
  {
   "cell_type": "markdown",
   "source": "# 2. EDA ",
   "metadata": {
    "tags": [],
    "cell_id": "00005-52cdf727-9b65-446b-825b-470fbdb83227",
    "deepnote_cell_type": "markdown"
   }
  },
  {
   "cell_type": "markdown",
   "source": "Looking into the dataset",
   "metadata": {
    "tags": [],
    "cell_id": "00013-a6cc16db-6a44-48eb-80a2-5d77b9c622b9",
    "deepnote_cell_type": "markdown"
   }
  },
  {
   "cell_type": "code",
   "metadata": {
    "tags": [],
    "cell_id": "00013-69d968ee-a726-4a96-bf76-1d41bd855c60",
    "deepnote_to_be_reexecuted": false,
    "source_hash": "10eebcbf",
    "execution_start": 1641984342133,
    "execution_millis": 0,
    "deepnote_cell_type": "code"
   },
   "source": "df_train2 = df_train.copy()\n\ndf_train_ml = df_train.copy()\ndf_test_ml = df_test.copy()",
   "execution_count": null,
   "outputs": []
  },
  {
   "cell_type": "code",
   "metadata": {
    "tags": [],
    "cell_id": "00014-26d5abfb-f3a7-44d0-add5-d7114c32bb38",
    "deepnote_to_be_reexecuted": false,
    "source_hash": "60159e69",
    "execution_start": 1641984342135,
    "execution_millis": 2088,
    "deepnote_output_heights": [
     611
    ],
    "deepnote_cell_type": "code"
   },
   "source": "df_train.hist(figsize=(20,20))\nplt.show()",
   "execution_count": null,
   "outputs": [
    {
     "data": {
      "text/plain": "<Figure size 1440x1440 with 9 Axes>",
      "image/png": "[encoded data removed]"
     },
     "metadata": {
      "image/png": {
       "width": 1160,
       "height": 1137
      }
     },
     "output_type": "display_data"
    }
   ]
  },
  {
   "cell_type": "code",
   "metadata": {
    "tags": [],
    "cell_id": "00015-9dc7a44b-a691-44de-94eb-02945c933d3f",
    "deepnote_to_be_reexecuted": false,
    "source_hash": "a3a17eba",
    "execution_start": 1641984344224,
    "execution_millis": 8,
    "deepnote_output_heights": [
     21
    ],
    "deepnote_cell_type": "code"
   },
   "source": "df_train.Survived.sum()/df_train.Survived.count()",
   "execution_count": null,
   "outputs": [
    {
     "output_type": "execute_result",
     "execution_count": 13,
     "data": {
      "text/plain": "0.3838383838383838"
     },
     "metadata": {}
    }
   ]
  },
  {
   "cell_type": "code",
   "metadata": {
    "tags": [],
    "cell_id": "00015-0a43849e-8c0f-4ae7-8689-90bb6d5555ef",
    "deepnote_to_be_reexecuted": false,
    "source_hash": "a418f143",
    "execution_start": 1641984344234,
    "execution_millis": 247,
    "deepnote_output_heights": [
     60,
     270
    ],
    "deepnote_cell_type": "code"
   },
   "source": "\nsns.countplot(x='Survived', data=df_train)\ndf_train['Survived'].value_counts()\n",
   "execution_count": null,
   "outputs": [
    {
     "output_type": "execute_result",
     "execution_count": 14,
     "data": {
      "text/plain": "0    549\n1    342\nName: Survived, dtype: int64"
     },
     "metadata": {}
    },
    {
     "data": {
      "text/plain": "<Figure size 432x288 with 1 Axes>",
      "image/png": "[encoded data removed]"
     },
     "metadata": {
      "image/png": {
       "width": 396,
       "height": 268
      }
     },
     "output_type": "display_data"
    }
   ]
  },
  {
   "cell_type": "code",
   "metadata": {
    "tags": [],
    "cell_id": "00016-c3bea92f-a06c-4281-b428-fa21a91a5c1b",
    "deepnote_to_be_reexecuted": false,
    "source_hash": "1e0b6a76",
    "execution_start": 1641984344526,
    "execution_millis": 2,
    "deepnote_output_heights": [
     117
    ],
    "deepnote_cell_type": "code"
   },
   "source": "df_train.groupby(['Survived','Sex'])['Survived'].count()",
   "execution_count": null,
   "outputs": [
    {
     "output_type": "execute_result",
     "execution_count": 15,
     "data": {
      "text/plain": "Survived  Sex   \n0         female     81\n          male      468\n1         female    233\n          male      109\nName: Survived, dtype: int64"
     },
     "metadata": {}
    }
   ]
  },
  {
   "cell_type": "code",
   "metadata": {
    "tags": [],
    "cell_id": "00017-84602935-0ed0-4fe1-bdf1-86bf5dd8831d",
    "deepnote_to_be_reexecuted": false,
    "source_hash": "294486ab",
    "execution_start": 1641984344527,
    "execution_millis": 627,
    "deepnote_output_heights": [
     350
    ],
    "deepnote_cell_type": "code"
   },
   "source": "sns.catplot(x='Sex', col='Survived', kind='count', data=df_train);",
   "execution_count": null,
   "outputs": [
    {
     "data": {
      "text/plain": "<Figure size 720x360 with 2 Axes>",
      "image/png": "[encoded data removed]"
     },
     "metadata": {
      "image/png": {
       "width": 708,
       "height": 348
      }
     },
     "output_type": "display_data"
    }
   ]
  },
  {
   "cell_type": "code",
   "metadata": {
    "tags": [],
    "cell_id": "00019-4e55db05-5084-48c8-81d2-d0f9d8a887a7",
    "deepnote_to_be_reexecuted": false,
    "source_hash": "ebf6b2e0",
    "execution_start": 1641984345166,
    "execution_millis": 10,
    "deepnote_cell_type": "code"
   },
   "source": "print(\"% of women survived: \" , df_train[df_train.Sex == 'female'].Survived.sum()/df_train[df_train.Sex == 'female'].Survived.count())\nprint(\"% of men survived:   \" , df_train[df_train.Sex == 'male'].Survived.sum()/df_train[df_train.Sex == 'male'].Survived.count())",
   "execution_count": null,
   "outputs": [
    {
     "name": "stdout",
     "text": "% of women survived:  0.7420382165605095\n% of men survived:    0.18890814558058924\n",
     "output_type": "stream",
     "data": {}
    }
   ]
  },
  {
   "cell_type": "code",
   "metadata": {
    "tags": [],
    "cell_id": "00019-9fe0efe7-152b-4764-8512-8d56ace06dab",
    "deepnote_to_be_reexecuted": false,
    "source_hash": "963af509",
    "execution_start": 1641984345228,
    "execution_millis": 335,
    "deepnote_output_heights": [
     412
    ],
    "deepnote_cell_type": "code"
   },
   "source": "f,ax=plt.subplots(1,2,figsize=(16,7))\ndf_train['Survived'][df_train['Sex']=='male'].value_counts().plot.pie(explode=[0,0.2],autopct='%1.1f%%',ax=ax[0],shadow=True)\ndf_train['Survived'][df_train['Sex']=='female'].value_counts().plot.pie(explode=[0,0.2],autopct='%1.1f%%',ax=ax[1],shadow=True)\nax[0].set_title('Survived (male)')\nax[1].set_title('Survived (female)')\n\nplt.show()",
   "execution_count": null,
   "outputs": [
    {
     "data": {
      "text/plain": "<Figure size 1152x504 with 2 Axes>",
      "image/png": "[encoded data removed]"
     },
     "metadata": {
      "image/png": {
       "width": 898,
       "height": 410
      }
     },
     "output_type": "display_data"
    }
   ]
  },
  {
   "cell_type": "code",
   "metadata": {
    "tags": [],
    "cell_id": "00021-9ebbec48-3210-4fc4-8ae6-e7ef49e38494",
    "deepnote_to_be_reexecuted": false,
    "source_hash": "34bc4aef",
    "execution_start": 1641984345562,
    "execution_millis": 179435,
    "deepnote_cell_type": "code"
   },
   "source": "cm_surv = [\"darkgrey\" , \"lightgreen\"]",
   "execution_count": null,
   "outputs": []
  },
  {
   "cell_type": "code",
   "metadata": {
    "tags": [],
    "cell_id": "00021-0829ad0e-9b33-4eb8-a221-a0f0f7581514",
    "deepnote_to_be_reexecuted": false,
    "source_hash": "a50ac724",
    "execution_start": 1641984345577,
    "execution_millis": 883,
    "deepnote_output_heights": [
     null,
     449
    ],
    "deepnote_cell_type": "code"
   },
   "source": "fig, ax = plt.subplots(figsize=(13,7))\nsns.swarmplot(x='Pclass', y='Age', hue='Survived', split=True, data=df_train , palette=cm_surv, size=7, ax=ax)\nplt.title('Survivals for Age and Pclass ')\nplt.show()",
   "execution_count": null,
   "outputs": [
    {
     "name": "stderr",
     "text": "/shared-libs/python3.7/py/lib/python3.7/site-packages/seaborn/categorical.py:3002: UserWarning: The `split` parameter has been renamed to `dodge`.\n  warnings.warn(msg, UserWarning)\n/shared-libs/python3.7/py/lib/python3.7/site-packages/seaborn/categorical.py:1296: UserWarning: 13.7% of the points cannot be placed; you may want to decrease the size of the markers or use stripplot.\n  warnings.warn(msg, UserWarning)\n",
     "output_type": "stream",
     "data": {}
    },
    {
     "data": {
      "text/plain": "<Figure size 936x504 with 1 Axes>",
      "image/png": "[encoded data removed]"
     },
     "metadata": {
      "image/png": {
       "width": 780,
       "height": 447
      }
     },
     "output_type": "display_data"
    }
   ]
  },
  {
   "cell_type": "code",
   "metadata": {
    "tags": [],
    "cell_id": "00023-1268c070-aea6-42e7-829e-4caefa9e3834",
    "deepnote_to_be_reexecuted": false,
    "source_hash": "9b31cc6e",
    "execution_start": 1641984346489,
    "execution_millis": 383,
    "deepnote_output_heights": [
     449
    ],
    "deepnote_cell_type": "code"
   },
   "source": "fig, ax = plt.subplots(figsize=(13,7))\nsns.violinplot(x=\"Pclass\", y=\"Age\", hue='Survived', data=df_train, split=True, bw=0.05 , palette=cm_surv, ax=ax)\nplt.title('Survivals for Age and Pclass ')\nplt.show()",
   "execution_count": null,
   "outputs": [
    {
     "data": {
      "text/plain": "<Figure size 936x504 with 1 Axes>",
      "image/png": "[encoded data removed]"
     },
     "metadata": {
      "image/png": {
       "width": 780,
       "height": 447
      }
     },
     "output_type": "display_data"
    }
   ]
  },
  {
   "cell_type": "code",
   "metadata": {
    "tags": [],
    "cell_id": "00021-6e247973-b3f0-4055-b23d-f421de6d4006",
    "deepnote_to_be_reexecuted": false,
    "source_hash": "85943d09",
    "execution_start": 1641984346874,
    "execution_millis": 461,
    "deepnote_output_heights": [
     177
    ],
    "deepnote_cell_type": "code"
   },
   "source": "pd.crosstab(df_train.Pclass, df_train.Survived, margins=True).style.background_gradient(cmap='autumn_r')",
   "execution_count": null,
   "outputs": [
    {
     "output_type": "execute_result",
     "execution_count": 22,
     "data": {
      "text/plain": "<pandas.io.formats.style.Styler at 0x7f5023f44190>",
      "text/html": "<style  type=\"text/css\" >\n#T_ccc4f_row0_col0,#T_ccc4f_row1_col1,#T_ccc4f_row1_col2{\n            background-color:  #ffff00;\n            color:  #000000;\n        }#T_ccc4f_row0_col1{\n            background-color:  #ffce00;\n            color:  #000000;\n        }#T_ccc4f_row0_col2{\n            background-color:  #fff400;\n            color:  #000000;\n        }#T_ccc4f_row1_col0{\n            background-color:  #fff600;\n            color:  #000000;\n        }#T_ccc4f_row2_col0{\n            background-color:  #ff6000;\n            color:  #000000;\n        }#T_ccc4f_row2_col1{\n            background-color:  #ffdf00;\n            color:  #000000;\n        }#T_ccc4f_row2_col2{\n            background-color:  #ff9000;\n            color:  #000000;\n        }#T_ccc4f_row3_col0,#T_ccc4f_row3_col1,#T_ccc4f_row3_col2{\n            background-color:  #ff0000;\n            color:  #f1f1f1;\n        }</style><table id=\"T_ccc4f_\" ><thead>    <tr>        <th class=\"index_name level0\" >Survived</th>        <th class=\"col_heading level0 col0\" >0</th>        <th class=\"col_heading level0 col1\" >1</th>        <th class=\"col_heading level0 col2\" >All</th>    </tr>    <tr>        <th class=\"index_name level0\" >Pclass</th>        <th class=\"blank\" ></th>        <th class=\"blank\" ></th>        <th class=\"blank\" ></th>    </tr></thead><tbody>\n                <tr>\n                        <th id=\"T_ccc4f_level0_row0\" class=\"row_heading level0 row0\" >1</th>\n                        <td id=\"T_ccc4f_row0_col0\" class=\"data row0 col0\" >80</td>\n                        <td id=\"T_ccc4f_row0_col1\" class=\"data row0 col1\" >136</td>\n                        <td id=\"T_ccc4f_row0_col2\" class=\"data row0 col2\" >216</td>\n            </tr>\n            <tr>\n                        <th id=\"T_ccc4f_level0_row1\" class=\"row_heading level0 row1\" >2</th>\n                        <td id=\"T_ccc4f_row1_col0\" class=\"data row1 col0\" >97</td>\n                        <td id=\"T_ccc4f_row1_col1\" class=\"data row1 col1\" >87</td>\n                        <td id=\"T_ccc4f_row1_col2\" class=\"data row1 col2\" >184</td>\n            </tr>\n            <tr>\n                        <th id=\"T_ccc4f_level0_row2\" class=\"row_heading level0 row2\" >3</th>\n                        <td id=\"T_ccc4f_row2_col0\" class=\"data row2 col0\" >372</td>\n                        <td id=\"T_ccc4f_row2_col1\" class=\"data row2 col1\" >119</td>\n                        <td id=\"T_ccc4f_row2_col2\" class=\"data row2 col2\" >491</td>\n            </tr>\n            <tr>\n                        <th id=\"T_ccc4f_level0_row3\" class=\"row_heading level0 row3\" >All</th>\n                        <td id=\"T_ccc4f_row3_col0\" class=\"data row3 col0\" >549</td>\n                        <td id=\"T_ccc4f_row3_col1\" class=\"data row3 col1\" >342</td>\n                        <td id=\"T_ccc4f_row3_col2\" class=\"data row3 col2\" >891</td>\n            </tr>\n    </tbody></table>"
     },
     "metadata": {}
    }
   ]
  },
  {
   "cell_type": "code",
   "metadata": {
    "tags": [],
    "cell_id": "00022-19a2cddc-157e-4565-894e-d3d5c237f5a5",
    "deepnote_to_be_reexecuted": false,
    "source_hash": "e244211e",
    "execution_start": 1641984347054,
    "execution_millis": 869,
    "deepnote_output_heights": [
     350
    ],
    "deepnote_cell_type": "code"
   },
   "source": "sns.catplot(x='Survived', col='Embarked', kind='count', data=df_train);",
   "execution_count": null,
   "outputs": [
    {
     "data": {
      "text/plain": "<Figure size 1080x360 with 3 Axes>",
      "image/png": "[encoded data removed]"
     },
     "metadata": {
      "image/png": {
       "width": 1068,
       "height": 348
      }
     },
     "output_type": "display_data"
    }
   ]
  },
  {
   "cell_type": "code",
   "metadata": {
    "tags": [],
    "cell_id": "00023-ac410004-3385-43e8-a02f-2d0edce7f161",
    "deepnote_to_be_reexecuted": false,
    "source_hash": "69367ad6",
    "execution_start": 1641984347934,
    "execution_millis": 530,
    "deepnote_output_heights": [
     350
    ],
    "deepnote_cell_type": "code"
   },
   "source": "sns.catplot('Embarked','Survived', kind='point', data=df_train);",
   "execution_count": null,
   "outputs": [
    {
     "data": {
      "text/plain": "<Figure size 360x360 with 1 Axes>",
      "image/png": "[encoded data removed]"
     },
     "metadata": {
      "image/png": {
       "width": 348,
       "height": 348
      }
     },
     "output_type": "display_data"
    }
   ]
  },
  {
   "cell_type": "code",
   "metadata": {
    "tags": [],
    "cell_id": "00024-20cb8c12-a59d-4a6c-af46-6c034ddb51b6",
    "deepnote_to_be_reexecuted": false,
    "source_hash": "f2644efe",
    "execution_start": 1641984348558,
    "execution_millis": 775,
    "deepnote_output_heights": [
     350
    ],
    "deepnote_cell_type": "code"
   },
   "source": "sns.catplot('Embarked','Survived', hue= 'Sex', kind='point', data=df_train);",
   "execution_count": null,
   "outputs": [
    {
     "data": {
      "text/plain": "<Figure size 437.975x360 with 1 Axes>",
      "image/png": "[encoded data removed]"
     },
     "metadata": {
      "image/png": {
       "width": 421,
       "height": 348
      }
     },
     "output_type": "display_data"
    }
   ]
  },
  {
   "cell_type": "code",
   "metadata": {
    "tags": [],
    "cell_id": "00025-2814153e-45cd-4627-8be7-aeb18e8a168a",
    "deepnote_to_be_reexecuted": false,
    "source_hash": "9a4e5ca",
    "execution_start": 1641984349345,
    "execution_millis": 2087,
    "deepnote_output_heights": [
     350
    ],
    "deepnote_cell_type": "code"
   },
   "source": "sns.catplot('Embarked','Survived', col='Pclass', hue= 'Sex', kind='point', data=df_train);",
   "execution_count": null,
   "outputs": [
    {
     "data": {
      "text/plain": "<Figure size 1157.97x360 with 3 Axes>",
      "image/png": "[encoded data removed]"
     },
     "metadata": {
      "image/png": {
       "width": 1149,
       "height": 348
      }
     },
     "output_type": "display_data"
    }
   ]
  },
  {
   "cell_type": "code",
   "metadata": {
    "tags": [],
    "cell_id": "00026-49866c1f-939c-4459-b8b4-6da7c187d265",
    "deepnote_to_be_reexecuted": false,
    "source_hash": "a3ed028c",
    "execution_start": 1641984351444,
    "execution_millis": 653,
    "deepnote_output_heights": [
     235
    ],
    "deepnote_cell_type": "code"
   },
   "source": "pd.crosstab([df_train.Sex, df_train.Survived], [df_train.Parch, df_train.Pclass], margins=True).style.background_gradient(cmap='autumn_r')",
   "execution_count": null,
   "outputs": [
    {
     "output_type": "execute_result",
     "execution_count": 27,
     "data": {
      "text/plain": "<pandas.io.formats.style.Styler at 0x7f502443a1d0>",
      "text/html": "<style  type=\"text/css\" >\n#T_6783c_row0_col0,#T_6783c_row0_col1,#T_6783c_row0_col2,#T_6783c_row0_col3,#T_6783c_row0_col4,#T_6783c_row0_col6,#T_6783c_row0_col7,#T_6783c_row0_col9,#T_6783c_row0_col11,#T_6783c_row0_col15,#T_6783c_row1_col11,#T_6783c_row1_col12,#T_6783c_row1_col14,#T_6783c_row2_col9,#T_6783c_row2_col14,#T_6783c_row3_col2,#T_6783c_row3_col5,#T_6783c_row3_col8,#T_6783c_row3_col9,#T_6783c_row3_col10,#T_6783c_row3_col11,#T_6783c_row3_col12,#T_6783c_row3_col13,#T_6783c_row3_col14{\n            background-color:  #ffff00;\n            color:  #000000;\n        }#T_6783c_row0_col5{\n            background-color:  #ffe400;\n            color:  #000000;\n        }#T_6783c_row0_col8{\n            background-color:  #ffa600;\n            color:  #000000;\n        }#T_6783c_row0_col10,#T_6783c_row1_col10,#T_6783c_row2_col10,#T_6783c_row2_col12{\n            background-color:  #ffaa00;\n            color:  #000000;\n        }#T_6783c_row0_col12{\n            background-color:  #ff5500;\n            color:  #000000;\n        }#T_6783c_row0_col13{\n            background-color:  #ff6600;\n            color:  #000000;\n        }#T_6783c_row0_col14,#T_6783c_row1_col9,#T_6783c_row2_col11,#T_6783c_row4_col0,#T_6783c_row4_col1,#T_6783c_row4_col2,#T_6783c_row4_col3,#T_6783c_row4_col4,#T_6783c_row4_col5,#T_6783c_row4_col6,#T_6783c_row4_col7,#T_6783c_row4_col8,#T_6783c_row4_col9,#T_6783c_row4_col10,#T_6783c_row4_col11,#T_6783c_row4_col12,#T_6783c_row4_col13,#T_6783c_row4_col14,#T_6783c_row4_col15{\n            background-color:  #ff0000;\n            color:  #f1f1f1;\n        }#T_6783c_row1_col0,#T_6783c_row2_col0{\n            background-color:  #ff9e00;\n            color:  #000000;\n        }#T_6783c_row1_col1{\n            background-color:  #ffba00;\n            color:  #000000;\n        }#T_6783c_row1_col2{\n            background-color:  #fff400;\n            color:  #000000;\n        }#T_6783c_row1_col3{\n            background-color:  #ff7300;\n            color:  #000000;\n        }#T_6783c_row1_col4{\n            background-color:  #ff7b00;\n            color:  #000000;\n        }#T_6783c_row1_col5{\n            background-color:  #ffea00;\n            color:  #000000;\n        }#T_6783c_row1_col6{\n            background-color:  #ff8600;\n            color:  #000000;\n        }#T_6783c_row1_col7{\n            background-color:  #ff4f00;\n            color:  #000000;\n        }#T_6783c_row1_col8,#T_6783c_row3_col7{\n            background-color:  #ffdf00;\n            color:  #000000;\n        }#T_6783c_row1_col13,#T_6783c_row2_col13{\n            background-color:  #ffcc00;\n            color:  #000000;\n        }#T_6783c_row1_col15,#T_6783c_row2_col7{\n            background-color:  #ffcf00;\n            color:  #000000;\n        }#T_6783c_row2_col1{\n            background-color:  #ff6900;\n            color:  #000000;\n        }#T_6783c_row2_col2{\n            background-color:  #ff5900;\n            color:  #000000;\n        }#T_6783c_row2_col3{\n            background-color:  #ffad00;\n            color:  #000000;\n        }#T_6783c_row2_col4,#T_6783c_row3_col4{\n            background-color:  #ffce00;\n            color:  #000000;\n        }#T_6783c_row2_col5,#T_6783c_row2_col8{\n            background-color:  #ffb300;\n            color:  #000000;\n        }#T_6783c_row2_col6{\n            background-color:  #fff200;\n            color:  #000000;\n        }#T_6783c_row2_col15{\n            background-color:  #ff8500;\n            color:  #000000;\n        }#T_6783c_row3_col0{\n            background-color:  #ffc800;\n            color:  #000000;\n        }#T_6783c_row3_col1{\n            background-color:  #fffa00;\n            color:  #000000;\n        }#T_6783c_row3_col3{\n            background-color:  #ffde00;\n            color:  #000000;\n        }#T_6783c_row3_col6{\n            background-color:  #ffd700;\n            color:  #000000;\n        }#T_6783c_row3_col15{\n            background-color:  #fff700;\n            color:  #000000;\n        }</style><table id=\"T_6783c_\" ><thead>    <tr>        <th class=\"blank\" ></th>        <th class=\"index_name level0\" >Parch</th>        <th class=\"col_heading level0 col0\" colspan=\"3\">0</th>        <th class=\"col_heading level0 col3\" colspan=\"3\">1</th>        <th class=\"col_heading level0 col6\" colspan=\"3\">2</th>        <th class=\"col_heading level0 col9\" colspan=\"2\">3</th>        <th class=\"col_heading level0 col11\" colspan=\"2\">4</th>        <th class=\"col_heading level0 col13\" >5</th>        <th class=\"col_heading level0 col14\" >6</th>        <th class=\"col_heading level0 col15\" >All</th>    </tr>    <tr>        <th class=\"blank\" ></th>        <th class=\"index_name level1\" >Pclass</th>        <th class=\"col_heading level1 col0\" >1</th>        <th class=\"col_heading level1 col1\" >2</th>        <th class=\"col_heading level1 col2\" >3</th>        <th class=\"col_heading level1 col3\" >1</th>        <th class=\"col_heading level1 col4\" >2</th>        <th class=\"col_heading level1 col5\" >3</th>        <th class=\"col_heading level1 col6\" >1</th>        <th class=\"col_heading level1 col7\" >2</th>        <th class=\"col_heading level1 col8\" >3</th>        <th class=\"col_heading level1 col9\" >2</th>        <th class=\"col_heading level1 col10\" >3</th>        <th class=\"col_heading level1 col11\" >1</th>        <th class=\"col_heading level1 col12\" >3</th>        <th class=\"col_heading level1 col13\" >3</th>        <th class=\"col_heading level1 col14\" >3</th>        <th class=\"col_heading level1 col15\" ></th>    </tr>    <tr>        <th class=\"index_name level0\" >Sex</th>        <th class=\"index_name level1\" >Survived</th>        <th class=\"blank\" ></th>        <th class=\"blank\" ></th>        <th class=\"blank\" ></th>        <th class=\"blank\" ></th>        <th class=\"blank\" ></th>        <th class=\"blank\" ></th>        <th class=\"blank\" ></th>        <th class=\"blank\" ></th>        <th class=\"blank\" ></th>        <th class=\"blank\" ></th>        <th class=\"blank\" ></th>        <th class=\"blank\" ></th>        <th class=\"blank\" ></th>        <th class=\"blank\" ></th>        <th class=\"blank\" ></th>        <th class=\"blank\" ></th>    </tr></thead><tbody>\n                <tr>\n                        <th id=\"T_6783c_level0_row0\" class=\"row_heading level0 row0\" rowspan=\"2\">female</th>\n                        <th id=\"T_6783c_level1_row0\" class=\"row_heading level1 row0\" >0</th>\n                        <td id=\"T_6783c_row0_col0\" class=\"data row0 col0\" >1</td>\n                        <td id=\"T_6783c_row0_col1\" class=\"data row0 col1\" >5</td>\n                        <td id=\"T_6783c_row0_col2\" class=\"data row0 col2\" >35</td>\n                        <td id=\"T_6783c_row0_col3\" class=\"data row0 col3\" >0</td>\n                        <td id=\"T_6783c_row0_col4\" class=\"data row0 col4\" >1</td>\n                        <td id=\"T_6783c_row0_col5\" class=\"data row0 col5\" >13</td>\n                        <td id=\"T_6783c_row0_col6\" class=\"data row0 col6\" >2</td>\n                        <td id=\"T_6783c_row0_col7\" class=\"data row0 col7\" >0</td>\n                        <td id=\"T_6783c_row0_col8\" class=\"data row0 col8\" >17</td>\n                        <td id=\"T_6783c_row0_col9\" class=\"data row0 col9\" >0</td>\n                        <td id=\"T_6783c_row0_col10\" class=\"data row0 col10\" >1</td>\n                        <td id=\"T_6783c_row0_col11\" class=\"data row0 col11\" >0</td>\n                        <td id=\"T_6783c_row0_col12\" class=\"data row0 col12\" >2</td>\n                        <td id=\"T_6783c_row0_col13\" class=\"data row0 col13\" >3</td>\n                        <td id=\"T_6783c_row0_col14\" class=\"data row0 col14\" >1</td>\n                        <td id=\"T_6783c_row0_col15\" class=\"data row0 col15\" >81</td>\n            </tr>\n            <tr>\n                                <th id=\"T_6783c_level1_row1\" class=\"row_heading level1 row1\" >1</th>\n                        <td id=\"T_6783c_row1_col0\" class=\"data row1 col0\" >63</td>\n                        <td id=\"T_6783c_row1_col1\" class=\"data row1 col1\" >40</td>\n                        <td id=\"T_6783c_row1_col2\" class=\"data row1 col2\" >50</td>\n                        <td id=\"T_6783c_row1_col3\" class=\"data row1 col3\" >17</td>\n                        <td id=\"T_6783c_row1_col4\" class=\"data row1 col4\" >17</td>\n                        <td id=\"T_6783c_row1_col5\" class=\"data row1 col5\" >12</td>\n                        <td id=\"T_6783c_row1_col6\" class=\"data row1 col6\" >11</td>\n                        <td id=\"T_6783c_row1_col7\" class=\"data row1 col7\" >11</td>\n                        <td id=\"T_6783c_row1_col8\" class=\"data row1 col8\" >8</td>\n                        <td id=\"T_6783c_row1_col9\" class=\"data row1 col9\" >2</td>\n                        <td id=\"T_6783c_row1_col10\" class=\"data row1 col10\" >1</td>\n                        <td id=\"T_6783c_row1_col11\" class=\"data row1 col11\" >0</td>\n                        <td id=\"T_6783c_row1_col12\" class=\"data row1 col12\" >0</td>\n                        <td id=\"T_6783c_row1_col13\" class=\"data row1 col13\" >1</td>\n                        <td id=\"T_6783c_row1_col14\" class=\"data row1 col14\" >0</td>\n                        <td id=\"T_6783c_row1_col15\" class=\"data row1 col15\" >233</td>\n            </tr>\n            <tr>\n                        <th id=\"T_6783c_level0_row2\" class=\"row_heading level0 row2\" rowspan=\"2\">male</th>\n                        <th id=\"T_6783c_level1_row2\" class=\"row_heading level1 row2\" >0</th>\n                        <td id=\"T_6783c_row2_col0\" class=\"data row2 col0\" >63</td>\n                        <td id=\"T_6783c_row2_col1\" class=\"data row2 col1\" >81</td>\n                        <td id=\"T_6783c_row2_col2\" class=\"data row2 col2\" >260</td>\n                        <td id=\"T_6783c_row2_col3\" class=\"data row2 col3\" >10</td>\n                        <td id=\"T_6783c_row2_col4\" class=\"data row2 col4\" >7</td>\n                        <td id=\"T_6783c_row2_col5\" class=\"data row2 col5\" >22</td>\n                        <td id=\"T_6783c_row2_col6\" class=\"data row2 col6\" >3</td>\n                        <td id=\"T_6783c_row2_col7\" class=\"data row2 col7\" >3</td>\n                        <td id=\"T_6783c_row2_col8\" class=\"data row2 col8\" >15</td>\n                        <td id=\"T_6783c_row2_col9\" class=\"data row2 col9\" >0</td>\n                        <td id=\"T_6783c_row2_col10\" class=\"data row2 col10\" >1</td>\n                        <td id=\"T_6783c_row2_col11\" class=\"data row2 col11\" >1</td>\n                        <td id=\"T_6783c_row2_col12\" class=\"data row2 col12\" >1</td>\n                        <td id=\"T_6783c_row2_col13\" class=\"data row2 col13\" >1</td>\n                        <td id=\"T_6783c_row2_col14\" class=\"data row2 col14\" >0</td>\n                        <td id=\"T_6783c_row2_col15\" class=\"data row2 col15\" >468</td>\n            </tr>\n            <tr>\n                                <th id=\"T_6783c_level1_row3\" class=\"row_heading level1 row3\" >1</th>\n                        <td id=\"T_6783c_row3_col0\" class=\"data row3 col0\" >36</td>\n                        <td id=\"T_6783c_row3_col1\" class=\"data row3 col1\" >8</td>\n                        <td id=\"T_6783c_row3_col2\" class=\"data row3 col2\" >36</td>\n                        <td id=\"T_6783c_row3_col3\" class=\"data row3 col3\" >4</td>\n                        <td id=\"T_6783c_row3_col4\" class=\"data row3 col4\" >7</td>\n                        <td id=\"T_6783c_row3_col5\" class=\"data row3 col5\" >8</td>\n                        <td id=\"T_6783c_row3_col6\" class=\"data row3 col6\" >5</td>\n                        <td id=\"T_6783c_row3_col7\" class=\"data row3 col7\" >2</td>\n                        <td id=\"T_6783c_row3_col8\" class=\"data row3 col8\" >3</td>\n                        <td id=\"T_6783c_row3_col9\" class=\"data row3 col9\" >0</td>\n                        <td id=\"T_6783c_row3_col10\" class=\"data row3 col10\" >0</td>\n                        <td id=\"T_6783c_row3_col11\" class=\"data row3 col11\" >0</td>\n                        <td id=\"T_6783c_row3_col12\" class=\"data row3 col12\" >0</td>\n                        <td id=\"T_6783c_row3_col13\" class=\"data row3 col13\" >0</td>\n                        <td id=\"T_6783c_row3_col14\" class=\"data row3 col14\" >0</td>\n                        <td id=\"T_6783c_row3_col15\" class=\"data row3 col15\" >109</td>\n            </tr>\n            <tr>\n                        <th id=\"T_6783c_level0_row4\" class=\"row_heading level0 row4\" >All</th>\n                        <th id=\"T_6783c_level1_row4\" class=\"row_heading level1 row4\" ></th>\n                        <td id=\"T_6783c_row4_col0\" class=\"data row4 col0\" >163</td>\n                        <td id=\"T_6783c_row4_col1\" class=\"data row4 col1\" >134</td>\n                        <td id=\"T_6783c_row4_col2\" class=\"data row4 col2\" >381</td>\n                        <td id=\"T_6783c_row4_col3\" class=\"data row4 col3\" >31</td>\n                        <td id=\"T_6783c_row4_col4\" class=\"data row4 col4\" >32</td>\n                        <td id=\"T_6783c_row4_col5\" class=\"data row4 col5\" >55</td>\n                        <td id=\"T_6783c_row4_col6\" class=\"data row4 col6\" >21</td>\n                        <td id=\"T_6783c_row4_col7\" class=\"data row4 col7\" >16</td>\n                        <td id=\"T_6783c_row4_col8\" class=\"data row4 col8\" >43</td>\n                        <td id=\"T_6783c_row4_col9\" class=\"data row4 col9\" >2</td>\n                        <td id=\"T_6783c_row4_col10\" class=\"data row4 col10\" >3</td>\n                        <td id=\"T_6783c_row4_col11\" class=\"data row4 col11\" >1</td>\n                        <td id=\"T_6783c_row4_col12\" class=\"data row4 col12\" >3</td>\n                        <td id=\"T_6783c_row4_col13\" class=\"data row4 col13\" >5</td>\n                        <td id=\"T_6783c_row4_col14\" class=\"data row4 col14\" >1</td>\n                        <td id=\"T_6783c_row4_col15\" class=\"data row4 col15\" >891</td>\n            </tr>\n    </tbody></table>"
     },
     "metadata": {}
    }
   ]
  },
  {
   "cell_type": "code",
   "metadata": {
    "tags": [],
    "cell_id": "00027-7c02149a-03ca-49fa-818c-ca95ec688252",
    "deepnote_to_be_reexecuted": false,
    "source_hash": "314db006",
    "execution_start": 1641984351758,
    "execution_millis": 471,
    "deepnote_output_heights": [
     270
    ],
    "deepnote_cell_type": "code"
   },
   "source": "sns.distplot(df_train['Fare']);",
   "execution_count": null,
   "outputs": [
    {
     "data": {
      "text/plain": "<Figure size 432x288 with 1 Axes>",
      "image/png": "[encoded data removed]"
     },
     "metadata": {
      "image/png": {
       "width": 407,
       "height": 268
      }
     },
     "output_type": "display_data"
    }
   ]
  },
  {
   "cell_type": "code",
   "metadata": {
    "tags": [],
    "cell_id": "00028-f46074a6-b029-4c6b-9eba-798233270b08",
    "deepnote_to_be_reexecuted": false,
    "source_hash": "47e7b71b",
    "execution_start": 1641984352243,
    "execution_millis": 570,
    "deepnote_output_heights": [
     286
    ],
    "deepnote_cell_type": "code"
   },
   "source": "sns.barplot(x='Sex', y='Survived', hue='Pclass', data=df_train)\nplt.ylabel(\"Survival Rate\")\nplt.title(\"Survival as function of Pclass and Sex\")\nplt.show()",
   "execution_count": null,
   "outputs": [
    {
     "data": {
      "text/plain": "<Figure size 432x288 with 1 Axes>",
      "image/png": "[encoded data removed]"
     },
     "metadata": {
      "image/png": {
       "width": 393,
       "height": 284
      }
     },
     "output_type": "display_data"
    }
   ]
  },
  {
   "cell_type": "code",
   "metadata": {
    "tags": [],
    "cell_id": "00029-3dcf41f5-1eae-4913-850f-dd669fc6e30d",
    "deepnote_to_be_reexecuted": false,
    "source_hash": "db440daa",
    "execution_start": 1641984352824,
    "execution_millis": 334,
    "deepnote_output_heights": [
     286
    ],
    "deepnote_cell_type": "code"
   },
   "source": "sns.countplot(x='Embarked', hue='Pclass', data=df_train)\nplt.title(\"Count of Passengers as function of Embarked Port\")\nplt.show()",
   "execution_count": null,
   "outputs": [
    {
     "data": {
      "text/plain": "<Figure size 432x288 with 1 Axes>",
      "image/png": "[encoded data removed]"
     },
     "metadata": {
      "image/png": {
       "width": 396,
       "height": 284
      }
     },
     "output_type": "display_data"
    }
   ]
  },
  {
   "cell_type": "code",
   "metadata": {
    "tags": [],
    "cell_id": "00033-1629c16c-a4be-4740-8e9f-af75cfaf5307",
    "deepnote_to_be_reexecuted": false,
    "source_hash": "9e1c6199",
    "execution_start": 1641984353161,
    "execution_millis": 359,
    "deepnote_output_heights": [
     21,
     270
    ],
    "deepnote_cell_type": "code"
   },
   "source": "sns.scatterplot(data=df_train, x=\"Fare\", y=\"Age\")",
   "execution_count": null,
   "outputs": [
    {
     "output_type": "execute_result",
     "execution_count": 31,
     "data": {
      "text/plain": "<AxesSubplot:xlabel='Fare', ylabel='Age'>"
     },
     "metadata": {}
    },
    {
     "data": {
      "text/plain": "<Figure size 432x288 with 1 Axes>",
      "image/png": "[encoded data removed]"
     },
     "metadata": {
      "image/png": {
       "width": 389,
       "height": 268
      }
     },
     "output_type": "display_data"
    }
   ]
  },
  {
   "cell_type": "markdown",
   "source": "# 3. Wrangelig the data ",
   "metadata": {
    "tags": [],
    "cell_id": "00006-bc9965b1-f66a-4f5e-8de5-fbbfeb5d8097",
    "deepnote_cell_type": "markdown"
   }
  },
  {
   "cell_type": "code",
   "metadata": {
    "tags": [],
    "cell_id": "00034-2ef55351-0c50-4a41-9cc9-1d96d0c624b7",
    "deepnote_to_be_reexecuted": false,
    "source_hash": "6513fa70",
    "execution_start": 1641984353529,
    "execution_millis": 3,
    "deepnote_cell_type": "code"
   },
   "source": "df_train_ml = df_train.copy()\ndf_test_ml = df_test.copy()\n# Drop useless columns\ntrain = df_train.drop(['Cabin','Ticket','Name','PassengerId'],axis=1)",
   "execution_count": null,
   "outputs": []
  },
  {
   "cell_type": "code",
   "metadata": {
    "tags": [],
    "cell_id": "00034-77e6da68-b1d5-4521-af52-c0547a2ffc77",
    "deepnote_to_be_reexecuted": false,
    "source_hash": "9e2391b3",
    "execution_start": 1641984353549,
    "execution_millis": 0,
    "deepnote_cell_type": "code"
   },
   "source": "## Dealing with mising values ##\nfreq = train.Embarked.dropna().mode()\nprint(freq,'\\n')\ntrain['Embarked'] = train['Embarked'].fillna(freq[0]) # fill \"NAN\" values with the most frequent value\n\nmean = train['Age'].dropna().mean()\ntrain['Age'] = train['Age'].fillna(round(mean))\nprint(round(mean))",
   "execution_count": null,
   "outputs": [
    {
     "name": "stdout",
     "text": "0    S\ndtype: object \n\n30\n",
     "output_type": "stream",
     "data": {}
    }
   ]
  },
  {
   "cell_type": "code",
   "metadata": {
    "tags": [],
    "cell_id": "00034-f0c307d9-ca92-4b6b-8b83-10fbfc90bbb3",
    "deepnote_to_be_reexecuted": false,
    "source_hash": "42e238be",
    "execution_start": 1641984353560,
    "execution_millis": 5,
    "deepnote_cell_type": "code"
   },
   "source": "train['Sex'].replace('female', 0,inplace=True)\ntrain['Sex'].replace('male', 1,inplace=True)\n\n\ntrain['Embarked'].replace('S', 0,inplace=True)\ntrain['Embarked'].replace('C', 1,inplace=True)\ntrain['Embarked'].replace('Q', 2,inplace=True)",
   "execution_count": null,
   "outputs": []
  },
  {
   "cell_type": "code",
   "metadata": {
    "tags": [],
    "cell_id": "00034-9317f1ff-7e6a-4a6a-8f2b-2dc7605bfaac",
    "deepnote_to_be_reexecuted": false,
    "source_hash": "bde986f8",
    "execution_start": 1641984353580,
    "execution_millis": 41,
    "deepnote_cell_type": "code"
   },
   "source": "# Drop useless columns\ntest = df_test.drop(['Cabin','Ticket','Name','PassengerId'],axis=1)\n\n\n## Dealing with mising values ##\nfreq = test.Fare.dropna().mode()\nprint(freq,'\\n')\ntest['Fare'] = test['Fare'].fillna(freq[0]) # fill \"NAN\" values with the most frequent value\n\nmean = test['Age'].dropna().mean()\ntest['Age'] = test['Age'].fillna(round(mean))\nprint(round(mean))",
   "execution_count": null,
   "outputs": [
    {
     "name": "stdout",
     "text": "0    7.75\ndtype: float64 \n\n30\n",
     "output_type": "stream",
     "data": {}
    }
   ]
  },
  {
   "cell_type": "code",
   "metadata": {
    "tags": [],
    "cell_id": "00035-77889901-5143-40ea-8e1a-36ffc5fb79cc",
    "deepnote_to_be_reexecuted": false,
    "source_hash": "42a0a9fc",
    "execution_start": 1641984353622,
    "execution_millis": 3,
    "deepnote_cell_type": "code"
   },
   "source": "\n\ntest['Sex'].replace('female', 0,inplace=True)\ntest['Sex'].replace('male', 1,inplace=True)\n\n\ntest['Embarked'].replace('S', 0,inplace=True)\ntest['Embarked'].replace('C', 1,inplace=True)\ntest['Embarked'].replace('Q', 2,inplace=True)\n\n",
   "execution_count": null,
   "outputs": []
  },
  {
   "cell_type": "code",
   "metadata": {
    "tags": [],
    "cell_id": "00036-05aecd30-0c9f-48d2-883f-d525c46ddc99",
    "deepnote_to_be_reexecuted": false,
    "source_hash": "e9a2d002",
    "execution_start": 1641984353622,
    "execution_millis": 46,
    "deepnote_cell_type": "code"
   },
   "source": "\n\ntest.sample(5)\n\n",
   "execution_count": null,
   "outputs": [
    {
     "output_type": "execute_result",
     "execution_count": 37,
     "data": {
      "application/vnd.deepnote.dataframe.v3+json": {
       "column_count": 7,
       "row_count": 5,
       "columns": [
        {
         "name": "Pclass",
         "dtype": "int64",
         "stats": {
          "unique_count": 3,
          "nan_count": 0,
          "min": "1",
          "max": "3",
          "histogram": [
           {
            "bin_start": 1,
            "bin_end": 1.2,
            "count": 1
           },
           {
            "bin_start": 1.2,
            "bin_end": 1.4,
            "count": 0
           },
           {
            "bin_start": 1.4,
            "bin_end": 1.6,
            "count": 0
           },
           {
            "bin_start": 1.6,
            "bin_end": 1.8,
            "count": 0
           },
           {
            "bin_start": 1.8,
            "bin_end": 2,
            "count": 0
           },
           {
            "bin_start": 2,
            "bin_end": 2.2,
            "count": 1
           },
           {
            "bin_start": 2.2,
            "bin_end": 2.4000000000000004,
            "count": 0
           },
           {
            "bin_start": 2.4000000000000004,
            "bin_end": 2.6,
            "count": 0
           },
           {
            "bin_start": 2.6,
            "bin_end": 2.8,
            "count": 0
           },
           {
            "bin_start": 2.8,
            "bin_end": 3,
            "count": 3
           }
          ]
         }
        },
        {
         "name": "Sex",
         "dtype": "int64",
         "stats": {
          "unique_count": 2,
          "nan_count": 0,
          "min": "0",
          "max": "1",
          "histogram": [
           {
            "bin_start": 0,
            "bin_end": 0.1,
            "count": 2
           },
           {
            "bin_start": 0.1,
            "bin_end": 0.2,
            "count": 0
           },
           {
            "bin_start": 0.2,
            "bin_end": 0.30000000000000004,
            "count": 0
           },
           {
            "bin_start": 0.30000000000000004,
            "bin_end": 0.4,
            "count": 0
           },
           {
            "bin_start": 0.4,
            "bin_end": 0.5,
            "count": 0
           },
           {
            "bin_start": 0.5,
            "bin_end": 0.6000000000000001,
            "count": 0
           },
           {
            "bin_start": 0.6000000000000001,
            "bin_end": 0.7000000000000001,
            "count": 0
           },
           {
            "bin_start": 0.7000000000000001,
            "bin_end": 0.8,
            "count": 0
           },
           {
            "bin_start": 0.8,
            "bin_end": 0.9,
            "count": 0
           },
           {
            "bin_start": 0.9,
            "bin_end": 1,
            "count": 3
           }
          ]
         }
        },
        {
         "name": "Age",
         "dtype": "float64",
         "stats": {
          "unique_count": 4,
          "nan_count": 0,
          "min": "24.0",
          "max": "64.0",
          "histogram": [
           {
            "bin_start": 24,
            "bin_end": 28,
            "count": 3
           },
           {
            "bin_start": 28,
            "bin_end": 32,
            "count": 1
           },
           {
            "bin_start": 32,
            "bin_end": 36,
            "count": 0
           },
           {
            "bin_start": 36,
            "bin_end": 40,
            "count": 0
           },
           {
            "bin_start": 40,
            "bin_end": 44,
            "count": 0
           },
           {
            "bin_start": 44,
            "bin_end": 48,
            "count": 0
           },
           {
            "bin_start": 48,
            "bin_end": 52,
            "count": 0
           },
           {
            "bin_start": 52,
            "bin_end": 56,
            "count": 0
           },
           {
            "bin_start": 56,
            "bin_end": 60,
            "count": 0
           },
           {
            "bin_start": 60,
            "bin_end": 64,
            "count": 1
           }
          ]
         }
        },
        {
         "name": "SibSp",
         "dtype": "int64",
         "stats": {
          "unique_count": 1,
          "nan_count": 0,
          "min": "0",
          "max": "0",
          "histogram": [
           {
            "bin_start": -0.5,
            "bin_end": -0.4,
            "count": 0
           },
           {
            "bin_start": -0.4,
            "bin_end": -0.3,
            "count": 0
           },
           {
            "bin_start": -0.3,
            "bin_end": -0.19999999999999996,
            "count": 0
           },
           {
            "bin_start": -0.19999999999999996,
            "bin_end": -0.09999999999999998,
            "count": 0
           },
           {
            "bin_start": -0.09999999999999998,
            "bin_end": 0,
            "count": 0
           },
           {
            "bin_start": 0,
            "bin_end": 0.10000000000000009,
            "count": 5
           },
           {
            "bin_start": 0.10000000000000009,
            "bin_end": 0.20000000000000007,
            "count": 0
           },
           {
            "bin_start": 0.20000000000000007,
            "bin_end": 0.30000000000000004,
            "count": 0
           },
           {
            "bin_start": 0.30000000000000004,
            "bin_end": 0.4,
            "count": 0
           },
           {
            "bin_start": 0.4,
            "bin_end": 0.5,
            "count": 0
           }
          ]
         }
        },
        {
         "name": "Parch",
         "dtype": "int64",
         "stats": {
          "unique_count": 2,
          "nan_count": 0,
          "min": "0",
          "max": "2",
          "histogram": [
           {
            "bin_start": 0,
            "bin_end": 0.2,
            "count": 4
           },
           {
            "bin_start": 0.2,
            "bin_end": 0.4,
            "count": 0
           },
           {
            "bin_start": 0.4,
            "bin_end": 0.6000000000000001,
            "count": 0
           },
           {
            "bin_start": 0.6000000000000001,
            "bin_end": 0.8,
            "count": 0
           },
           {
            "bin_start": 0.8,
            "bin_end": 1,
            "count": 0
           },
           {
            "bin_start": 1,
            "bin_end": 1.2000000000000002,
            "count": 0
           },
           {
            "bin_start": 1.2000000000000002,
            "bin_end": 1.4000000000000001,
            "count": 0
           },
           {
            "bin_start": 1.4000000000000001,
            "bin_end": 1.6,
            "count": 0
           },
           {
            "bin_start": 1.6,
            "bin_end": 1.8,
            "count": 0
           },
           {
            "bin_start": 1.8,
            "bin_end": 2,
            "count": 1
           }
          ]
         }
        },
        {
         "name": "Fare",
         "dtype": "float64",
         "stats": {
          "unique_count": 5,
          "nan_count": 0,
          "min": "7.7208",
          "max": "83.1583",
          "histogram": [
           {
            "bin_start": 7.7208,
            "bin_end": 15.26455,
            "count": 4
           },
           {
            "bin_start": 15.26455,
            "bin_end": 22.8083,
            "count": 0
           },
           {
            "bin_start": 22.8083,
            "bin_end": 30.352050000000002,
            "count": 0
           },
           {
            "bin_start": 30.352050000000002,
            "bin_end": 37.8958,
            "count": 0
           },
           {
            "bin_start": 37.8958,
            "bin_end": 45.43955,
            "count": 0
           },
           {
            "bin_start": 45.43955,
            "bin_end": 52.9833,
            "count": 0
           },
           {
            "bin_start": 52.9833,
            "bin_end": 60.527049999999996,
            "count": 0
           },
           {
            "bin_start": 60.527049999999996,
            "bin_end": 68.0708,
            "count": 0
           },
           {
            "bin_start": 68.0708,
            "bin_end": 75.61455,
            "count": 0
           },
           {
            "bin_start": 75.61455,
            "bin_end": 83.1583,
            "count": 1
           }
          ]
         }
        },
        {
         "name": "Embarked",
         "dtype": "int64",
         "stats": {
          "unique_count": 3,
          "nan_count": 0,
          "min": "0",
          "max": "2",
          "histogram": [
           {
            "bin_start": 0,
            "bin_end": 0.2,
            "count": 3
           },
           {
            "bin_start": 0.2,
            "bin_end": 0.4,
            "count": 0
           },
           {
            "bin_start": 0.4,
            "bin_end": 0.6000000000000001,
            "count": 0
           },
           {
            "bin_start": 0.6000000000000001,
            "bin_end": 0.8,
            "count": 0
           },
           {
            "bin_start": 0.8,
            "bin_end": 1,
            "count": 0
           },
           {
            "bin_start": 1,
            "bin_end": 1.2000000000000002,
            "count": 1
           },
           {
            "bin_start": 1.2000000000000002,
            "bin_end": 1.4000000000000001,
            "count": 0
           },
           {
            "bin_start": 1.4000000000000001,
            "bin_end": 1.6,
            "count": 0
           },
           {
            "bin_start": 1.6,
            "bin_end": 1.8,
            "count": 0
           },
           {
            "bin_start": 1.8,
            "bin_end": 2,
            "count": 1
           }
          ]
         }
        },
        {
         "name": "_deepnote_index_column",
         "dtype": "int64"
        }
       ],
       "rows": [
        {
         "Pclass": 3,
         "Sex": 1,
         "Age": 25,
         "SibSp": 0,
         "Parch": 0,
         "Fare": 9.5,
         "Embarked": 0,
         "_deepnote_index_column": 38
        },
        {
         "Pclass": 1,
         "Sex": 0,
         "Age": 64,
         "SibSp": 0,
         "Parch": 2,
         "Fare": 83.1583,
         "Embarked": 1,
         "_deepnote_index_column": 179
        },
        {
         "Pclass": 3,
         "Sex": 1,
         "Age": 25,
         "SibSp": 0,
         "Parch": 0,
         "Fare": 7.925,
         "Embarked": 0,
         "_deepnote_index_column": 45
        },
        {
         "Pclass": 2,
         "Sex": 1,
         "Age": 24,
         "SibSp": 0,
         "Parch": 0,
         "Fare": 13.5,
         "Embarked": 0,
         "_deepnote_index_column": 348
        },
        {
         "Pclass": 3,
         "Sex": 0,
         "Age": 30,
         "SibSp": 0,
         "Parch": 0,
         "Fare": 7.7208,
         "Embarked": 2,
         "_deepnote_index_column": 408
        }
       ]
      },
      "text/plain": "     Pclass  Sex   Age  SibSp  Parch     Fare  Embarked\n38        3    1  25.0      0      0   9.5000         0\n179       1    0  64.0      0      2  83.1583         1\n45        3    1  25.0      0      0   7.9250         0\n348       2    1  24.0      0      0  13.5000         0\n408       3    0  30.0      0      0   7.7208         2",
      "text/html": "<div>\n<style scoped>\n    .dataframe tbody tr th:only-of-type {\n        vertical-align: middle;\n    }\n\n    .dataframe tbody tr th {\n        vertical-align: top;\n    }\n\n    .dataframe thead th {\n        text-align: right;\n    }\n</style>\n<table border=\"1\" class=\"dataframe\">\n  <thead>\n    <tr style=\"text-align: right;\">\n      <th></th>\n      <th>Pclass</th>\n      <th>Sex</th>\n      <th>Age</th>\n      <th>SibSp</th>\n      <th>Parch</th>\n      <th>Fare</th>\n      <th>Embarked</th>\n    </tr>\n  </thead>\n  <tbody>\n    <tr>\n      <th>38</th>\n      <td>3</td>\n      <td>1</td>\n      <td>25.0</td>\n      <td>0</td>\n      <td>0</td>\n      <td>9.5000</td>\n      <td>0</td>\n    </tr>\n    <tr>\n      <th>179</th>\n      <td>1</td>\n      <td>0</td>\n      <td>64.0</td>\n      <td>0</td>\n      <td>2</td>\n      <td>83.1583</td>\n      <td>1</td>\n    </tr>\n    <tr>\n      <th>45</th>\n      <td>3</td>\n      <td>1</td>\n      <td>25.0</td>\n      <td>0</td>\n      <td>0</td>\n      <td>7.9250</td>\n      <td>0</td>\n    </tr>\n    <tr>\n      <th>348</th>\n      <td>2</td>\n      <td>1</td>\n      <td>24.0</td>\n      <td>0</td>\n      <td>0</td>\n      <td>13.5000</td>\n      <td>0</td>\n    </tr>\n    <tr>\n      <th>408</th>\n      <td>3</td>\n      <td>0</td>\n      <td>30.0</td>\n      <td>0</td>\n      <td>0</td>\n      <td>7.7208</td>\n      <td>2</td>\n    </tr>\n  </tbody>\n</table>\n</div>"
     },
     "metadata": {}
    }
   ]
  },
  {
   "cell_type": "code",
   "metadata": {
    "tags": [],
    "cell_id": "00040-3cf99cff-6922-4a73-917a-fcfd183234ce",
    "deepnote_to_be_reexecuted": false,
    "source_hash": "4d2c7b15",
    "execution_start": 1641984353671,
    "execution_millis": 4,
    "deepnote_cell_type": "code"
   },
   "source": "\n\nx_test =test\nx_train = train.drop(\"Survived\", axis=1)\ny_train = train[\"Survived\"]\n\n#y_test = test['Survived']",
   "execution_count": null,
   "outputs": []
  },
  {
   "cell_type": "code",
   "metadata": {
    "tags": [],
    "cell_id": "00041-24ced23d-5209-4eae-a42d-ae6d47a8339a",
    "deepnote_to_be_reexecuted": false,
    "source_hash": "ca881e90",
    "execution_start": 1641984353722,
    "execution_millis": 179392,
    "deepnote_cell_type": "code"
   },
   "source": "#y_test = test['Survived']",
   "execution_count": null,
   "outputs": []
  },
  {
   "cell_type": "code",
   "metadata": {
    "tags": [],
    "cell_id": "00041-1fb09ef3-486f-446c-80b8-a49ef6c1e3bc",
    "deepnote_to_be_reexecuted": false,
    "source_hash": "957ce4f5",
    "execution_start": 1641984353723,
    "execution_millis": 179341,
    "deepnote_output_heights": [
     21.199996948242188
    ],
    "deepnote_cell_type": "code"
   },
   "source": "print(x_test.shape)\nprint(x_train.shape)\nprint(y_train.shape)",
   "execution_count": null,
   "outputs": [
    {
     "name": "stdout",
     "text": "(418, 7)\n(891, 7)\n(891,)\n",
     "output_type": "stream",
     "data": {}
    }
   ]
  },
  {
   "cell_type": "code",
   "metadata": {
    "tags": [],
    "cell_id": "00040-e8f6f666-d120-42c4-9329-4adf95093c01",
    "deepnote_to_be_reexecuted": false,
    "source_hash": "584fb73e",
    "execution_start": 1641984353723,
    "execution_millis": 2,
    "deepnote_cell_type": "code"
   },
   "source": "# Drop useless columns\ntrain = df_train.drop(['Cabin','Ticket','Name','PassengerId'],axis=1)",
   "execution_count": null,
   "outputs": []
  },
  {
   "cell_type": "code",
   "metadata": {
    "tags": [],
    "cell_id": "00042-f43c00f5-9707-43e4-8835-acce98b93d4b",
    "deepnote_to_be_reexecuted": false,
    "source_hash": "e396a278",
    "execution_start": 1641984353724,
    "execution_millis": 87,
    "deepnote_cell_type": "code"
   },
   "source": "x_train",
   "execution_count": null,
   "outputs": [
    {
     "output_type": "execute_result",
     "execution_count": 42,
     "data": {
      "application/vnd.deepnote.dataframe.v3+json": {
       "column_count": 7,
       "row_count": 891,
       "columns": [
        {
         "name": "Pclass",
         "dtype": "int64",
         "stats": {
          "unique_count": 3,
          "nan_count": 0,
          "min": "1",
          "max": "3",
          "histogram": [
           {
            "bin_start": 1,
            "bin_end": 1.2,
            "count": 216
           },
           {
            "bin_start": 1.2,
            "bin_end": 1.4,
            "count": 0
           },
           {
            "bin_start": 1.4,
            "bin_end": 1.6,
            "count": 0
           },
           {
            "bin_start": 1.6,
            "bin_end": 1.8,
            "count": 0
           },
           {
            "bin_start": 1.8,
            "bin_end": 2,
            "count": 0
           },
           {
            "bin_start": 2,
            "bin_end": 2.2,
            "count": 184
           },
           {
            "bin_start": 2.2,
            "bin_end": 2.4000000000000004,
            "count": 0
           },
           {
            "bin_start": 2.4000000000000004,
            "bin_end": 2.6,
            "count": 0
           },
           {
            "bin_start": 2.6,
            "bin_end": 2.8,
            "count": 0
           },
           {
            "bin_start": 2.8,
            "bin_end": 3,
            "count": 491
           }
          ]
         }
        },
        {
         "name": "Sex",
         "dtype": "int64",
         "stats": {
          "unique_count": 2,
          "nan_count": 0,
          "min": "0",
          "max": "1",
          "histogram": [
           {
            "bin_start": 0,
            "bin_end": 0.1,
            "count": 314
           },
           {
            "bin_start": 0.1,
            "bin_end": 0.2,
            "count": 0
           },
           {
            "bin_start": 0.2,
            "bin_end": 0.30000000000000004,
            "count": 0
           },
           {
            "bin_start": 0.30000000000000004,
            "bin_end": 0.4,
            "count": 0
           },
           {
            "bin_start": 0.4,
            "bin_end": 0.5,
            "count": 0
           },
           {
            "bin_start": 0.5,
            "bin_end": 0.6000000000000001,
            "count": 0
           },
           {
            "bin_start": 0.6000000000000001,
            "bin_end": 0.7000000000000001,
            "count": 0
           },
           {
            "bin_start": 0.7000000000000001,
            "bin_end": 0.8,
            "count": 0
           },
           {
            "bin_start": 0.8,
            "bin_end": 0.9,
            "count": 0
           },
           {
            "bin_start": 0.9,
            "bin_end": 1,
            "count": 577
           }
          ]
         }
        },
        {
         "name": "Age",
         "dtype": "float64",
         "stats": {
          "unique_count": 88,
          "nan_count": 0,
          "min": "0.42",
          "max": "80.0",
          "histogram": [
           {
            "bin_start": 0.42,
            "bin_end": 8.378,
            "count": 54
           },
           {
            "bin_start": 8.378,
            "bin_end": 16.336000000000002,
            "count": 46
           },
           {
            "bin_start": 16.336000000000002,
            "bin_end": 24.294000000000004,
            "count": 177
           },
           {
            "bin_start": 24.294000000000004,
            "bin_end": 32.252,
            "count": 346
           },
           {
            "bin_start": 32.252,
            "bin_end": 40.21,
            "count": 118
           },
           {
            "bin_start": 40.21,
            "bin_end": 48.168000000000006,
            "count": 70
           },
           {
            "bin_start": 48.168000000000006,
            "bin_end": 56.126000000000005,
            "count": 45
           },
           {
            "bin_start": 56.126000000000005,
            "bin_end": 64.084,
            "count": 24
           },
           {
            "bin_start": 64.084,
            "bin_end": 72.042,
            "count": 9
           },
           {
            "bin_start": 72.042,
            "bin_end": 80,
            "count": 2
           }
          ]
         }
        },
        {
         "name": "SibSp",
         "dtype": "int64",
         "stats": {
          "unique_count": 7,
          "nan_count": 0,
          "min": "0",
          "max": "8",
          "histogram": [
           {
            "bin_start": 0,
            "bin_end": 0.8,
            "count": 608
           },
           {
            "bin_start": 0.8,
            "bin_end": 1.6,
            "count": 209
           },
           {
            "bin_start": 1.6,
            "bin_end": 2.4000000000000004,
            "count": 28
           },
           {
            "bin_start": 2.4000000000000004,
            "bin_end": 3.2,
            "count": 16
           },
           {
            "bin_start": 3.2,
            "bin_end": 4,
            "count": 0
           },
           {
            "bin_start": 4,
            "bin_end": 4.800000000000001,
            "count": 18
           },
           {
            "bin_start": 4.800000000000001,
            "bin_end": 5.6000000000000005,
            "count": 5
           },
           {
            "bin_start": 5.6000000000000005,
            "bin_end": 6.4,
            "count": 0
           },
           {
            "bin_start": 6.4,
            "bin_end": 7.2,
            "count": 0
           },
           {
            "bin_start": 7.2,
            "bin_end": 8,
            "count": 7
           }
          ]
         }
        },
        {
         "name": "Parch",
         "dtype": "int64",
         "stats": {
          "unique_count": 7,
          "nan_count": 0,
          "min": "0",
          "max": "6",
          "histogram": [
           {
            "bin_start": 0,
            "bin_end": 0.6,
            "count": 678
           },
           {
            "bin_start": 0.6,
            "bin_end": 1.2,
            "count": 118
           },
           {
            "bin_start": 1.2,
            "bin_end": 1.7999999999999998,
            "count": 0
           },
           {
            "bin_start": 1.7999999999999998,
            "bin_end": 2.4,
            "count": 80
           },
           {
            "bin_start": 2.4,
            "bin_end": 3,
            "count": 0
           },
           {
            "bin_start": 3,
            "bin_end": 3.5999999999999996,
            "count": 5
           },
           {
            "bin_start": 3.5999999999999996,
            "bin_end": 4.2,
            "count": 4
           },
           {
            "bin_start": 4.2,
            "bin_end": 4.8,
            "count": 0
           },
           {
            "bin_start": 4.8,
            "bin_end": 5.3999999999999995,
            "count": 5
           },
           {
            "bin_start": 5.3999999999999995,
            "bin_end": 6,
            "count": 1
           }
          ]
         }
        },
        {
         "name": "Fare",
         "dtype": "float64",
         "stats": {
          "unique_count": 248,
          "nan_count": 0,
          "min": "0.0",
          "max": "512.3292",
          "histogram": [
           {
            "bin_start": 0,
            "bin_end": 51.23292,
            "count": 732
           },
           {
            "bin_start": 51.23292,
            "bin_end": 102.46584,
            "count": 106
           },
           {
            "bin_start": 102.46584,
            "bin_end": 153.69876,
            "count": 31
           },
           {
            "bin_start": 153.69876,
            "bin_end": 204.93168,
            "count": 2
           },
           {
            "bin_start": 204.93168,
            "bin_end": 256.1646,
            "count": 11
           },
           {
            "bin_start": 256.1646,
            "bin_end": 307.39752,
            "count": 6
           },
           {
            "bin_start": 307.39752,
            "bin_end": 358.63044,
            "count": 0
           },
           {
            "bin_start": 358.63044,
            "bin_end": 409.86336,
            "count": 0
           },
           {
            "bin_start": 409.86336,
            "bin_end": 461.09628,
            "count": 0
           },
           {
            "bin_start": 461.09628,
            "bin_end": 512.3292,
            "count": 3
           }
          ]
         }
        },
        {
         "name": "Embarked",
         "dtype": "int64",
         "stats": {
          "unique_count": 3,
          "nan_count": 0,
          "min": "0",
          "max": "2",
          "histogram": [
           {
            "bin_start": 0,
            "bin_end": 0.2,
            "count": 646
           },
           {
            "bin_start": 0.2,
            "bin_end": 0.4,
            "count": 0
           },
           {
            "bin_start": 0.4,
            "bin_end": 0.6000000000000001,
            "count": 0
           },
           {
            "bin_start": 0.6000000000000001,
            "bin_end": 0.8,
            "count": 0
           },
           {
            "bin_start": 0.8,
            "bin_end": 1,
            "count": 0
           },
           {
            "bin_start": 1,
            "bin_end": 1.2000000000000002,
            "count": 168
           },
           {
            "bin_start": 1.2000000000000002,
            "bin_end": 1.4000000000000001,
            "count": 0
           },
           {
            "bin_start": 1.4000000000000001,
            "bin_end": 1.6,
            "count": 0
           },
           {
            "bin_start": 1.6,
            "bin_end": 1.8,
            "count": 0
           },
           {
            "bin_start": 1.8,
            "bin_end": 2,
            "count": 77
           }
          ]
         }
        },
        {
         "name": "_deepnote_index_column",
         "dtype": "int64"
        }
       ],
       "rows": [
        {
         "Pclass": 3,
         "Sex": 1,
         "Age": 22,
         "SibSp": 1,
         "Parch": 0,
         "Fare": 7.25,
         "Embarked": 0,
         "_deepnote_index_column": 0
        },
        {
         "Pclass": 1,
         "Sex": 0,
         "Age": 38,
         "SibSp": 1,
         "Parch": 0,
         "Fare": 71.2833,
         "Embarked": 1,
         "_deepnote_index_column": 1
        },
        {
         "Pclass": 3,
         "Sex": 0,
         "Age": 26,
         "SibSp": 0,
         "Parch": 0,
         "Fare": 7.925,
         "Embarked": 0,
         "_deepnote_index_column": 2
        },
        {
         "Pclass": 1,
         "Sex": 0,
         "Age": 35,
         "SibSp": 1,
         "Parch": 0,
         "Fare": 53.1,
         "Embarked": 0,
         "_deepnote_index_column": 3
        },
        {
         "Pclass": 3,
         "Sex": 1,
         "Age": 35,
         "SibSp": 0,
         "Parch": 0,
         "Fare": 8.05,
         "Embarked": 0,
         "_deepnote_index_column": 4
        },
        {
         "Pclass": 3,
         "Sex": 1,
         "Age": 30,
         "SibSp": 0,
         "Parch": 0,
         "Fare": 8.4583,
         "Embarked": 2,
         "_deepnote_index_column": 5
        },
        {
         "Pclass": 1,
         "Sex": 1,
         "Age": 54,
         "SibSp": 0,
         "Parch": 0,
         "Fare": 51.8625,
         "Embarked": 0,
         "_deepnote_index_column": 6
        },
        {
         "Pclass": 3,
         "Sex": 1,
         "Age": 2,
         "SibSp": 3,
         "Parch": 1,
         "Fare": 21.075,
         "Embarked": 0,
         "_deepnote_index_column": 7
        },
        {
         "Pclass": 3,
         "Sex": 0,
         "Age": 27,
         "SibSp": 0,
         "Parch": 2,
         "Fare": 11.1333,
         "Embarked": 0,
         "_deepnote_index_column": 8
        },
        {
         "Pclass": 2,
         "Sex": 0,
         "Age": 14,
         "SibSp": 1,
         "Parch": 0,
         "Fare": 30.0708,
         "Embarked": 1,
         "_deepnote_index_column": 9
        }
       ]
      },
      "text/plain": "     Pclass  Sex   Age  SibSp  Parch     Fare  Embarked\n0         3    1  22.0      1      0   7.2500         0\n1         1    0  38.0      1      0  71.2833         1\n2         3    0  26.0      0      0   7.9250         0\n3         1    0  35.0      1      0  53.1000         0\n4         3    1  35.0      0      0   8.0500         0\n..      ...  ...   ...    ...    ...      ...       ...\n886       2    1  27.0      0      0  13.0000         0\n887       1    0  19.0      0      0  30.0000         0\n888       3    0  30.0      1      2  23.4500         0\n889       1    1  26.0      0      0  30.0000         1\n890       3    1  32.0      0      0   7.7500         2\n\n[891 rows x 7 columns]",
      "text/html": "<div>\n<style scoped>\n    .dataframe tbody tr th:only-of-type {\n        vertical-align: middle;\n    }\n\n    .dataframe tbody tr th {\n        vertical-align: top;\n    }\n\n    .dataframe thead th {\n        text-align: right;\n    }\n</style>\n<table border=\"1\" class=\"dataframe\">\n  <thead>\n    <tr style=\"text-align: right;\">\n      <th></th>\n      <th>Pclass</th>\n      <th>Sex</th>\n      <th>Age</th>\n      <th>SibSp</th>\n      <th>Parch</th>\n      <th>Fare</th>\n      <th>Embarked</th>\n    </tr>\n  </thead>\n  <tbody>\n    <tr>\n      <th>0</th>\n      <td>3</td>\n      <td>1</td>\n      <td>22.0</td>\n      <td>1</td>\n      <td>0</td>\n      <td>7.2500</td>\n      <td>0</td>\n    </tr>\n    <tr>\n      <th>1</th>\n      <td>1</td>\n      <td>0</td>\n      <td>38.0</td>\n      <td>1</td>\n      <td>0</td>\n      <td>71.2833</td>\n      <td>1</td>\n    </tr>\n    <tr>\n      <th>2</th>\n      <td>3</td>\n      <td>0</td>\n      <td>26.0</td>\n      <td>0</td>\n      <td>0</td>\n      <td>7.9250</td>\n      <td>0</td>\n    </tr>\n    <tr>\n      <th>3</th>\n      <td>1</td>\n      <td>0</td>\n      <td>35.0</td>\n      <td>1</td>\n      <td>0</td>\n      <td>53.1000</td>\n      <td>0</td>\n    </tr>\n    <tr>\n      <th>4</th>\n      <td>3</td>\n      <td>1</td>\n      <td>35.0</td>\n      <td>0</td>\n      <td>0</td>\n      <td>8.0500</td>\n      <td>0</td>\n    </tr>\n    <tr>\n      <th>...</th>\n      <td>...</td>\n      <td>...</td>\n      <td>...</td>\n      <td>...</td>\n      <td>...</td>\n      <td>...</td>\n      <td>...</td>\n    </tr>\n    <tr>\n      <th>886</th>\n      <td>2</td>\n      <td>1</td>\n      <td>27.0</td>\n      <td>0</td>\n      <td>0</td>\n      <td>13.0000</td>\n      <td>0</td>\n    </tr>\n    <tr>\n      <th>887</th>\n      <td>1</td>\n      <td>0</td>\n      <td>19.0</td>\n      <td>0</td>\n      <td>0</td>\n      <td>30.0000</td>\n      <td>0</td>\n    </tr>\n    <tr>\n      <th>888</th>\n      <td>3</td>\n      <td>0</td>\n      <td>30.0</td>\n      <td>1</td>\n      <td>2</td>\n      <td>23.4500</td>\n      <td>0</td>\n    </tr>\n    <tr>\n      <th>889</th>\n      <td>1</td>\n      <td>1</td>\n      <td>26.0</td>\n      <td>0</td>\n      <td>0</td>\n      <td>30.0000</td>\n      <td>1</td>\n    </tr>\n    <tr>\n      <th>890</th>\n      <td>3</td>\n      <td>1</td>\n      <td>32.0</td>\n      <td>0</td>\n      <td>0</td>\n      <td>7.7500</td>\n      <td>2</td>\n    </tr>\n  </tbody>\n</table>\n<p>891 rows × 7 columns</p>\n</div>"
     },
     "metadata": {}
    }
   ]
  },
  {
   "cell_type": "code",
   "metadata": {
    "tags": [],
    "cell_id": "00043-d6374d6b-2a2e-4e90-8640-1e3f02d8138d",
    "deepnote_to_be_reexecuted": false,
    "source_hash": "ed857f47",
    "execution_start": 1641984353817,
    "execution_millis": 17,
    "deepnote_output_heights": [
     232.39999389648438
    ],
    "deepnote_cell_type": "code"
   },
   "source": "y_train",
   "execution_count": null,
   "outputs": [
    {
     "output_type": "execute_result",
     "execution_count": 43,
     "data": {
      "text/plain": "0      0\n1      1\n2      1\n3      1\n4      0\n      ..\n886    0\n887    1\n888    0\n889    1\n890    0\nName: Survived, Length: 891, dtype: int64"
     },
     "metadata": {}
    }
   ]
  },
  {
   "cell_type": "markdown",
   "source": "making models on baseline algoritms",
   "metadata": {
    "tags": [],
    "cell_id": "00048-7dc6c8a5-d8e2-4f50-8384-8cc7a50256fb",
    "deepnote_cell_type": "markdown"
   }
  },
  {
   "cell_type": "code",
   "metadata": {
    "tags": [],
    "cell_id": "00041-3755ac22-894a-4d41-bc8e-fe57a6e83643",
    "deepnote_to_be_reexecuted": false,
    "source_hash": "49387d2a",
    "execution_start": 1641984353844,
    "execution_millis": 21,
    "deepnote_output_heights": [
     21.199996948242188
    ],
    "deepnote_cell_type": "code"
   },
   "source": "LogReg= LogisticRegression(solver='liblinear')\nLogReg.fit(x_train,y_train)",
   "execution_count": null,
   "outputs": [
    {
     "output_type": "execute_result",
     "execution_count": 44,
     "data": {
      "text/plain": "LogisticRegression(solver='liblinear')"
     },
     "metadata": {}
    }
   ]
  },
  {
   "cell_type": "code",
   "metadata": {
    "tags": [],
    "cell_id": "00047-74835f32-21d4-4daa-b585-b1dd38ee8724",
    "deepnote_to_be_reexecuted": false,
    "source_hash": "51618fb5",
    "execution_start": 1641984353913,
    "execution_millis": 203,
    "deepnote_output_heights": [
     21.199996948242188
    ],
    "deepnote_cell_type": "code"
   },
   "source": "RF = RandomForestClassifier(n_estimators=100)\nRF.fit(x_train,y_train)",
   "execution_count": null,
   "outputs": [
    {
     "output_type": "execute_result",
     "execution_count": 45,
     "data": {
      "text/plain": "RandomForestClassifier()"
     },
     "metadata": {}
    }
   ]
  },
  {
   "cell_type": "code",
   "metadata": {
    "tags": [],
    "cell_id": "00049-1ce9409a-c432-432e-b7a4-2cb0319c2934",
    "deepnote_to_be_reexecuted": false,
    "source_hash": "876cc509",
    "execution_start": 1641984354159,
    "execution_millis": 374,
    "deepnote_output_heights": [
     21.199996948242188
    ],
    "deepnote_cell_type": "code"
   },
   "source": "KNN =KNeighborsClassifier()\nKNN.fit(x_train,y_train)",
   "execution_count": null,
   "outputs": [
    {
     "output_type": "execute_result",
     "execution_count": 46,
     "data": {
      "text/plain": "KNeighborsClassifier()"
     },
     "metadata": {}
    }
   ]
  },
  {
   "cell_type": "code",
   "metadata": {
    "tags": [],
    "cell_id": "00050-ac0def52-6979-4dad-b24f-9b21cbbf669c",
    "deepnote_to_be_reexecuted": false,
    "source_hash": "c203574",
    "execution_start": 1641984354160,
    "execution_millis": 391,
    "deepnote_output_heights": [
     21.199996948242188
    ],
    "deepnote_cell_type": "code"
   },
   "source": "NB = GaussianNB()\nNB.fit(x_train,y_train)",
   "execution_count": null,
   "outputs": [
    {
     "output_type": "execute_result",
     "execution_count": 47,
     "data": {
      "text/plain": "GaussianNB()"
     },
     "metadata": {}
    }
   ]
  },
  {
   "cell_type": "code",
   "metadata": {
    "tags": [],
    "cell_id": "00042-c4993772-8039-49ab-b7a4-c7697143de17",
    "deepnote_to_be_reexecuted": false,
    "source_hash": "35016624",
    "execution_start": 1641984354221,
    "execution_millis": 73,
    "deepnote_cell_type": "code"
   },
   "source": "LogReg = round(LogReg.score(x_train, y_train) * 100, 2)\nRF = round(RF.score(x_train, y_train) * 100, 2)\nKNN = round(KNN.score(x_train, y_train) * 100, 2)\nNB = round(NB.score(x_train, y_train) * 100, 2)",
   "execution_count": null,
   "outputs": []
  },
  {
   "cell_type": "code",
   "metadata": {
    "tags": [],
    "cell_id": "00043-6c077e67-474a-4341-b1b4-40736d6557dc",
    "deepnote_to_be_reexecuted": false,
    "source_hash": "fee89f0b",
    "execution_start": 1641984354341,
    "execution_millis": 0,
    "deepnote_cell_type": "code"
   },
   "source": "#dict = {'Model' : ['Logistic Regression'],\n#'Score' :[score1] }\n#models_score = pd.DataFrame(dict)\n\n#'K nearest neighbor','Naive Bayes','Support Vector Machine'\ndict = {'Model' : ['Logistic Regression','Random Forest','K nearest neighbor','Naive Bayes'],\n'Score' :[LogReg,RF,KNN,NB] }\nmodels_score = pd.DataFrame(dict)",
   "execution_count": null,
   "outputs": []
  },
  {
   "cell_type": "code",
   "metadata": {
    "tags": [],
    "cell_id": "00047-2f9f0217-43ac-4a0a-9462-eebe285a087b",
    "deepnote_to_be_reexecuted": false,
    "source_hash": "a5bbc9c6",
    "execution_start": 1641984354342,
    "execution_millis": 218,
    "deepnote_cell_type": "code"
   },
   "source": "models_score",
   "execution_count": null,
   "outputs": [
    {
     "output_type": "execute_result",
     "execution_count": 50,
     "data": {
      "application/vnd.deepnote.dataframe.v3+json": {
       "column_count": 2,
       "row_count": 4,
       "columns": [
        {
         "name": "Model",
         "dtype": "object",
         "stats": {
          "unique_count": 4,
          "nan_count": 0,
          "categories": [
           {
            "name": "Logistic Regression",
            "count": 1
           },
           {
            "name": "Random Forest",
            "count": 1
           },
           {
            "name": "2 others",
            "count": 2
           }
          ]
         }
        },
        {
         "name": "Score",
         "dtype": "float64",
         "stats": {
          "unique_count": 4,
          "nan_count": 0,
          "min": "79.24",
          "max": "97.98",
          "histogram": [
           {
            "bin_start": 79.24,
            "bin_end": 81.11399999999999,
            "count": 3
           },
           {
            "bin_start": 81.11399999999999,
            "bin_end": 82.988,
            "count": 0
           },
           {
            "bin_start": 82.988,
            "bin_end": 84.862,
            "count": 0
           },
           {
            "bin_start": 84.862,
            "bin_end": 86.736,
            "count": 0
           },
           {
            "bin_start": 86.736,
            "bin_end": 88.61,
            "count": 0
           },
           {
            "bin_start": 88.61,
            "bin_end": 90.48400000000001,
            "count": 0
           },
           {
            "bin_start": 90.48400000000001,
            "bin_end": 92.358,
            "count": 0
           },
           {
            "bin_start": 92.358,
            "bin_end": 94.232,
            "count": 0
           },
           {
            "bin_start": 94.232,
            "bin_end": 96.10600000000001,
            "count": 0
           },
           {
            "bin_start": 96.10600000000001,
            "bin_end": 97.98,
            "count": 1
           }
          ]
         }
        },
        {
         "name": "_deepnote_index_column",
         "dtype": "int64"
        }
       ],
       "rows": [
        {
         "Model": "Logistic Regression",
         "Score": 80.36,
         "_deepnote_index_column": 0
        },
        {
         "Model": "Random Forest",
         "Score": 97.98,
         "_deepnote_index_column": 1
        },
        {
         "Model": "K nearest neighbor",
         "Score": 80.47,
         "_deepnote_index_column": 2
        },
        {
         "Model": "Naive Bayes",
         "Score": 79.24,
         "_deepnote_index_column": 3
        }
       ]
      },
      "text/plain": "                 Model  Score\n0  Logistic Regression  80.36\n1        Random Forest  97.98\n2   K nearest neighbor  80.47\n3          Naive Bayes  79.24",
      "text/html": "<div>\n<style scoped>\n    .dataframe tbody tr th:only-of-type {\n        vertical-align: middle;\n    }\n\n    .dataframe tbody tr th {\n        vertical-align: top;\n    }\n\n    .dataframe thead th {\n        text-align: right;\n    }\n</style>\n<table border=\"1\" class=\"dataframe\">\n  <thead>\n    <tr style=\"text-align: right;\">\n      <th></th>\n      <th>Model</th>\n      <th>Score</th>\n    </tr>\n  </thead>\n  <tbody>\n    <tr>\n      <th>0</th>\n      <td>Logistic Regression</td>\n      <td>80.36</td>\n    </tr>\n    <tr>\n      <th>1</th>\n      <td>Random Forest</td>\n      <td>97.98</td>\n    </tr>\n    <tr>\n      <th>2</th>\n      <td>K nearest neighbor</td>\n      <td>80.47</td>\n    </tr>\n    <tr>\n      <th>3</th>\n      <td>Naive Bayes</td>\n      <td>79.24</td>\n    </tr>\n  </tbody>\n</table>\n</div>"
     },
     "metadata": {}
    }
   ]
  },
  {
   "cell_type": "markdown",
   "source": "# 4. Machine Learning ",
   "metadata": {
    "tags": [],
    "is_collapsed": false,
    "cell_id": "00041-2cd6b832-7aab-486a-8331-80a1f6c77c4e",
    "deepnote_cell_type": "text-cell-h1"
   }
  },
  {
   "cell_type": "code",
   "metadata": {
    "tags": [],
    "cell_id": "00064-23287a6e-c13f-45b6-a65a-b2cebf56c952",
    "deepnote_to_be_reexecuted": false,
    "source_hash": "4422660e",
    "execution_start": 1641984354345,
    "execution_millis": 2,
    "deepnote_cell_type": "code"
   },
   "source": "\n\n#df_train_ml = df_train.copy()\n#df_test_ml = df_test.copy()\n\n",
   "execution_count": null,
   "outputs": []
  },
  {
   "cell_type": "code",
   "metadata": {
    "tags": [],
    "cell_id": "00065-607a2c98-8b75-4fb4-8e3f-1847461d0d1a",
    "deepnote_to_be_reexecuted": false,
    "source_hash": "ae66f802",
    "execution_start": 1641984354397,
    "execution_millis": 165,
    "deepnote_cell_type": "code"
   },
   "source": "df_train_ml",
   "execution_count": null,
   "outputs": [
    {
     "output_type": "execute_result",
     "execution_count": 52,
     "data": {
      "application/vnd.deepnote.dataframe.v3+json": {
       "column_count": 12,
       "row_count": 891,
       "columns": [
        {
         "name": "PassengerId",
         "dtype": "int64",
         "stats": {
          "unique_count": 891,
          "nan_count": 0,
          "min": "1",
          "max": "891",
          "histogram": [
           {
            "bin_start": 1,
            "bin_end": 90,
            "count": 89
           },
           {
            "bin_start": 90,
            "bin_end": 179,
            "count": 89
           },
           {
            "bin_start": 179,
            "bin_end": 268,
            "count": 89
           },
           {
            "bin_start": 268,
            "bin_end": 357,
            "count": 89
           },
           {
            "bin_start": 357,
            "bin_end": 446,
            "count": 89
           },
           {
            "bin_start": 446,
            "bin_end": 535,
            "count": 89
           },
           {
            "bin_start": 535,
            "bin_end": 624,
            "count": 89
           },
           {
            "bin_start": 624,
            "bin_end": 713,
            "count": 89
           },
           {
            "bin_start": 713,
            "bin_end": 802,
            "count": 89
           },
           {
            "bin_start": 802,
            "bin_end": 891,
            "count": 90
           }
          ]
         }
        },
        {
         "name": "Survived",
         "dtype": "int64",
         "stats": {
          "unique_count": 2,
          "nan_count": 0,
          "min": "0",
          "max": "1",
          "histogram": [
           {
            "bin_start": 0,
            "bin_end": 0.1,
            "count": 549
           },
           {
            "bin_start": 0.1,
            "bin_end": 0.2,
            "count": 0
           },
           {
            "bin_start": 0.2,
            "bin_end": 0.30000000000000004,
            "count": 0
           },
           {
            "bin_start": 0.30000000000000004,
            "bin_end": 0.4,
            "count": 0
           },
           {
            "bin_start": 0.4,
            "bin_end": 0.5,
            "count": 0
           },
           {
            "bin_start": 0.5,
            "bin_end": 0.6000000000000001,
            "count": 0
           },
           {
            "bin_start": 0.6000000000000001,
            "bin_end": 0.7000000000000001,
            "count": 0
           },
           {
            "bin_start": 0.7000000000000001,
            "bin_end": 0.8,
            "count": 0
           },
           {
            "bin_start": 0.8,
            "bin_end": 0.9,
            "count": 0
           },
           {
            "bin_start": 0.9,
            "bin_end": 1,
            "count": 342
           }
          ]
         }
        },
        {
         "name": "Pclass",
         "dtype": "int64",
         "stats": {
          "unique_count": 3,
          "nan_count": 0,
          "min": "1",
          "max": "3",
          "histogram": [
           {
            "bin_start": 1,
            "bin_end": 1.2,
            "count": 216
           },
           {
            "bin_start": 1.2,
            "bin_end": 1.4,
            "count": 0
           },
           {
            "bin_start": 1.4,
            "bin_end": 1.6,
            "count": 0
           },
           {
            "bin_start": 1.6,
            "bin_end": 1.8,
            "count": 0
           },
           {
            "bin_start": 1.8,
            "bin_end": 2,
            "count": 0
           },
           {
            "bin_start": 2,
            "bin_end": 2.2,
            "count": 184
           },
           {
            "bin_start": 2.2,
            "bin_end": 2.4000000000000004,
            "count": 0
           },
           {
            "bin_start": 2.4000000000000004,
            "bin_end": 2.6,
            "count": 0
           },
           {
            "bin_start": 2.6,
            "bin_end": 2.8,
            "count": 0
           },
           {
            "bin_start": 2.8,
            "bin_end": 3,
            "count": 491
           }
          ]
         }
        },
        {
         "name": "Name",
         "dtype": "object",
         "stats": {
          "unique_count": 891,
          "nan_count": 0,
          "categories": [
           {
            "name": "Braund, Mr. Owen Harris",
            "count": 1
           },
           {
            "name": "Cumings, Mrs. John Bradley (Florence Briggs Thayer)",
            "count": 1
           },
           {
            "name": "889 others",
            "count": 889
           }
          ]
         }
        },
        {
         "name": "Sex",
         "dtype": "object",
         "stats": {
          "unique_count": 2,
          "nan_count": 0,
          "categories": [
           {
            "name": "male",
            "count": 577
           },
           {
            "name": "female",
            "count": 314
           }
          ]
         }
        },
        {
         "name": "Age",
         "dtype": "float64",
         "stats": {
          "unique_count": 88,
          "nan_count": 177,
          "min": "0.42",
          "max": "80.0",
          "histogram": [
           {
            "bin_start": 0.42,
            "bin_end": 8.378,
            "count": 54
           },
           {
            "bin_start": 8.378,
            "bin_end": 16.336000000000002,
            "count": 46
           },
           {
            "bin_start": 16.336000000000002,
            "bin_end": 24.294000000000004,
            "count": 177
           },
           {
            "bin_start": 24.294000000000004,
            "bin_end": 32.252,
            "count": 169
           },
           {
            "bin_start": 32.252,
            "bin_end": 40.21,
            "count": 118
           },
           {
            "bin_start": 40.21,
            "bin_end": 48.168000000000006,
            "count": 70
           },
           {
            "bin_start": 48.168000000000006,
            "bin_end": 56.126000000000005,
            "count": 45
           },
           {
            "bin_start": 56.126000000000005,
            "bin_end": 64.084,
            "count": 24
           },
           {
            "bin_start": 64.084,
            "bin_end": 72.042,
            "count": 9
           },
           {
            "bin_start": 72.042,
            "bin_end": 80,
            "count": 2
           }
          ]
         }
        },
        {
         "name": "SibSp",
         "dtype": "int64",
         "stats": {
          "unique_count": 7,
          "nan_count": 0,
          "min": "0",
          "max": "8",
          "histogram": [
           {
            "bin_start": 0,
            "bin_end": 0.8,
            "count": 608
           },
           {
            "bin_start": 0.8,
            "bin_end": 1.6,
            "count": 209
           },
           {
            "bin_start": 1.6,
            "bin_end": 2.4000000000000004,
            "count": 28
           },
           {
            "bin_start": 2.4000000000000004,
            "bin_end": 3.2,
            "count": 16
           },
           {
            "bin_start": 3.2,
            "bin_end": 4,
            "count": 0
           },
           {
            "bin_start": 4,
            "bin_end": 4.800000000000001,
            "count": 18
           },
           {
            "bin_start": 4.800000000000001,
            "bin_end": 5.6000000000000005,
            "count": 5
           },
           {
            "bin_start": 5.6000000000000005,
            "bin_end": 6.4,
            "count": 0
           },
           {
            "bin_start": 6.4,
            "bin_end": 7.2,
            "count": 0
           },
           {
            "bin_start": 7.2,
            "bin_end": 8,
            "count": 7
           }
          ]
         }
        },
        {
         "name": "Parch",
         "dtype": "int64",
         "stats": {
          "unique_count": 7,
          "nan_count": 0,
          "min": "0",
          "max": "6",
          "histogram": [
           {
            "bin_start": 0,
            "bin_end": 0.6,
            "count": 678
           },
           {
            "bin_start": 0.6,
            "bin_end": 1.2,
            "count": 118
           },
           {
            "bin_start": 1.2,
            "bin_end": 1.7999999999999998,
            "count": 0
           },
           {
            "bin_start": 1.7999999999999998,
            "bin_end": 2.4,
            "count": 80
           },
           {
            "bin_start": 2.4,
            "bin_end": 3,
            "count": 0
           },
           {
            "bin_start": 3,
            "bin_end": 3.5999999999999996,
            "count": 5
           },
           {
            "bin_start": 3.5999999999999996,
            "bin_end": 4.2,
            "count": 4
           },
           {
            "bin_start": 4.2,
            "bin_end": 4.8,
            "count": 0
           },
           {
            "bin_start": 4.8,
            "bin_end": 5.3999999999999995,
            "count": 5
           },
           {
            "bin_start": 5.3999999999999995,
            "bin_end": 6,
            "count": 1
           }
          ]
         }
        },
        {
         "name": "Ticket",
         "dtype": "object",
         "stats": {
          "unique_count": 681,
          "nan_count": 0,
          "categories": [
           {
            "name": "347082",
            "count": 7
           },
           {
            "name": "1601",
            "count": 7
           },
           {
            "name": "679 others",
            "count": 877
           }
          ]
         }
        },
        {
         "name": "Fare",
         "dtype": "float64",
         "stats": {
          "unique_count": 248,
          "nan_count": 0,
          "min": "0.0",
          "max": "512.3292",
          "histogram": [
           {
            "bin_start": 0,
            "bin_end": 51.23292,
            "count": 732
           },
           {
            "bin_start": 51.23292,
            "bin_end": 102.46584,
            "count": 106
           },
           {
            "bin_start": 102.46584,
            "bin_end": 153.69876,
            "count": 31
           },
           {
            "bin_start": 153.69876,
            "bin_end": 204.93168,
            "count": 2
           },
           {
            "bin_start": 204.93168,
            "bin_end": 256.1646,
            "count": 11
           },
           {
            "bin_start": 256.1646,
            "bin_end": 307.39752,
            "count": 6
           },
           {
            "bin_start": 307.39752,
            "bin_end": 358.63044,
            "count": 0
           },
           {
            "bin_start": 358.63044,
            "bin_end": 409.86336,
            "count": 0
           },
           {
            "bin_start": 409.86336,
            "bin_end": 461.09628,
            "count": 0
           },
           {
            "bin_start": 461.09628,
            "bin_end": 512.3292,
            "count": 3
           }
          ]
         }
        },
        {
         "name": "Cabin",
         "dtype": "object",
         "stats": {
          "unique_count": 147,
          "nan_count": 687,
          "categories": [
           {
            "name": "G6",
            "count": 4
           },
           {
            "name": "146 others",
            "count": 200
           },
           {
            "name": "Missing",
            "count": 687
           }
          ]
         }
        },
        {
         "name": "Embarked",
         "dtype": "object",
         "stats": {
          "unique_count": 3,
          "nan_count": 2,
          "categories": [
           {
            "name": "S",
            "count": 644
           },
           {
            "name": "2 others",
            "count": 245
           },
           {
            "name": "Missing",
            "count": 2
           }
          ]
         }
        },
        {
         "name": "_deepnote_index_column",
         "dtype": "int64"
        }
       ],
       "rows": [
        {
         "PassengerId": 1,
         "Survived": 0,
         "Pclass": 3,
         "Name": "Braund, Mr. Owen Harris",
         "Sex": "male",
         "Age": 22,
         "SibSp": 1,
         "Parch": 0,
         "Ticket": "A/5 21171",
         "Fare": 7.25,
         "Cabin": "nan",
         "Embarked": "S",
         "_deepnote_index_column": 0
        },
        {
         "PassengerId": 2,
         "Survived": 1,
         "Pclass": 1,
         "Name": "Cumings, Mrs. John Bradley (Florence Briggs Thayer)",
         "Sex": "female",
         "Age": 38,
         "SibSp": 1,
         "Parch": 0,
         "Ticket": "PC 17599",
         "Fare": 71.2833,
         "Cabin": "C85",
         "Embarked": "C",
         "_deepnote_index_column": 1
        },
        {
         "PassengerId": 3,
         "Survived": 1,
         "Pclass": 3,
         "Name": "Heikkinen, Miss. Laina",
         "Sex": "female",
         "Age": 26,
         "SibSp": 0,
         "Parch": 0,
         "Ticket": "STON/O2. 3101282",
         "Fare": 7.925,
         "Cabin": "nan",
         "Embarked": "S",
         "_deepnote_index_column": 2
        },
        {
         "PassengerId": 4,
         "Survived": 1,
         "Pclass": 1,
         "Name": "Futrelle, Mrs. Jacques Heath (Lily May Peel)",
         "Sex": "female",
         "Age": 35,
         "SibSp": 1,
         "Parch": 0,
         "Ticket": "113803",
         "Fare": 53.1,
         "Cabin": "C123",
         "Embarked": "S",
         "_deepnote_index_column": 3
        },
        {
         "PassengerId": 5,
         "Survived": 0,
         "Pclass": 3,
         "Name": "Allen, Mr. William Henry",
         "Sex": "male",
         "Age": 35,
         "SibSp": 0,
         "Parch": 0,
         "Ticket": "373450",
         "Fare": 8.05,
         "Cabin": "nan",
         "Embarked": "S",
         "_deepnote_index_column": 4
        },
        {
         "PassengerId": 6,
         "Survived": 0,
         "Pclass": 3,
         "Name": "Moran, Mr. James",
         "Sex": "male",
         "Age": "nan",
         "SibSp": 0,
         "Parch": 0,
         "Ticket": "330877",
         "Fare": 8.4583,
         "Cabin": "nan",
         "Embarked": "Q",
         "_deepnote_index_column": 5
        },
        {
         "PassengerId": 7,
         "Survived": 0,
         "Pclass": 1,
         "Name": "McCarthy, Mr. Timothy J",
         "Sex": "male",
         "Age": 54,
         "SibSp": 0,
         "Parch": 0,
         "Ticket": "17463",
         "Fare": 51.8625,
         "Cabin": "E46",
         "Embarked": "S",
         "_deepnote_index_column": 6
        },
        {
         "PassengerId": 8,
         "Survived": 0,
         "Pclass": 3,
         "Name": "Palsson, Master. Gosta Leonard",
         "Sex": "male",
         "Age": 2,
         "SibSp": 3,
         "Parch": 1,
         "Ticket": "349909",
         "Fare": 21.075,
         "Cabin": "nan",
         "Embarked": "S",
         "_deepnote_index_column": 7
        },
        {
         "PassengerId": 9,
         "Survived": 1,
         "Pclass": 3,
         "Name": "Johnson, Mrs. Oscar W (Elisabeth Vilhelmina Berg)",
         "Sex": "female",
         "Age": 27,
         "SibSp": 0,
         "Parch": 2,
         "Ticket": "347742",
         "Fare": 11.1333,
         "Cabin": "nan",
         "Embarked": "S",
         "_deepnote_index_column": 8
        },
        {
         "PassengerId": 10,
         "Survived": 1,
         "Pclass": 2,
         "Name": "Nasser, Mrs. Nicholas (Adele Achem)",
         "Sex": "female",
         "Age": 14,
         "SibSp": 1,
         "Parch": 0,
         "Ticket": "237736",
         "Fare": 30.0708,
         "Cabin": "nan",
         "Embarked": "C",
         "_deepnote_index_column": 9
        }
       ]
      },
      "text/plain": "     PassengerId  Survived  Pclass  \\\n0              1         0       3   \n1              2         1       1   \n2              3         1       3   \n3              4         1       1   \n4              5         0       3   \n..           ...       ...     ...   \n886          887         0       2   \n887          888         1       1   \n888          889         0       3   \n889          890         1       1   \n890          891         0       3   \n\n                                                  Name     Sex   Age  SibSp  \\\n0                              Braund, Mr. Owen Harris    male  22.0      1   \n1    Cumings, Mrs. John Bradley (Florence Briggs Th...  female  38.0      1   \n2                               Heikkinen, Miss. Laina  female  26.0      0   \n3         Futrelle, Mrs. Jacques Heath (Lily May Peel)  female  35.0      1   \n4                             Allen, Mr. William Henry    male  35.0      0   \n..                                                 ...     ...   ...    ...   \n886                              Montvila, Rev. Juozas    male  27.0      0   \n887                       Graham, Miss. Margaret Edith  female  19.0      0   \n888           Johnston, Miss. Catherine Helen \"Carrie\"  female   NaN      1   \n889                              Behr, Mr. Karl Howell    male  26.0      0   \n890                                Dooley, Mr. Patrick    male  32.0      0   \n\n     Parch            Ticket     Fare Cabin Embarked  \n0        0         A/5 21171   7.2500   NaN        S  \n1        0          PC 17599  71.2833   C85        C  \n2        0  STON/O2. 3101282   7.9250   NaN        S  \n3        0            113803  53.1000  C123        S  \n4        0            373450   8.0500   NaN        S  \n..     ...               ...      ...   ...      ...  \n886      0            211536  13.0000   NaN        S  \n887      0            112053  30.0000   B42        S  \n888      2        W./C. 6607  23.4500   NaN        S  \n889      0            111369  30.0000  C148        C  \n890      0            370376   7.7500   NaN        Q  \n\n[891 rows x 12 columns]",
      "text/html": "<div>\n<style scoped>\n    .dataframe tbody tr th:only-of-type {\n        vertical-align: middle;\n    }\n\n    .dataframe tbody tr th {\n        vertical-align: top;\n    }\n\n    .dataframe thead th {\n        text-align: right;\n    }\n</style>\n<table border=\"1\" class=\"dataframe\">\n  <thead>\n    <tr style=\"text-align: right;\">\n      <th></th>\n      <th>PassengerId</th>\n      <th>Survived</th>\n      <th>Pclass</th>\n      <th>Name</th>\n      <th>Sex</th>\n      <th>Age</th>\n      <th>SibSp</th>\n      <th>Parch</th>\n      <th>Ticket</th>\n      <th>Fare</th>\n      <th>Cabin</th>\n      <th>Embarked</th>\n    </tr>\n  </thead>\n  <tbody>\n    <tr>\n      <th>0</th>\n      <td>1</td>\n      <td>0</td>\n      <td>3</td>\n      <td>Braund, Mr. Owen Harris</td>\n      <td>male</td>\n      <td>22.0</td>\n      <td>1</td>\n      <td>0</td>\n      <td>A/5 21171</td>\n      <td>7.2500</td>\n      <td>NaN</td>\n      <td>S</td>\n    </tr>\n    <tr>\n      <th>1</th>\n      <td>2</td>\n      <td>1</td>\n      <td>1</td>\n      <td>Cumings, Mrs. John Bradley (Florence Briggs Th...</td>\n      <td>female</td>\n      <td>38.0</td>\n      <td>1</td>\n      <td>0</td>\n      <td>PC 17599</td>\n      <td>71.2833</td>\n      <td>C85</td>\n      <td>C</td>\n    </tr>\n    <tr>\n      <th>2</th>\n      <td>3</td>\n      <td>1</td>\n      <td>3</td>\n      <td>Heikkinen, Miss. Laina</td>\n      <td>female</td>\n      <td>26.0</td>\n      <td>0</td>\n      <td>0</td>\n      <td>STON/O2. 3101282</td>\n      <td>7.9250</td>\n      <td>NaN</td>\n      <td>S</td>\n    </tr>\n    <tr>\n      <th>3</th>\n      <td>4</td>\n      <td>1</td>\n      <td>1</td>\n      <td>Futrelle, Mrs. Jacques Heath (Lily May Peel)</td>\n      <td>female</td>\n      <td>35.0</td>\n      <td>1</td>\n      <td>0</td>\n      <td>113803</td>\n      <td>53.1000</td>\n      <td>C123</td>\n      <td>S</td>\n    </tr>\n    <tr>\n      <th>4</th>\n      <td>5</td>\n      <td>0</td>\n      <td>3</td>\n      <td>Allen, Mr. William Henry</td>\n      <td>male</td>\n      <td>35.0</td>\n      <td>0</td>\n      <td>0</td>\n      <td>373450</td>\n      <td>8.0500</td>\n      <td>NaN</td>\n      <td>S</td>\n    </tr>\n    <tr>\n      <th>...</th>\n      <td>...</td>\n      <td>...</td>\n      <td>...</td>\n      <td>...</td>\n      <td>...</td>\n      <td>...</td>\n      <td>...</td>\n      <td>...</td>\n      <td>...</td>\n      <td>...</td>\n      <td>...</td>\n      <td>...</td>\n    </tr>\n    <tr>\n      <th>886</th>\n      <td>887</td>\n      <td>0</td>\n      <td>2</td>\n      <td>Montvila, Rev. Juozas</td>\n      <td>male</td>\n      <td>27.0</td>\n      <td>0</td>\n      <td>0</td>\n      <td>211536</td>\n      <td>13.0000</td>\n      <td>NaN</td>\n      <td>S</td>\n    </tr>\n    <tr>\n      <th>887</th>\n      <td>888</td>\n      <td>1</td>\n      <td>1</td>\n      <td>Graham, Miss. Margaret Edith</td>\n      <td>female</td>\n      <td>19.0</td>\n      <td>0</td>\n      <td>0</td>\n      <td>112053</td>\n      <td>30.0000</td>\n      <td>B42</td>\n      <td>S</td>\n    </tr>\n    <tr>\n      <th>888</th>\n      <td>889</td>\n      <td>0</td>\n      <td>3</td>\n      <td>Johnston, Miss. Catherine Helen \"Carrie\"</td>\n      <td>female</td>\n      <td>NaN</td>\n      <td>1</td>\n      <td>2</td>\n      <td>W./C. 6607</td>\n      <td>23.4500</td>\n      <td>NaN</td>\n      <td>S</td>\n    </tr>\n    <tr>\n      <th>889</th>\n      <td>890</td>\n      <td>1</td>\n      <td>1</td>\n      <td>Behr, Mr. Karl Howell</td>\n      <td>male</td>\n      <td>26.0</td>\n      <td>0</td>\n      <td>0</td>\n      <td>111369</td>\n      <td>30.0000</td>\n      <td>C148</td>\n      <td>C</td>\n    </tr>\n    <tr>\n      <th>890</th>\n      <td>891</td>\n      <td>0</td>\n      <td>3</td>\n      <td>Dooley, Mr. Patrick</td>\n      <td>male</td>\n      <td>32.0</td>\n      <td>0</td>\n      <td>0</td>\n      <td>370376</td>\n      <td>7.7500</td>\n      <td>NaN</td>\n      <td>Q</td>\n    </tr>\n  </tbody>\n</table>\n<p>891 rows × 12 columns</p>\n</div>"
     },
     "metadata": {}
    }
   ]
  },
  {
   "cell_type": "code",
   "metadata": {
    "tags": [],
    "cell_id": "00063-c3e9e723-e94a-4aa7-8ce4-a605500e6df5",
    "deepnote_to_be_reexecuted": false,
    "source_hash": "d006dcff",
    "execution_start": 1641984354498,
    "execution_millis": 103,
    "deepnote_cell_type": "code"
   },
   "source": "df_test_ml",
   "execution_count": null,
   "outputs": [
    {
     "output_type": "execute_result",
     "execution_count": 53,
     "data": {
      "application/vnd.deepnote.dataframe.v3+json": {
       "column_count": 11,
       "row_count": 418,
       "columns": [
        {
         "name": "PassengerId",
         "dtype": "int64",
         "stats": {
          "unique_count": 418,
          "nan_count": 0,
          "min": "892",
          "max": "1309",
          "histogram": [
           {
            "bin_start": 892,
            "bin_end": 933.7,
            "count": 42
           },
           {
            "bin_start": 933.7,
            "bin_end": 975.4,
            "count": 42
           },
           {
            "bin_start": 975.4,
            "bin_end": 1017.1,
            "count": 42
           },
           {
            "bin_start": 1017.1,
            "bin_end": 1058.8,
            "count": 41
           },
           {
            "bin_start": 1058.8,
            "bin_end": 1100.5,
            "count": 42
           },
           {
            "bin_start": 1100.5,
            "bin_end": 1142.2,
            "count": 42
           },
           {
            "bin_start": 1142.2,
            "bin_end": 1183.9,
            "count": 41
           },
           {
            "bin_start": 1183.9,
            "bin_end": 1225.6,
            "count": 42
           },
           {
            "bin_start": 1225.6,
            "bin_end": 1267.3,
            "count": 42
           },
           {
            "bin_start": 1267.3,
            "bin_end": 1309,
            "count": 42
           }
          ]
         }
        },
        {
         "name": "Pclass",
         "dtype": "int64",
         "stats": {
          "unique_count": 3,
          "nan_count": 0,
          "min": "1",
          "max": "3",
          "histogram": [
           {
            "bin_start": 1,
            "bin_end": 1.2,
            "count": 107
           },
           {
            "bin_start": 1.2,
            "bin_end": 1.4,
            "count": 0
           },
           {
            "bin_start": 1.4,
            "bin_end": 1.6,
            "count": 0
           },
           {
            "bin_start": 1.6,
            "bin_end": 1.8,
            "count": 0
           },
           {
            "bin_start": 1.8,
            "bin_end": 2,
            "count": 0
           },
           {
            "bin_start": 2,
            "bin_end": 2.2,
            "count": 93
           },
           {
            "bin_start": 2.2,
            "bin_end": 2.4000000000000004,
            "count": 0
           },
           {
            "bin_start": 2.4000000000000004,
            "bin_end": 2.6,
            "count": 0
           },
           {
            "bin_start": 2.6,
            "bin_end": 2.8,
            "count": 0
           },
           {
            "bin_start": 2.8,
            "bin_end": 3,
            "count": 218
           }
          ]
         }
        },
        {
         "name": "Name",
         "dtype": "object",
         "stats": {
          "unique_count": 418,
          "nan_count": 0,
          "categories": [
           {
            "name": "Kelly, Mr. James",
            "count": 1
           },
           {
            "name": "Wilkes, Mrs. James (Ellen Needs)",
            "count": 1
           },
           {
            "name": "416 others",
            "count": 416
           }
          ]
         }
        },
        {
         "name": "Sex",
         "dtype": "object",
         "stats": {
          "unique_count": 2,
          "nan_count": 0,
          "categories": [
           {
            "name": "male",
            "count": 266
           },
           {
            "name": "female",
            "count": 152
           }
          ]
         }
        },
        {
         "name": "Age",
         "dtype": "float64",
         "stats": {
          "unique_count": 79,
          "nan_count": 86,
          "min": "0.17",
          "max": "76.0",
          "histogram": [
           {
            "bin_start": 0.17,
            "bin_end": 7.753,
            "count": 16
           },
           {
            "bin_start": 7.753,
            "bin_end": 15.336,
            "count": 16
           },
           {
            "bin_start": 15.336,
            "bin_end": 22.919000000000004,
            "count": 71
           },
           {
            "bin_start": 22.919000000000004,
            "bin_end": 30.502000000000002,
            "count": 97
           },
           {
            "bin_start": 30.502000000000002,
            "bin_end": 38.085,
            "count": 43
           },
           {
            "bin_start": 38.085,
            "bin_end": 45.668000000000006,
            "count": 37
           },
           {
            "bin_start": 45.668000000000006,
            "bin_end": 53.251000000000005,
            "count": 25
           },
           {
            "bin_start": 53.251000000000005,
            "bin_end": 60.834,
            "count": 17
           },
           {
            "bin_start": 60.834,
            "bin_end": 68.417,
            "count": 9
           },
           {
            "bin_start": 68.417,
            "bin_end": 76,
            "count": 1
           }
          ]
         }
        },
        {
         "name": "SibSp",
         "dtype": "int64",
         "stats": {
          "unique_count": 7,
          "nan_count": 0,
          "min": "0",
          "max": "8",
          "histogram": [
           {
            "bin_start": 0,
            "bin_end": 0.8,
            "count": 283
           },
           {
            "bin_start": 0.8,
            "bin_end": 1.6,
            "count": 110
           },
           {
            "bin_start": 1.6,
            "bin_end": 2.4000000000000004,
            "count": 14
           },
           {
            "bin_start": 2.4000000000000004,
            "bin_end": 3.2,
            "count": 4
           },
           {
            "bin_start": 3.2,
            "bin_end": 4,
            "count": 0
           },
           {
            "bin_start": 4,
            "bin_end": 4.800000000000001,
            "count": 4
           },
           {
            "bin_start": 4.800000000000001,
            "bin_end": 5.6000000000000005,
            "count": 1
           },
           {
            "bin_start": 5.6000000000000005,
            "bin_end": 6.4,
            "count": 0
           },
           {
            "bin_start": 6.4,
            "bin_end": 7.2,
            "count": 0
           },
           {
            "bin_start": 7.2,
            "bin_end": 8,
            "count": 2
           }
          ]
         }
        },
        {
         "name": "Parch",
         "dtype": "int64",
         "stats": {
          "unique_count": 8,
          "nan_count": 0,
          "min": "0",
          "max": "9",
          "histogram": [
           {
            "bin_start": 0,
            "bin_end": 0.9,
            "count": 324
           },
           {
            "bin_start": 0.9,
            "bin_end": 1.8,
            "count": 52
           },
           {
            "bin_start": 1.8,
            "bin_end": 2.7,
            "count": 33
           },
           {
            "bin_start": 2.7,
            "bin_end": 3.6,
            "count": 3
           },
           {
            "bin_start": 3.6,
            "bin_end": 4.5,
            "count": 2
           },
           {
            "bin_start": 4.5,
            "bin_end": 5.4,
            "count": 1
           },
           {
            "bin_start": 5.4,
            "bin_end": 6.3,
            "count": 1
           },
           {
            "bin_start": 6.3,
            "bin_end": 7.2,
            "count": 0
           },
           {
            "bin_start": 7.2,
            "bin_end": 8.1,
            "count": 0
           },
           {
            "bin_start": 8.1,
            "bin_end": 9,
            "count": 2
           }
          ]
         }
        },
        {
         "name": "Ticket",
         "dtype": "object",
         "stats": {
          "unique_count": 363,
          "nan_count": 0,
          "categories": [
           {
            "name": "PC 17608",
            "count": 5
           },
           {
            "name": "113503",
            "count": 4
           },
           {
            "name": "361 others",
            "count": 409
           }
          ]
         }
        },
        {
         "name": "Fare",
         "dtype": "float64",
         "stats": {
          "unique_count": 169,
          "nan_count": 1,
          "min": "0.0",
          "max": "512.3292",
          "histogram": [
           {
            "bin_start": 0,
            "bin_end": 51.23292,
            "count": 338
           },
           {
            "bin_start": 51.23292,
            "bin_end": 102.46584,
            "count": 48
           },
           {
            "bin_start": 102.46584,
            "bin_end": 153.69876,
            "count": 11
           },
           {
            "bin_start": 153.69876,
            "bin_end": 204.93168,
            "count": 2
           },
           {
            "bin_start": 204.93168,
            "bin_end": 256.1646,
            "count": 10
           },
           {
            "bin_start": 256.1646,
            "bin_end": 307.39752,
            "count": 7
           },
           {
            "bin_start": 307.39752,
            "bin_end": 358.63044,
            "count": 0
           },
           {
            "bin_start": 358.63044,
            "bin_end": 409.86336,
            "count": 0
           },
           {
            "bin_start": 409.86336,
            "bin_end": 461.09628,
            "count": 0
           },
           {
            "bin_start": 461.09628,
            "bin_end": 512.3292,
            "count": 1
           }
          ]
         }
        },
        {
         "name": "Cabin",
         "dtype": "object",
         "stats": {
          "unique_count": 76,
          "nan_count": 327,
          "categories": [
           {
            "name": "B57 B59 B63 B66",
            "count": 3
           },
           {
            "name": "75 others",
            "count": 88
           },
           {
            "name": "Missing",
            "count": 327
           }
          ]
         }
        },
        {
         "name": "Embarked",
         "dtype": "object",
         "stats": {
          "unique_count": 3,
          "nan_count": 0,
          "categories": [
           {
            "name": "S",
            "count": 270
           },
           {
            "name": "C",
            "count": 102
           },
           {
            "name": "Q",
            "count": 46
           }
          ]
         }
        },
        {
         "name": "_deepnote_index_column",
         "dtype": "int64"
        }
       ],
       "rows": [
        {
         "PassengerId": 892,
         "Pclass": 3,
         "Name": "Kelly, Mr. James",
         "Sex": "male",
         "Age": 34.5,
         "SibSp": 0,
         "Parch": 0,
         "Ticket": "330911",
         "Fare": 7.8292,
         "Cabin": "nan",
         "Embarked": "Q",
         "_deepnote_index_column": 0
        },
        {
         "PassengerId": 893,
         "Pclass": 3,
         "Name": "Wilkes, Mrs. James (Ellen Needs)",
         "Sex": "female",
         "Age": 47,
         "SibSp": 1,
         "Parch": 0,
         "Ticket": "363272",
         "Fare": 7,
         "Cabin": "nan",
         "Embarked": "S",
         "_deepnote_index_column": 1
        },
        {
         "PassengerId": 894,
         "Pclass": 2,
         "Name": "Myles, Mr. Thomas Francis",
         "Sex": "male",
         "Age": 62,
         "SibSp": 0,
         "Parch": 0,
         "Ticket": "240276",
         "Fare": 9.6875,
         "Cabin": "nan",
         "Embarked": "Q",
         "_deepnote_index_column": 2
        },
        {
         "PassengerId": 895,
         "Pclass": 3,
         "Name": "Wirz, Mr. Albert",
         "Sex": "male",
         "Age": 27,
         "SibSp": 0,
         "Parch": 0,
         "Ticket": "315154",
         "Fare": 8.6625,
         "Cabin": "nan",
         "Embarked": "S",
         "_deepnote_index_column": 3
        },
        {
         "PassengerId": 896,
         "Pclass": 3,
         "Name": "Hirvonen, Mrs. Alexander (Helga E Lindqvist)",
         "Sex": "female",
         "Age": 22,
         "SibSp": 1,
         "Parch": 1,
         "Ticket": "3101298",
         "Fare": 12.2875,
         "Cabin": "nan",
         "Embarked": "S",
         "_deepnote_index_column": 4
        },
        {
         "PassengerId": 897,
         "Pclass": 3,
         "Name": "Svensson, Mr. Johan Cervin",
         "Sex": "male",
         "Age": 14,
         "SibSp": 0,
         "Parch": 0,
         "Ticket": "7538",
         "Fare": 9.225,
         "Cabin": "nan",
         "Embarked": "S",
         "_deepnote_index_column": 5
        },
        {
         "PassengerId": 898,
         "Pclass": 3,
         "Name": "Connolly, Miss. Kate",
         "Sex": "female",
         "Age": 30,
         "SibSp": 0,
         "Parch": 0,
         "Ticket": "330972",
         "Fare": 7.6292,
         "Cabin": "nan",
         "Embarked": "Q",
         "_deepnote_index_column": 6
        },
        {
         "PassengerId": 899,
         "Pclass": 2,
         "Name": "Caldwell, Mr. Albert Francis",
         "Sex": "male",
         "Age": 26,
         "SibSp": 1,
         "Parch": 1,
         "Ticket": "248738",
         "Fare": 29,
         "Cabin": "nan",
         "Embarked": "S",
         "_deepnote_index_column": 7
        },
        {
         "PassengerId": 900,
         "Pclass": 3,
         "Name": "Abrahim, Mrs. Joseph (Sophie Halaut Easu)",
         "Sex": "female",
         "Age": 18,
         "SibSp": 0,
         "Parch": 0,
         "Ticket": "2657",
         "Fare": 7.2292,
         "Cabin": "nan",
         "Embarked": "C",
         "_deepnote_index_column": 8
        },
        {
         "PassengerId": 901,
         "Pclass": 3,
         "Name": "Davies, Mr. John Samuel",
         "Sex": "male",
         "Age": 21,
         "SibSp": 2,
         "Parch": 0,
         "Ticket": "A/4 48871",
         "Fare": 24.15,
         "Cabin": "nan",
         "Embarked": "S",
         "_deepnote_index_column": 9
        }
       ]
      },
      "text/plain": "     PassengerId  Pclass                                          Name  \\\n0            892       3                              Kelly, Mr. James   \n1            893       3              Wilkes, Mrs. James (Ellen Needs)   \n2            894       2                     Myles, Mr. Thomas Francis   \n3            895       3                              Wirz, Mr. Albert   \n4            896       3  Hirvonen, Mrs. Alexander (Helga E Lindqvist)   \n..           ...     ...                                           ...   \n413         1305       3                            Spector, Mr. Woolf   \n414         1306       1                  Oliva y Ocana, Dona. Fermina   \n415         1307       3                  Saether, Mr. Simon Sivertsen   \n416         1308       3                           Ware, Mr. Frederick   \n417         1309       3                      Peter, Master. Michael J   \n\n        Sex   Age  SibSp  Parch              Ticket      Fare Cabin Embarked  \n0      male  34.5      0      0              330911    7.8292   NaN        Q  \n1    female  47.0      1      0              363272    7.0000   NaN        S  \n2      male  62.0      0      0              240276    9.6875   NaN        Q  \n3      male  27.0      0      0              315154    8.6625   NaN        S  \n4    female  22.0      1      1             3101298   12.2875   NaN        S  \n..      ...   ...    ...    ...                 ...       ...   ...      ...  \n413    male   NaN      0      0           A.5. 3236    8.0500   NaN        S  \n414  female  39.0      0      0            PC 17758  108.9000  C105        C  \n415    male  38.5      0      0  SOTON/O.Q. 3101262    7.2500   NaN        S  \n416    male   NaN      0      0              359309    8.0500   NaN        S  \n417    male   NaN      1      1                2668   22.3583   NaN        C  \n\n[418 rows x 11 columns]",
      "text/html": "<div>\n<style scoped>\n    .dataframe tbody tr th:only-of-type {\n        vertical-align: middle;\n    }\n\n    .dataframe tbody tr th {\n        vertical-align: top;\n    }\n\n    .dataframe thead th {\n        text-align: right;\n    }\n</style>\n<table border=\"1\" class=\"dataframe\">\n  <thead>\n    <tr style=\"text-align: right;\">\n      <th></th>\n      <th>PassengerId</th>\n      <th>Pclass</th>\n      <th>Name</th>\n      <th>Sex</th>\n      <th>Age</th>\n      <th>SibSp</th>\n      <th>Parch</th>\n      <th>Ticket</th>\n      <th>Fare</th>\n      <th>Cabin</th>\n      <th>Embarked</th>\n    </tr>\n  </thead>\n  <tbody>\n    <tr>\n      <th>0</th>\n      <td>892</td>\n      <td>3</td>\n      <td>Kelly, Mr. James</td>\n      <td>male</td>\n      <td>34.5</td>\n      <td>0</td>\n      <td>0</td>\n      <td>330911</td>\n      <td>7.8292</td>\n      <td>NaN</td>\n      <td>Q</td>\n    </tr>\n    <tr>\n      <th>1</th>\n      <td>893</td>\n      <td>3</td>\n      <td>Wilkes, Mrs. James (Ellen Needs)</td>\n      <td>female</td>\n      <td>47.0</td>\n      <td>1</td>\n      <td>0</td>\n      <td>363272</td>\n      <td>7.0000</td>\n      <td>NaN</td>\n      <td>S</td>\n    </tr>\n    <tr>\n      <th>2</th>\n      <td>894</td>\n      <td>2</td>\n      <td>Myles, Mr. Thomas Francis</td>\n      <td>male</td>\n      <td>62.0</td>\n      <td>0</td>\n      <td>0</td>\n      <td>240276</td>\n      <td>9.6875</td>\n      <td>NaN</td>\n      <td>Q</td>\n    </tr>\n    <tr>\n      <th>3</th>\n      <td>895</td>\n      <td>3</td>\n      <td>Wirz, Mr. Albert</td>\n      <td>male</td>\n      <td>27.0</td>\n      <td>0</td>\n      <td>0</td>\n      <td>315154</td>\n      <td>8.6625</td>\n      <td>NaN</td>\n      <td>S</td>\n    </tr>\n    <tr>\n      <th>4</th>\n      <td>896</td>\n      <td>3</td>\n      <td>Hirvonen, Mrs. Alexander (Helga E Lindqvist)</td>\n      <td>female</td>\n      <td>22.0</td>\n      <td>1</td>\n      <td>1</td>\n      <td>3101298</td>\n      <td>12.2875</td>\n      <td>NaN</td>\n      <td>S</td>\n    </tr>\n    <tr>\n      <th>...</th>\n      <td>...</td>\n      <td>...</td>\n      <td>...</td>\n      <td>...</td>\n      <td>...</td>\n      <td>...</td>\n      <td>...</td>\n      <td>...</td>\n      <td>...</td>\n      <td>...</td>\n      <td>...</td>\n    </tr>\n    <tr>\n      <th>413</th>\n      <td>1305</td>\n      <td>3</td>\n      <td>Spector, Mr. Woolf</td>\n      <td>male</td>\n      <td>NaN</td>\n      <td>0</td>\n      <td>0</td>\n      <td>A.5. 3236</td>\n      <td>8.0500</td>\n      <td>NaN</td>\n      <td>S</td>\n    </tr>\n    <tr>\n      <th>414</th>\n      <td>1306</td>\n      <td>1</td>\n      <td>Oliva y Ocana, Dona. Fermina</td>\n      <td>female</td>\n      <td>39.0</td>\n      <td>0</td>\n      <td>0</td>\n      <td>PC 17758</td>\n      <td>108.9000</td>\n      <td>C105</td>\n      <td>C</td>\n    </tr>\n    <tr>\n      <th>415</th>\n      <td>1307</td>\n      <td>3</td>\n      <td>Saether, Mr. Simon Sivertsen</td>\n      <td>male</td>\n      <td>38.5</td>\n      <td>0</td>\n      <td>0</td>\n      <td>SOTON/O.Q. 3101262</td>\n      <td>7.2500</td>\n      <td>NaN</td>\n      <td>S</td>\n    </tr>\n    <tr>\n      <th>416</th>\n      <td>1308</td>\n      <td>3</td>\n      <td>Ware, Mr. Frederick</td>\n      <td>male</td>\n      <td>NaN</td>\n      <td>0</td>\n      <td>0</td>\n      <td>359309</td>\n      <td>8.0500</td>\n      <td>NaN</td>\n      <td>S</td>\n    </tr>\n    <tr>\n      <th>417</th>\n      <td>1309</td>\n      <td>3</td>\n      <td>Peter, Master. Michael J</td>\n      <td>male</td>\n      <td>NaN</td>\n      <td>1</td>\n      <td>1</td>\n      <td>2668</td>\n      <td>22.3583</td>\n      <td>NaN</td>\n      <td>C</td>\n    </tr>\n  </tbody>\n</table>\n<p>418 rows × 11 columns</p>\n</div>"
     },
     "metadata": {}
    }
   ]
  },
  {
   "cell_type": "code",
   "metadata": {
    "tags": [],
    "cell_id": "00065-74d635f0-b81b-4bd2-a829-58a15cc19058",
    "deepnote_to_be_reexecuted": false,
    "source_hash": "23dd9b8a",
    "execution_start": 1641984354604,
    "execution_millis": 10,
    "deepnote_cell_type": "code"
   },
   "source": "\n\ndf_train_ml = pd.get_dummies(df_train_ml, columns=['Sex', 'Embarked', 'Pclass'], drop_first=True)\ndf_train_ml.drop(['PassengerId','Name','Ticket', 'Cabin'],axis=1,inplace=True)\ndf_train_ml.dropna(inplace=True)\n\n",
   "execution_count": null,
   "outputs": []
  },
  {
   "cell_type": "code",
   "metadata": {
    "tags": [],
    "cell_id": "00067-58710b5b-2b91-4afc-b990-cec2a9b3dccb",
    "deepnote_to_be_reexecuted": false,
    "source_hash": "d006dcff",
    "execution_start": 1641984354665,
    "execution_millis": 75,
    "deepnote_cell_type": "code"
   },
   "source": "df_test_ml",
   "execution_count": null,
   "outputs": [
    {
     "output_type": "execute_result",
     "execution_count": 55,
     "data": {
      "application/vnd.deepnote.dataframe.v3+json": {
       "column_count": 11,
       "row_count": 418,
       "columns": [
        {
         "name": "PassengerId",
         "dtype": "int64",
         "stats": {
          "unique_count": 418,
          "nan_count": 0,
          "min": "892",
          "max": "1309",
          "histogram": [
           {
            "bin_start": 892,
            "bin_end": 933.7,
            "count": 42
           },
           {
            "bin_start": 933.7,
            "bin_end": 975.4,
            "count": 42
           },
           {
            "bin_start": 975.4,
            "bin_end": 1017.1,
            "count": 42
           },
           {
            "bin_start": 1017.1,
            "bin_end": 1058.8,
            "count": 41
           },
           {
            "bin_start": 1058.8,
            "bin_end": 1100.5,
            "count": 42
           },
           {
            "bin_start": 1100.5,
            "bin_end": 1142.2,
            "count": 42
           },
           {
            "bin_start": 1142.2,
            "bin_end": 1183.9,
            "count": 41
           },
           {
            "bin_start": 1183.9,
            "bin_end": 1225.6,
            "count": 42
           },
           {
            "bin_start": 1225.6,
            "bin_end": 1267.3,
            "count": 42
           },
           {
            "bin_start": 1267.3,
            "bin_end": 1309,
            "count": 42
           }
          ]
         }
        },
        {
         "name": "Pclass",
         "dtype": "int64",
         "stats": {
          "unique_count": 3,
          "nan_count": 0,
          "min": "1",
          "max": "3",
          "histogram": [
           {
            "bin_start": 1,
            "bin_end": 1.2,
            "count": 107
           },
           {
            "bin_start": 1.2,
            "bin_end": 1.4,
            "count": 0
           },
           {
            "bin_start": 1.4,
            "bin_end": 1.6,
            "count": 0
           },
           {
            "bin_start": 1.6,
            "bin_end": 1.8,
            "count": 0
           },
           {
            "bin_start": 1.8,
            "bin_end": 2,
            "count": 0
           },
           {
            "bin_start": 2,
            "bin_end": 2.2,
            "count": 93
           },
           {
            "bin_start": 2.2,
            "bin_end": 2.4000000000000004,
            "count": 0
           },
           {
            "bin_start": 2.4000000000000004,
            "bin_end": 2.6,
            "count": 0
           },
           {
            "bin_start": 2.6,
            "bin_end": 2.8,
            "count": 0
           },
           {
            "bin_start": 2.8,
            "bin_end": 3,
            "count": 218
           }
          ]
         }
        },
        {
         "name": "Name",
         "dtype": "object",
         "stats": {
          "unique_count": 418,
          "nan_count": 0,
          "categories": [
           {
            "name": "Kelly, Mr. James",
            "count": 1
           },
           {
            "name": "Wilkes, Mrs. James (Ellen Needs)",
            "count": 1
           },
           {
            "name": "416 others",
            "count": 416
           }
          ]
         }
        },
        {
         "name": "Sex",
         "dtype": "object",
         "stats": {
          "unique_count": 2,
          "nan_count": 0,
          "categories": [
           {
            "name": "male",
            "count": 266
           },
           {
            "name": "female",
            "count": 152
           }
          ]
         }
        },
        {
         "name": "Age",
         "dtype": "float64",
         "stats": {
          "unique_count": 79,
          "nan_count": 86,
          "min": "0.17",
          "max": "76.0",
          "histogram": [
           {
            "bin_start": 0.17,
            "bin_end": 7.753,
            "count": 16
           },
           {
            "bin_start": 7.753,
            "bin_end": 15.336,
            "count": 16
           },
           {
            "bin_start": 15.336,
            "bin_end": 22.919000000000004,
            "count": 71
           },
           {
            "bin_start": 22.919000000000004,
            "bin_end": 30.502000000000002,
            "count": 97
           },
           {
            "bin_start": 30.502000000000002,
            "bin_end": 38.085,
            "count": 43
           },
           {
            "bin_start": 38.085,
            "bin_end": 45.668000000000006,
            "count": 37
           },
           {
            "bin_start": 45.668000000000006,
            "bin_end": 53.251000000000005,
            "count": 25
           },
           {
            "bin_start": 53.251000000000005,
            "bin_end": 60.834,
            "count": 17
           },
           {
            "bin_start": 60.834,
            "bin_end": 68.417,
            "count": 9
           },
           {
            "bin_start": 68.417,
            "bin_end": 76,
            "count": 1
           }
          ]
         }
        },
        {
         "name": "SibSp",
         "dtype": "int64",
         "stats": {
          "unique_count": 7,
          "nan_count": 0,
          "min": "0",
          "max": "8",
          "histogram": [
           {
            "bin_start": 0,
            "bin_end": 0.8,
            "count": 283
           },
           {
            "bin_start": 0.8,
            "bin_end": 1.6,
            "count": 110
           },
           {
            "bin_start": 1.6,
            "bin_end": 2.4000000000000004,
            "count": 14
           },
           {
            "bin_start": 2.4000000000000004,
            "bin_end": 3.2,
            "count": 4
           },
           {
            "bin_start": 3.2,
            "bin_end": 4,
            "count": 0
           },
           {
            "bin_start": 4,
            "bin_end": 4.800000000000001,
            "count": 4
           },
           {
            "bin_start": 4.800000000000001,
            "bin_end": 5.6000000000000005,
            "count": 1
           },
           {
            "bin_start": 5.6000000000000005,
            "bin_end": 6.4,
            "count": 0
           },
           {
            "bin_start": 6.4,
            "bin_end": 7.2,
            "count": 0
           },
           {
            "bin_start": 7.2,
            "bin_end": 8,
            "count": 2
           }
          ]
         }
        },
        {
         "name": "Parch",
         "dtype": "int64",
         "stats": {
          "unique_count": 8,
          "nan_count": 0,
          "min": "0",
          "max": "9",
          "histogram": [
           {
            "bin_start": 0,
            "bin_end": 0.9,
            "count": 324
           },
           {
            "bin_start": 0.9,
            "bin_end": 1.8,
            "count": 52
           },
           {
            "bin_start": 1.8,
            "bin_end": 2.7,
            "count": 33
           },
           {
            "bin_start": 2.7,
            "bin_end": 3.6,
            "count": 3
           },
           {
            "bin_start": 3.6,
            "bin_end": 4.5,
            "count": 2
           },
           {
            "bin_start": 4.5,
            "bin_end": 5.4,
            "count": 1
           },
           {
            "bin_start": 5.4,
            "bin_end": 6.3,
            "count": 1
           },
           {
            "bin_start": 6.3,
            "bin_end": 7.2,
            "count": 0
           },
           {
            "bin_start": 7.2,
            "bin_end": 8.1,
            "count": 0
           },
           {
            "bin_start": 8.1,
            "bin_end": 9,
            "count": 2
           }
          ]
         }
        },
        {
         "name": "Ticket",
         "dtype": "object",
         "stats": {
          "unique_count": 363,
          "nan_count": 0,
          "categories": [
           {
            "name": "PC 17608",
            "count": 5
           },
           {
            "name": "113503",
            "count": 4
           },
           {
            "name": "361 others",
            "count": 409
           }
          ]
         }
        },
        {
         "name": "Fare",
         "dtype": "float64",
         "stats": {
          "unique_count": 169,
          "nan_count": 1,
          "min": "0.0",
          "max": "512.3292",
          "histogram": [
           {
            "bin_start": 0,
            "bin_end": 51.23292,
            "count": 338
           },
           {
            "bin_start": 51.23292,
            "bin_end": 102.46584,
            "count": 48
           },
           {
            "bin_start": 102.46584,
            "bin_end": 153.69876,
            "count": 11
           },
           {
            "bin_start": 153.69876,
            "bin_end": 204.93168,
            "count": 2
           },
           {
            "bin_start": 204.93168,
            "bin_end": 256.1646,
            "count": 10
           },
           {
            "bin_start": 256.1646,
            "bin_end": 307.39752,
            "count": 7
           },
           {
            "bin_start": 307.39752,
            "bin_end": 358.63044,
            "count": 0
           },
           {
            "bin_start": 358.63044,
            "bin_end": 409.86336,
            "count": 0
           },
           {
            "bin_start": 409.86336,
            "bin_end": 461.09628,
            "count": 0
           },
           {
            "bin_start": 461.09628,
            "bin_end": 512.3292,
            "count": 1
           }
          ]
         }
        },
        {
         "name": "Cabin",
         "dtype": "object",
         "stats": {
          "unique_count": 76,
          "nan_count": 327,
          "categories": [
           {
            "name": "B57 B59 B63 B66",
            "count": 3
           },
           {
            "name": "75 others",
            "count": 88
           },
           {
            "name": "Missing",
            "count": 327
           }
          ]
         }
        },
        {
         "name": "Embarked",
         "dtype": "object",
         "stats": {
          "unique_count": 3,
          "nan_count": 0,
          "categories": [
           {
            "name": "S",
            "count": 270
           },
           {
            "name": "C",
            "count": 102
           },
           {
            "name": "Q",
            "count": 46
           }
          ]
         }
        },
        {
         "name": "_deepnote_index_column",
         "dtype": "int64"
        }
       ],
       "rows": [
        {
         "PassengerId": 892,
         "Pclass": 3,
         "Name": "Kelly, Mr. James",
         "Sex": "male",
         "Age": 34.5,
         "SibSp": 0,
         "Parch": 0,
         "Ticket": "330911",
         "Fare": 7.8292,
         "Cabin": "nan",
         "Embarked": "Q",
         "_deepnote_index_column": 0
        },
        {
         "PassengerId": 893,
         "Pclass": 3,
         "Name": "Wilkes, Mrs. James (Ellen Needs)",
         "Sex": "female",
         "Age": 47,
         "SibSp": 1,
         "Parch": 0,
         "Ticket": "363272",
         "Fare": 7,
         "Cabin": "nan",
         "Embarked": "S",
         "_deepnote_index_column": 1
        },
        {
         "PassengerId": 894,
         "Pclass": 2,
         "Name": "Myles, Mr. Thomas Francis",
         "Sex": "male",
         "Age": 62,
         "SibSp": 0,
         "Parch": 0,
         "Ticket": "240276",
         "Fare": 9.6875,
         "Cabin": "nan",
         "Embarked": "Q",
         "_deepnote_index_column": 2
        },
        {
         "PassengerId": 895,
         "Pclass": 3,
         "Name": "Wirz, Mr. Albert",
         "Sex": "male",
         "Age": 27,
         "SibSp": 0,
         "Parch": 0,
         "Ticket": "315154",
         "Fare": 8.6625,
         "Cabin": "nan",
         "Embarked": "S",
         "_deepnote_index_column": 3
        },
        {
         "PassengerId": 896,
         "Pclass": 3,
         "Name": "Hirvonen, Mrs. Alexander (Helga E Lindqvist)",
         "Sex": "female",
         "Age": 22,
         "SibSp": 1,
         "Parch": 1,
         "Ticket": "3101298",
         "Fare": 12.2875,
         "Cabin": "nan",
         "Embarked": "S",
         "_deepnote_index_column": 4
        },
        {
         "PassengerId": 897,
         "Pclass": 3,
         "Name": "Svensson, Mr. Johan Cervin",
         "Sex": "male",
         "Age": 14,
         "SibSp": 0,
         "Parch": 0,
         "Ticket": "7538",
         "Fare": 9.225,
         "Cabin": "nan",
         "Embarked": "S",
         "_deepnote_index_column": 5
        },
        {
         "PassengerId": 898,
         "Pclass": 3,
         "Name": "Connolly, Miss. Kate",
         "Sex": "female",
         "Age": 30,
         "SibSp": 0,
         "Parch": 0,
         "Ticket": "330972",
         "Fare": 7.6292,
         "Cabin": "nan",
         "Embarked": "Q",
         "_deepnote_index_column": 6
        },
        {
         "PassengerId": 899,
         "Pclass": 2,
         "Name": "Caldwell, Mr. Albert Francis",
         "Sex": "male",
         "Age": 26,
         "SibSp": 1,
         "Parch": 1,
         "Ticket": "248738",
         "Fare": 29,
         "Cabin": "nan",
         "Embarked": "S",
         "_deepnote_index_column": 7
        },
        {
         "PassengerId": 900,
         "Pclass": 3,
         "Name": "Abrahim, Mrs. Joseph (Sophie Halaut Easu)",
         "Sex": "female",
         "Age": 18,
         "SibSp": 0,
         "Parch": 0,
         "Ticket": "2657",
         "Fare": 7.2292,
         "Cabin": "nan",
         "Embarked": "C",
         "_deepnote_index_column": 8
        },
        {
         "PassengerId": 901,
         "Pclass": 3,
         "Name": "Davies, Mr. John Samuel",
         "Sex": "male",
         "Age": 21,
         "SibSp": 2,
         "Parch": 0,
         "Ticket": "A/4 48871",
         "Fare": 24.15,
         "Cabin": "nan",
         "Embarked": "S",
         "_deepnote_index_column": 9
        }
       ]
      },
      "text/plain": "     PassengerId  Pclass                                          Name  \\\n0            892       3                              Kelly, Mr. James   \n1            893       3              Wilkes, Mrs. James (Ellen Needs)   \n2            894       2                     Myles, Mr. Thomas Francis   \n3            895       3                              Wirz, Mr. Albert   \n4            896       3  Hirvonen, Mrs. Alexander (Helga E Lindqvist)   \n..           ...     ...                                           ...   \n413         1305       3                            Spector, Mr. Woolf   \n414         1306       1                  Oliva y Ocana, Dona. Fermina   \n415         1307       3                  Saether, Mr. Simon Sivertsen   \n416         1308       3                           Ware, Mr. Frederick   \n417         1309       3                      Peter, Master. Michael J   \n\n        Sex   Age  SibSp  Parch              Ticket      Fare Cabin Embarked  \n0      male  34.5      0      0              330911    7.8292   NaN        Q  \n1    female  47.0      1      0              363272    7.0000   NaN        S  \n2      male  62.0      0      0              240276    9.6875   NaN        Q  \n3      male  27.0      0      0              315154    8.6625   NaN        S  \n4    female  22.0      1      1             3101298   12.2875   NaN        S  \n..      ...   ...    ...    ...                 ...       ...   ...      ...  \n413    male   NaN      0      0           A.5. 3236    8.0500   NaN        S  \n414  female  39.0      0      0            PC 17758  108.9000  C105        C  \n415    male  38.5      0      0  SOTON/O.Q. 3101262    7.2500   NaN        S  \n416    male   NaN      0      0              359309    8.0500   NaN        S  \n417    male   NaN      1      1                2668   22.3583   NaN        C  \n\n[418 rows x 11 columns]",
      "text/html": "<div>\n<style scoped>\n    .dataframe tbody tr th:only-of-type {\n        vertical-align: middle;\n    }\n\n    .dataframe tbody tr th {\n        vertical-align: top;\n    }\n\n    .dataframe thead th {\n        text-align: right;\n    }\n</style>\n<table border=\"1\" class=\"dataframe\">\n  <thead>\n    <tr style=\"text-align: right;\">\n      <th></th>\n      <th>PassengerId</th>\n      <th>Pclass</th>\n      <th>Name</th>\n      <th>Sex</th>\n      <th>Age</th>\n      <th>SibSp</th>\n      <th>Parch</th>\n      <th>Ticket</th>\n      <th>Fare</th>\n      <th>Cabin</th>\n      <th>Embarked</th>\n    </tr>\n  </thead>\n  <tbody>\n    <tr>\n      <th>0</th>\n      <td>892</td>\n      <td>3</td>\n      <td>Kelly, Mr. James</td>\n      <td>male</td>\n      <td>34.5</td>\n      <td>0</td>\n      <td>0</td>\n      <td>330911</td>\n      <td>7.8292</td>\n      <td>NaN</td>\n      <td>Q</td>\n    </tr>\n    <tr>\n      <th>1</th>\n      <td>893</td>\n      <td>3</td>\n      <td>Wilkes, Mrs. James (Ellen Needs)</td>\n      <td>female</td>\n      <td>47.0</td>\n      <td>1</td>\n      <td>0</td>\n      <td>363272</td>\n      <td>7.0000</td>\n      <td>NaN</td>\n      <td>S</td>\n    </tr>\n    <tr>\n      <th>2</th>\n      <td>894</td>\n      <td>2</td>\n      <td>Myles, Mr. Thomas Francis</td>\n      <td>male</td>\n      <td>62.0</td>\n      <td>0</td>\n      <td>0</td>\n      <td>240276</td>\n      <td>9.6875</td>\n      <td>NaN</td>\n      <td>Q</td>\n    </tr>\n    <tr>\n      <th>3</th>\n      <td>895</td>\n      <td>3</td>\n      <td>Wirz, Mr. Albert</td>\n      <td>male</td>\n      <td>27.0</td>\n      <td>0</td>\n      <td>0</td>\n      <td>315154</td>\n      <td>8.6625</td>\n      <td>NaN</td>\n      <td>S</td>\n    </tr>\n    <tr>\n      <th>4</th>\n      <td>896</td>\n      <td>3</td>\n      <td>Hirvonen, Mrs. Alexander (Helga E Lindqvist)</td>\n      <td>female</td>\n      <td>22.0</td>\n      <td>1</td>\n      <td>1</td>\n      <td>3101298</td>\n      <td>12.2875</td>\n      <td>NaN</td>\n      <td>S</td>\n    </tr>\n    <tr>\n      <th>...</th>\n      <td>...</td>\n      <td>...</td>\n      <td>...</td>\n      <td>...</td>\n      <td>...</td>\n      <td>...</td>\n      <td>...</td>\n      <td>...</td>\n      <td>...</td>\n      <td>...</td>\n      <td>...</td>\n    </tr>\n    <tr>\n      <th>413</th>\n      <td>1305</td>\n      <td>3</td>\n      <td>Spector, Mr. Woolf</td>\n      <td>male</td>\n      <td>NaN</td>\n      <td>0</td>\n      <td>0</td>\n      <td>A.5. 3236</td>\n      <td>8.0500</td>\n      <td>NaN</td>\n      <td>S</td>\n    </tr>\n    <tr>\n      <th>414</th>\n      <td>1306</td>\n      <td>1</td>\n      <td>Oliva y Ocana, Dona. Fermina</td>\n      <td>female</td>\n      <td>39.0</td>\n      <td>0</td>\n      <td>0</td>\n      <td>PC 17758</td>\n      <td>108.9000</td>\n      <td>C105</td>\n      <td>C</td>\n    </tr>\n    <tr>\n      <th>415</th>\n      <td>1307</td>\n      <td>3</td>\n      <td>Saether, Mr. Simon Sivertsen</td>\n      <td>male</td>\n      <td>38.5</td>\n      <td>0</td>\n      <td>0</td>\n      <td>SOTON/O.Q. 3101262</td>\n      <td>7.2500</td>\n      <td>NaN</td>\n      <td>S</td>\n    </tr>\n    <tr>\n      <th>416</th>\n      <td>1308</td>\n      <td>3</td>\n      <td>Ware, Mr. Frederick</td>\n      <td>male</td>\n      <td>NaN</td>\n      <td>0</td>\n      <td>0</td>\n      <td>359309</td>\n      <td>8.0500</td>\n      <td>NaN</td>\n      <td>S</td>\n    </tr>\n    <tr>\n      <th>417</th>\n      <td>1309</td>\n      <td>3</td>\n      <td>Peter, Master. Michael J</td>\n      <td>male</td>\n      <td>NaN</td>\n      <td>1</td>\n      <td>1</td>\n      <td>2668</td>\n      <td>22.3583</td>\n      <td>NaN</td>\n      <td>C</td>\n    </tr>\n  </tbody>\n</table>\n<p>418 rows × 11 columns</p>\n</div>"
     },
     "metadata": {}
    }
   ]
  },
  {
   "cell_type": "code",
   "metadata": {
    "tags": [],
    "cell_id": "00066-0518b2b5-56e5-4096-8f34-b3ef7d027b5a",
    "deepnote_to_be_reexecuted": false,
    "source_hash": "f80bc685",
    "execution_start": 1641984354747,
    "execution_millis": 7,
    "deepnote_cell_type": "code"
   },
   "source": "passenger_id = df_test_ml['PassengerId']\ndf_test_ml = pd.get_dummies(df_test_ml, columns=['Sex', 'Embarked', 'Pclass'], drop_first=True)\ndf_test_ml.drop(['PassengerId','Name','Ticket', 'Cabin'],axis=1,inplace=True)",
   "execution_count": null,
   "outputs": []
  },
  {
   "cell_type": "code",
   "metadata": {
    "tags": [],
    "cell_id": "00067-62dcd2a2-5ff0-459d-87f6-9ed3b5a1720e",
    "deepnote_to_be_reexecuted": false,
    "source_hash": "8bc6e83c",
    "execution_start": 1641984354801,
    "execution_millis": 57,
    "deepnote_cell_type": "code"
   },
   "source": "df_train_ml.head(10)",
   "execution_count": null,
   "outputs": [
    {
     "output_type": "execute_result",
     "execution_count": 57,
     "data": {
      "application/vnd.deepnote.dataframe.v3+json": {
       "column_count": 10,
       "row_count": 10,
       "columns": [
        {
         "name": "Survived",
         "dtype": "int64",
         "stats": {
          "unique_count": 2,
          "nan_count": 0,
          "min": "0",
          "max": "1",
          "histogram": [
           {
            "bin_start": 0,
            "bin_end": 0.1,
            "count": 4
           },
           {
            "bin_start": 0.1,
            "bin_end": 0.2,
            "count": 0
           },
           {
            "bin_start": 0.2,
            "bin_end": 0.30000000000000004,
            "count": 0
           },
           {
            "bin_start": 0.30000000000000004,
            "bin_end": 0.4,
            "count": 0
           },
           {
            "bin_start": 0.4,
            "bin_end": 0.5,
            "count": 0
           },
           {
            "bin_start": 0.5,
            "bin_end": 0.6000000000000001,
            "count": 0
           },
           {
            "bin_start": 0.6000000000000001,
            "bin_end": 0.7000000000000001,
            "count": 0
           },
           {
            "bin_start": 0.7000000000000001,
            "bin_end": 0.8,
            "count": 0
           },
           {
            "bin_start": 0.8,
            "bin_end": 0.9,
            "count": 0
           },
           {
            "bin_start": 0.9,
            "bin_end": 1,
            "count": 6
           }
          ]
         }
        },
        {
         "name": "Age",
         "dtype": "float64",
         "stats": {
          "unique_count": 9,
          "nan_count": 0,
          "min": "2.0",
          "max": "54.0",
          "histogram": [
           {
            "bin_start": 2,
            "bin_end": 7.2,
            "count": 2
           },
           {
            "bin_start": 7.2,
            "bin_end": 12.4,
            "count": 0
           },
           {
            "bin_start": 12.4,
            "bin_end": 17.6,
            "count": 1
           },
           {
            "bin_start": 17.6,
            "bin_end": 22.8,
            "count": 1
           },
           {
            "bin_start": 22.8,
            "bin_end": 28,
            "count": 2
           },
           {
            "bin_start": 28,
            "bin_end": 33.2,
            "count": 0
           },
           {
            "bin_start": 33.2,
            "bin_end": 38.4,
            "count": 3
           },
           {
            "bin_start": 38.4,
            "bin_end": 43.6,
            "count": 0
           },
           {
            "bin_start": 43.6,
            "bin_end": 48.800000000000004,
            "count": 0
           },
           {
            "bin_start": 48.800000000000004,
            "bin_end": 54,
            "count": 1
           }
          ]
         }
        },
        {
         "name": "SibSp",
         "dtype": "int64",
         "stats": {
          "unique_count": 3,
          "nan_count": 0,
          "min": "0",
          "max": "3",
          "histogram": [
           {
            "bin_start": 0,
            "bin_end": 0.3,
            "count": 4
           },
           {
            "bin_start": 0.3,
            "bin_end": 0.6,
            "count": 0
           },
           {
            "bin_start": 0.6,
            "bin_end": 0.8999999999999999,
            "count": 0
           },
           {
            "bin_start": 0.8999999999999999,
            "bin_end": 1.2,
            "count": 5
           },
           {
            "bin_start": 1.2,
            "bin_end": 1.5,
            "count": 0
           },
           {
            "bin_start": 1.5,
            "bin_end": 1.7999999999999998,
            "count": 0
           },
           {
            "bin_start": 1.7999999999999998,
            "bin_end": 2.1,
            "count": 0
           },
           {
            "bin_start": 2.1,
            "bin_end": 2.4,
            "count": 0
           },
           {
            "bin_start": 2.4,
            "bin_end": 2.6999999999999997,
            "count": 0
           },
           {
            "bin_start": 2.6999999999999997,
            "bin_end": 3,
            "count": 1
           }
          ]
         }
        },
        {
         "name": "Parch",
         "dtype": "int64",
         "stats": {
          "unique_count": 3,
          "nan_count": 0,
          "min": "0",
          "max": "2",
          "histogram": [
           {
            "bin_start": 0,
            "bin_end": 0.2,
            "count": 7
           },
           {
            "bin_start": 0.2,
            "bin_end": 0.4,
            "count": 0
           },
           {
            "bin_start": 0.4,
            "bin_end": 0.6000000000000001,
            "count": 0
           },
           {
            "bin_start": 0.6000000000000001,
            "bin_end": 0.8,
            "count": 0
           },
           {
            "bin_start": 0.8,
            "bin_end": 1,
            "count": 0
           },
           {
            "bin_start": 1,
            "bin_end": 1.2000000000000002,
            "count": 2
           },
           {
            "bin_start": 1.2000000000000002,
            "bin_end": 1.4000000000000001,
            "count": 0
           },
           {
            "bin_start": 1.4000000000000001,
            "bin_end": 1.6,
            "count": 0
           },
           {
            "bin_start": 1.6,
            "bin_end": 1.8,
            "count": 0
           },
           {
            "bin_start": 1.8,
            "bin_end": 2,
            "count": 1
           }
          ]
         }
        },
        {
         "name": "Fare",
         "dtype": "float64",
         "stats": {
          "unique_count": 10,
          "nan_count": 0,
          "min": "7.25",
          "max": "71.2833",
          "histogram": [
           {
            "bin_start": 7.25,
            "bin_end": 13.65333,
            "count": 4
           },
           {
            "bin_start": 13.65333,
            "bin_end": 20.05666,
            "count": 1
           },
           {
            "bin_start": 20.05666,
            "bin_end": 26.459989999999998,
            "count": 1
           },
           {
            "bin_start": 26.459989999999998,
            "bin_end": 32.86332,
            "count": 1
           },
           {
            "bin_start": 32.86332,
            "bin_end": 39.26665,
            "count": 0
           },
           {
            "bin_start": 39.26665,
            "bin_end": 45.669979999999995,
            "count": 0
           },
           {
            "bin_start": 45.669979999999995,
            "bin_end": 52.07331,
            "count": 1
           },
           {
            "bin_start": 52.07331,
            "bin_end": 58.476639999999996,
            "count": 1
           },
           {
            "bin_start": 58.476639999999996,
            "bin_end": 64.87996999999999,
            "count": 0
           },
           {
            "bin_start": 64.87996999999999,
            "bin_end": 71.2833,
            "count": 1
           }
          ]
         }
        },
        {
         "name": "Sex_male",
         "dtype": "uint8",
         "stats": {
          "unique_count": 2,
          "nan_count": 0,
          "min": "0",
          "max": "1",
          "histogram": [
           {
            "bin_start": 0,
            "bin_end": 0.1,
            "count": 6
           },
           {
            "bin_start": 0.1,
            "bin_end": 0.2,
            "count": 0
           },
           {
            "bin_start": 0.2,
            "bin_end": 0.30000000000000004,
            "count": 0
           },
           {
            "bin_start": 0.30000000000000004,
            "bin_end": 0.4,
            "count": 0
           },
           {
            "bin_start": 0.4,
            "bin_end": 0.5,
            "count": 0
           },
           {
            "bin_start": 0.5,
            "bin_end": 0.6000000000000001,
            "count": 0
           },
           {
            "bin_start": 0.6000000000000001,
            "bin_end": 0.7000000000000001,
            "count": 0
           },
           {
            "bin_start": 0.7000000000000001,
            "bin_end": 0.8,
            "count": 0
           },
           {
            "bin_start": 0.8,
            "bin_end": 0.9,
            "count": 0
           },
           {
            "bin_start": 0.9,
            "bin_end": 1,
            "count": 4
           }
          ]
         }
        },
        {
         "name": "Embarked_Q",
         "dtype": "uint8",
         "stats": {
          "unique_count": 1,
          "nan_count": 0,
          "min": "0",
          "max": "0",
          "histogram": [
           {
            "bin_start": -0.5,
            "bin_end": -0.4,
            "count": 0
           },
           {
            "bin_start": -0.4,
            "bin_end": -0.3,
            "count": 0
           },
           {
            "bin_start": -0.3,
            "bin_end": -0.19999999999999996,
            "count": 0
           },
           {
            "bin_start": -0.19999999999999996,
            "bin_end": -0.09999999999999998,
            "count": 0
           },
           {
            "bin_start": -0.09999999999999998,
            "bin_end": 0,
            "count": 0
           },
           {
            "bin_start": 0,
            "bin_end": 0.10000000000000009,
            "count": 10
           },
           {
            "bin_start": 0.10000000000000009,
            "bin_end": 0.20000000000000007,
            "count": 0
           },
           {
            "bin_start": 0.20000000000000007,
            "bin_end": 0.30000000000000004,
            "count": 0
           },
           {
            "bin_start": 0.30000000000000004,
            "bin_end": 0.4,
            "count": 0
           },
           {
            "bin_start": 0.4,
            "bin_end": 0.5,
            "count": 0
           }
          ]
         }
        },
        {
         "name": "Embarked_S",
         "dtype": "uint8",
         "stats": {
          "unique_count": 2,
          "nan_count": 0,
          "min": "0",
          "max": "1",
          "histogram": [
           {
            "bin_start": 0,
            "bin_end": 0.1,
            "count": 2
           },
           {
            "bin_start": 0.1,
            "bin_end": 0.2,
            "count": 0
           },
           {
            "bin_start": 0.2,
            "bin_end": 0.30000000000000004,
            "count": 0
           },
           {
            "bin_start": 0.30000000000000004,
            "bin_end": 0.4,
            "count": 0
           },
           {
            "bin_start": 0.4,
            "bin_end": 0.5,
            "count": 0
           },
           {
            "bin_start": 0.5,
            "bin_end": 0.6000000000000001,
            "count": 0
           },
           {
            "bin_start": 0.6000000000000001,
            "bin_end": 0.7000000000000001,
            "count": 0
           },
           {
            "bin_start": 0.7000000000000001,
            "bin_end": 0.8,
            "count": 0
           },
           {
            "bin_start": 0.8,
            "bin_end": 0.9,
            "count": 0
           },
           {
            "bin_start": 0.9,
            "bin_end": 1,
            "count": 8
           }
          ]
         }
        },
        {
         "name": "Pclass_2",
         "dtype": "uint8",
         "stats": {
          "unique_count": 2,
          "nan_count": 0,
          "min": "0",
          "max": "1",
          "histogram": [
           {
            "bin_start": 0,
            "bin_end": 0.1,
            "count": 9
           },
           {
            "bin_start": 0.1,
            "bin_end": 0.2,
            "count": 0
           },
           {
            "bin_start": 0.2,
            "bin_end": 0.30000000000000004,
            "count": 0
           },
           {
            "bin_start": 0.30000000000000004,
            "bin_end": 0.4,
            "count": 0
           },
           {
            "bin_start": 0.4,
            "bin_end": 0.5,
            "count": 0
           },
           {
            "bin_start": 0.5,
            "bin_end": 0.6000000000000001,
            "count": 0
           },
           {
            "bin_start": 0.6000000000000001,
            "bin_end": 0.7000000000000001,
            "count": 0
           },
           {
            "bin_start": 0.7000000000000001,
            "bin_end": 0.8,
            "count": 0
           },
           {
            "bin_start": 0.8,
            "bin_end": 0.9,
            "count": 0
           },
           {
            "bin_start": 0.9,
            "bin_end": 1,
            "count": 1
           }
          ]
         }
        },
        {
         "name": "Pclass_3",
         "dtype": "uint8",
         "stats": {
          "unique_count": 2,
          "nan_count": 0,
          "min": "0",
          "max": "1",
          "histogram": [
           {
            "bin_start": 0,
            "bin_end": 0.1,
            "count": 4
           },
           {
            "bin_start": 0.1,
            "bin_end": 0.2,
            "count": 0
           },
           {
            "bin_start": 0.2,
            "bin_end": 0.30000000000000004,
            "count": 0
           },
           {
            "bin_start": 0.30000000000000004,
            "bin_end": 0.4,
            "count": 0
           },
           {
            "bin_start": 0.4,
            "bin_end": 0.5,
            "count": 0
           },
           {
            "bin_start": 0.5,
            "bin_end": 0.6000000000000001,
            "count": 0
           },
           {
            "bin_start": 0.6000000000000001,
            "bin_end": 0.7000000000000001,
            "count": 0
           },
           {
            "bin_start": 0.7000000000000001,
            "bin_end": 0.8,
            "count": 0
           },
           {
            "bin_start": 0.8,
            "bin_end": 0.9,
            "count": 0
           },
           {
            "bin_start": 0.9,
            "bin_end": 1,
            "count": 6
           }
          ]
         }
        },
        {
         "name": "_deepnote_index_column",
         "dtype": "int64"
        }
       ],
       "rows": [
        {
         "Survived": 0,
         "Age": 22,
         "SibSp": 1,
         "Parch": 0,
         "Fare": 7.25,
         "Sex_male": 1,
         "Embarked_Q": 0,
         "Embarked_S": 1,
         "Pclass_2": 0,
         "Pclass_3": 1,
         "_deepnote_index_column": 0
        },
        {
         "Survived": 1,
         "Age": 38,
         "SibSp": 1,
         "Parch": 0,
         "Fare": 71.2833,
         "Sex_male": 0,
         "Embarked_Q": 0,
         "Embarked_S": 0,
         "Pclass_2": 0,
         "Pclass_3": 0,
         "_deepnote_index_column": 1
        },
        {
         "Survived": 1,
         "Age": 26,
         "SibSp": 0,
         "Parch": 0,
         "Fare": 7.925,
         "Sex_male": 0,
         "Embarked_Q": 0,
         "Embarked_S": 1,
         "Pclass_2": 0,
         "Pclass_3": 1,
         "_deepnote_index_column": 2
        },
        {
         "Survived": 1,
         "Age": 35,
         "SibSp": 1,
         "Parch": 0,
         "Fare": 53.1,
         "Sex_male": 0,
         "Embarked_Q": 0,
         "Embarked_S": 1,
         "Pclass_2": 0,
         "Pclass_3": 0,
         "_deepnote_index_column": 3
        },
        {
         "Survived": 0,
         "Age": 35,
         "SibSp": 0,
         "Parch": 0,
         "Fare": 8.05,
         "Sex_male": 1,
         "Embarked_Q": 0,
         "Embarked_S": 1,
         "Pclass_2": 0,
         "Pclass_3": 1,
         "_deepnote_index_column": 4
        },
        {
         "Survived": 0,
         "Age": 54,
         "SibSp": 0,
         "Parch": 0,
         "Fare": 51.8625,
         "Sex_male": 1,
         "Embarked_Q": 0,
         "Embarked_S": 1,
         "Pclass_2": 0,
         "Pclass_3": 0,
         "_deepnote_index_column": 6
        },
        {
         "Survived": 0,
         "Age": 2,
         "SibSp": 3,
         "Parch": 1,
         "Fare": 21.075,
         "Sex_male": 1,
         "Embarked_Q": 0,
         "Embarked_S": 1,
         "Pclass_2": 0,
         "Pclass_3": 1,
         "_deepnote_index_column": 7
        },
        {
         "Survived": 1,
         "Age": 27,
         "SibSp": 0,
         "Parch": 2,
         "Fare": 11.1333,
         "Sex_male": 0,
         "Embarked_Q": 0,
         "Embarked_S": 1,
         "Pclass_2": 0,
         "Pclass_3": 1,
         "_deepnote_index_column": 8
        },
        {
         "Survived": 1,
         "Age": 14,
         "SibSp": 1,
         "Parch": 0,
         "Fare": 30.0708,
         "Sex_male": 0,
         "Embarked_Q": 0,
         "Embarked_S": 0,
         "Pclass_2": 1,
         "Pclass_3": 0,
         "_deepnote_index_column": 9
        },
        {
         "Survived": 1,
         "Age": 4,
         "SibSp": 1,
         "Parch": 1,
         "Fare": 16.7,
         "Sex_male": 0,
         "Embarked_Q": 0,
         "Embarked_S": 1,
         "Pclass_2": 0,
         "Pclass_3": 1,
         "_deepnote_index_column": 10
        }
       ]
      },
      "text/plain": "    Survived   Age  SibSp  Parch     Fare  Sex_male  Embarked_Q  Embarked_S  \\\n0          0  22.0      1      0   7.2500         1           0           1   \n1          1  38.0      1      0  71.2833         0           0           0   \n2          1  26.0      0      0   7.9250         0           0           1   \n3          1  35.0      1      0  53.1000         0           0           1   \n4          0  35.0      0      0   8.0500         1           0           1   \n6          0  54.0      0      0  51.8625         1           0           1   \n7          0   2.0      3      1  21.0750         1           0           1   \n8          1  27.0      0      2  11.1333         0           0           1   \n9          1  14.0      1      0  30.0708         0           0           0   \n10         1   4.0      1      1  16.7000         0           0           1   \n\n    Pclass_2  Pclass_3  \n0          0         1  \n1          0         0  \n2          0         1  \n3          0         0  \n4          0         1  \n6          0         0  \n7          0         1  \n8          0         1  \n9          1         0  \n10         0         1  ",
      "text/html": "<div>\n<style scoped>\n    .dataframe tbody tr th:only-of-type {\n        vertical-align: middle;\n    }\n\n    .dataframe tbody tr th {\n        vertical-align: top;\n    }\n\n    .dataframe thead th {\n        text-align: right;\n    }\n</style>\n<table border=\"1\" class=\"dataframe\">\n  <thead>\n    <tr style=\"text-align: right;\">\n      <th></th>\n      <th>Survived</th>\n      <th>Age</th>\n      <th>SibSp</th>\n      <th>Parch</th>\n      <th>Fare</th>\n      <th>Sex_male</th>\n      <th>Embarked_Q</th>\n      <th>Embarked_S</th>\n      <th>Pclass_2</th>\n      <th>Pclass_3</th>\n    </tr>\n  </thead>\n  <tbody>\n    <tr>\n      <th>0</th>\n      <td>0</td>\n      <td>22.0</td>\n      <td>1</td>\n      <td>0</td>\n      <td>7.2500</td>\n      <td>1</td>\n      <td>0</td>\n      <td>1</td>\n      <td>0</td>\n      <td>1</td>\n    </tr>\n    <tr>\n      <th>1</th>\n      <td>1</td>\n      <td>38.0</td>\n      <td>1</td>\n      <td>0</td>\n      <td>71.2833</td>\n      <td>0</td>\n      <td>0</td>\n      <td>0</td>\n      <td>0</td>\n      <td>0</td>\n    </tr>\n    <tr>\n      <th>2</th>\n      <td>1</td>\n      <td>26.0</td>\n      <td>0</td>\n      <td>0</td>\n      <td>7.9250</td>\n      <td>0</td>\n      <td>0</td>\n      <td>1</td>\n      <td>0</td>\n      <td>1</td>\n    </tr>\n    <tr>\n      <th>3</th>\n      <td>1</td>\n      <td>35.0</td>\n      <td>1</td>\n      <td>0</td>\n      <td>53.1000</td>\n      <td>0</td>\n      <td>0</td>\n      <td>1</td>\n      <td>0</td>\n      <td>0</td>\n    </tr>\n    <tr>\n      <th>4</th>\n      <td>0</td>\n      <td>35.0</td>\n      <td>0</td>\n      <td>0</td>\n      <td>8.0500</td>\n      <td>1</td>\n      <td>0</td>\n      <td>1</td>\n      <td>0</td>\n      <td>1</td>\n    </tr>\n    <tr>\n      <th>6</th>\n      <td>0</td>\n      <td>54.0</td>\n      <td>0</td>\n      <td>0</td>\n      <td>51.8625</td>\n      <td>1</td>\n      <td>0</td>\n      <td>1</td>\n      <td>0</td>\n      <td>0</td>\n    </tr>\n    <tr>\n      <th>7</th>\n      <td>0</td>\n      <td>2.0</td>\n      <td>3</td>\n      <td>1</td>\n      <td>21.0750</td>\n      <td>1</td>\n      <td>0</td>\n      <td>1</td>\n      <td>0</td>\n      <td>1</td>\n    </tr>\n    <tr>\n      <th>8</th>\n      <td>1</td>\n      <td>27.0</td>\n      <td>0</td>\n      <td>2</td>\n      <td>11.1333</td>\n      <td>0</td>\n      <td>0</td>\n      <td>1</td>\n      <td>0</td>\n      <td>1</td>\n    </tr>\n    <tr>\n      <th>9</th>\n      <td>1</td>\n      <td>14.0</td>\n      <td>1</td>\n      <td>0</td>\n      <td>30.0708</td>\n      <td>0</td>\n      <td>0</td>\n      <td>0</td>\n      <td>1</td>\n      <td>0</td>\n    </tr>\n    <tr>\n      <th>10</th>\n      <td>1</td>\n      <td>4.0</td>\n      <td>1</td>\n      <td>1</td>\n      <td>16.7000</td>\n      <td>0</td>\n      <td>0</td>\n      <td>1</td>\n      <td>0</td>\n      <td>1</td>\n    </tr>\n  </tbody>\n</table>\n</div>"
     },
     "metadata": {}
    }
   ]
  },
  {
   "cell_type": "code",
   "metadata": {
    "tags": [],
    "cell_id": "00068-18174d48-6fe5-4e86-baa5-2d9df589d353",
    "deepnote_to_be_reexecuted": false,
    "source_hash": "3be2c39e",
    "execution_start": 1641984354868,
    "execution_millis": 15,
    "deepnote_cell_type": "code"
   },
   "source": "\n\nfrom sklearn.preprocessing import StandardScaler\nscaler = StandardScaler()\n\n# for df_train_ml\nscaler.fit(df_train_ml.drop('Survived',axis=1))\nscaled_features = scaler.transform(df_train_ml.drop('Survived',axis=1))\ndf_train_ml_sc = pd.DataFrame(scaled_features, columns=df_train_ml.columns[:-1])\n\n# for df_test_ml\ndf_test_ml.fillna(df_test_ml.mean(), inplace=True)\n# scaler.fit(df_test_ml)\nscaled_features = scaler.transform(df_test_ml)\ndf_test_ml_sc = pd.DataFrame(scaled_features, columns=df_test_ml.columns)\n\n",
   "execution_count": null,
   "outputs": []
  },
  {
   "cell_type": "code",
   "metadata": {
    "tags": [],
    "cell_id": "00064-99c75c7c-1017-494a-ac5a-200ba6b5b6be",
    "deepnote_to_be_reexecuted": false,
    "source_hash": "a72c1d8c",
    "execution_start": 1641984354931,
    "execution_millis": 0,
    "deepnote_cell_type": "code"
   },
   "source": "from sklearn.model_selection import train_test_split\nX_train, X_test, y_train, y_test = train_test_split(df_train_ml.drop('Survived',axis=1), df_train_ml['Survived'], test_size=0.30, random_state=101)\nX_train_sc, X_test_sc, y_train_sc, y_test_sc = train_test_split(df_train_ml_sc, df_train_ml['Survived'], test_size=0.30, random_state=101)",
   "execution_count": null,
   "outputs": []
  },
  {
   "cell_type": "code",
   "metadata": {
    "tags": [],
    "cell_id": "00072-5301f453-513a-4dd6-99d5-db22be475e3d",
    "deepnote_to_be_reexecuted": false,
    "source_hash": "474250b3",
    "execution_start": 1641984354931,
    "execution_millis": 1,
    "deepnote_cell_type": "code"
   },
   "source": "# unscaled\nX_train_all = df_train_ml.drop('Survived',axis=1)\ny_train_all = df_train_ml['Survived']\nX_test_all = df_test_ml\n\n# scaled\nX_train_all_sc = df_train_ml_sc\ny_train_all_sc = df_train_ml['Survived']\nX_test_all_sc = df_test_ml_sc",
   "execution_count": null,
   "outputs": []
  },
  {
   "cell_type": "code",
   "metadata": {
    "tags": [],
    "cell_id": "00073-758cda9e-52c3-4fb8-9f96-5d76b5fcca67",
    "deepnote_to_be_reexecuted": false,
    "source_hash": "906d106d",
    "execution_start": 1641984354932,
    "execution_millis": 38190767,
    "deepnote_cell_type": "code"
   },
   "source": "X_test_all.fillna(X_test_all.mean(), inplace=True)\nprint(\"*\")",
   "execution_count": null,
   "outputs": [
    {
     "name": "stdout",
     "text": "*\n",
     "output_type": "stream",
     "data": {}
    }
   ]
  },
  {
   "cell_type": "code",
   "metadata": {
    "tags": [],
    "cell_id": "00074-65f0e222-5ca9-425f-8032-1fafa7ae02c3",
    "deepnote_to_be_reexecuted": false,
    "source_hash": "494e66f5",
    "execution_start": 1641984354937,
    "execution_millis": 38176014,
    "deepnote_cell_type": "code"
   },
   "source": "\n\nfrom sklearn.metrics import accuracy_score, classification_report, confusion_matrix\n\n",
   "execution_count": null,
   "outputs": []
  },
  {
   "cell_type": "code",
   "metadata": {
    "tags": [],
    "cell_id": "00075-46723690-4fc7-479c-86d5-4f2931c287e0",
    "deepnote_to_be_reexecuted": false,
    "source_hash": "6e6b4fd5",
    "execution_start": 1641984354989,
    "execution_millis": 46,
    "deepnote_cell_type": "code"
   },
   "source": "from sklearn.linear_model import LogisticRegression\nlogreg = LogisticRegression()\nlogreg.fit(X_train,y_train)\npred_logreg = logreg.predict(X_test)\nprint(confusion_matrix(y_test, pred_logreg))\nprint(classification_report(y_test, pred_logreg))\nprint(accuracy_score(y_test, pred_logreg))",
   "execution_count": null,
   "outputs": [
    {
     "name": "stdout",
     "text": "[[105  18]\n [ 28  64]]\n              precision    recall  f1-score   support\n\n           0       0.79      0.85      0.82       123\n           1       0.78      0.70      0.74        92\n\n    accuracy                           0.79       215\n   macro avg       0.78      0.77      0.78       215\nweighted avg       0.79      0.79      0.78       215\n\n0.786046511627907\n/shared-libs/python3.7/py/lib/python3.7/site-packages/sklearn/linear_model/_logistic.py:818: ConvergenceWarning: lbfgs failed to converge (status=1):\nSTOP: TOTAL NO. of ITERATIONS REACHED LIMIT.\n\nIncrease the number of iterations (max_iter) or scale the data as shown in:\n    https://scikit-learn.org/stable/modules/preprocessing.html\nPlease also refer to the documentation for alternative solver options:\n    https://scikit-learn.org/stable/modules/linear_model.html#logistic-regression\n  extra_warning_msg=_LOGISTIC_SOLVER_CONVERGENCE_MSG,\n",
     "output_type": "stream",
     "data": {}
    }
   ]
  },
  {
   "cell_type": "markdown",
   "source": "\nPart 2: Data wrangling\n\nbuilding two new dataframes df_train_ml and df_test_ml\nthese will have only ordinal features and no missing values so they can be used for ML algorithms\nconverting categorical to numerical by pd.get_dummies\ndropping all features that seem to be not useful for prediction\nThen use the Standard scaler and apply train/test split\n",
   "metadata": {
    "tags": [],
    "cell_id": "00029-ed209510-6554-4918-b46e-bd0ffc06127e",
    "deepnote_cell_type": "markdown"
   }
  },
  {
   "cell_type": "code",
   "metadata": {
    "tags": [],
    "cell_id": "00076-0dfc0856-deb6-4f1c-919f-19e1ec76a4c4",
    "deepnote_to_be_reexecuted": false,
    "source_hash": "cfa61349",
    "execution_start": 1641984355035,
    "execution_millis": 27,
    "deepnote_cell_type": "code"
   },
   "source": "logreg.fit(X_train_all, y_train_all)\npred_all_logreg = logreg.predict(X_test_all)",
   "execution_count": null,
   "outputs": [
    {
     "name": "stderr",
     "text": "/shared-libs/python3.7/py/lib/python3.7/site-packages/sklearn/linear_model/_logistic.py:818: ConvergenceWarning: lbfgs failed to converge (status=1):\nSTOP: TOTAL NO. of ITERATIONS REACHED LIMIT.\n\nIncrease the number of iterations (max_iter) or scale the data as shown in:\n    https://scikit-learn.org/stable/modules/preprocessing.html\nPlease also refer to the documentation for alternative solver options:\n    https://scikit-learn.org/stable/modules/linear_model.html#logistic-regression\n  extra_warning_msg=_LOGISTIC_SOLVER_CONVERGENCE_MSG,\n",
     "output_type": "stream",
     "data": {}
    }
   ]
  },
  {
   "cell_type": "code",
   "metadata": {
    "tags": [],
    "cell_id": "00077-3ed1d97d-1258-4c61-bf09-e0569d385e9b",
    "deepnote_to_be_reexecuted": false,
    "source_hash": "c46147b3",
    "execution_start": 1641984355068,
    "execution_millis": 23,
    "deepnote_cell_type": "code"
   },
   "source": "from sklearn.naive_bayes import GaussianNB\ngnb=GaussianNB()\ngnb.fit(X_train,y_train)\npred_gnb = gnb.predict(X_test)\nprint(confusion_matrix(y_test, pred_gnb))\nprint(classification_report(y_test, pred_gnb))\nprint(accuracy_score(y_test, pred_gnb))",
   "execution_count": null,
   "outputs": [
    {
     "name": "stdout",
     "text": "[[107  16]\n [ 36  56]]\n              precision    recall  f1-score   support\n\n           0       0.75      0.87      0.80       123\n           1       0.78      0.61      0.68        92\n\n    accuracy                           0.76       215\n   macro avg       0.76      0.74      0.74       215\nweighted avg       0.76      0.76      0.75       215\n\n0.7581395348837209\n",
     "output_type": "stream",
     "data": {}
    }
   ]
  },
  {
   "cell_type": "code",
   "metadata": {
    "tags": [],
    "cell_id": "00078-c97bc721-6b46-43c0-8c94-62cbfc4c5290",
    "deepnote_to_be_reexecuted": false,
    "source_hash": "bae383f6",
    "execution_start": 1641984355094,
    "execution_millis": 12,
    "deepnote_output_heights": [
     21
    ],
    "deepnote_cell_type": "code"
   },
   "source": "from sklearn.neighbors import KNeighborsClassifier\nknn = KNeighborsClassifier(n_neighbors=20)\nknn.fit(X_train_sc,y_train_sc)",
   "execution_count": null,
   "outputs": [
    {
     "output_type": "execute_result",
     "execution_count": 66,
     "data": {
      "text/plain": "KNeighborsClassifier(n_neighbors=20)"
     },
     "metadata": {}
    }
   ]
  },
  {
   "cell_type": "code",
   "metadata": {
    "tags": [],
    "cell_id": "00079-3642c360-05c0-4b2c-9926-48cbf6ed469d",
    "deepnote_to_be_reexecuted": false,
    "source_hash": "6b56ed69",
    "execution_start": 1641984355114,
    "execution_millis": 27,
    "deepnote_cell_type": "code"
   },
   "source": "pred_knn = knn.predict(X_test)\nprint(confusion_matrix(y_test, pred_knn))\nprint(classification_report(y_test, pred_knn))\nprint(accuracy_score(y_test, pred_knn))",
   "execution_count": null,
   "outputs": [
    {
     "name": "stdout",
     "text": "[[71 52]\n [26 66]]\n              precision    recall  f1-score   support\n\n           0       0.73      0.58      0.65       123\n           1       0.56      0.72      0.63        92\n\n    accuracy                           0.64       215\n   macro avg       0.65      0.65      0.64       215\nweighted avg       0.66      0.64      0.64       215\n\n0.6372093023255814\n",
     "output_type": "stream",
     "data": {}
    }
   ]
  },
  {
   "cell_type": "code",
   "metadata": {
    "tags": [],
    "cell_id": "00080-a47e0158-731c-4384-8cb3-d26a7994099c",
    "deepnote_to_be_reexecuted": false,
    "source_hash": "24e41649",
    "execution_start": 1641984355202,
    "execution_millis": 43,
    "deepnote_cell_type": "code"
   },
   "source": "knn.fit(X_train_all, y_train_all)\npred_all_knn = knn.predict(X_test_all)",
   "execution_count": null,
   "outputs": []
  },
  {
   "cell_type": "code",
   "metadata": {
    "tags": [],
    "cell_id": "00081-254f93dd-f1d9-4403-a43c-0208253aa8cd",
    "deepnote_to_be_reexecuted": false,
    "source_hash": "5756cb13",
    "execution_start": 1641984355248,
    "execution_millis": 266,
    "deepnote_output_heights": [
     21
    ],
    "deepnote_cell_type": "code"
   },
   "source": "from sklearn.ensemble import RandomForestClassifier\nrfc = RandomForestClassifier(max_depth=6, max_features=7)\nrfc.fit(X_train, y_train)",
   "execution_count": null,
   "outputs": [
    {
     "output_type": "execute_result",
     "execution_count": 69,
     "data": {
      "text/plain": "RandomForestClassifier(max_depth=6, max_features=7)"
     },
     "metadata": {}
    }
   ]
  },
  {
   "cell_type": "code",
   "metadata": {
    "tags": [],
    "cell_id": "00082-658a1064-cc52-479a-acb4-58f673527ed9",
    "deepnote_to_be_reexecuted": false,
    "source_hash": "d4ccff",
    "execution_start": 1641984355531,
    "execution_millis": 31,
    "deepnote_cell_type": "code"
   },
   "source": "pred_rfc = rfc.predict(X_test)\nprint(confusion_matrix(y_test, pred_rfc))\nprint(classification_report(y_test, pred_rfc))\nprint(accuracy_score(y_test, pred_rfc))",
   "execution_count": null,
   "outputs": [
    {
     "name": "stdout",
     "text": "[[116   7]\n [ 34  58]]\n              precision    recall  f1-score   support\n\n           0       0.77      0.94      0.85       123\n           1       0.89      0.63      0.74        92\n\n    accuracy                           0.81       215\n   macro avg       0.83      0.79      0.79       215\nweighted avg       0.82      0.81      0.80       215\n\n0.8093023255813954\n",
     "output_type": "stream",
     "data": {}
    }
   ]
  },
  {
   "cell_type": "code",
   "metadata": {
    "tags": [],
    "cell_id": "00083-836ecb44-9d09-48ce-a69d-f75f0e1ad0c9",
    "deepnote_to_be_reexecuted": false,
    "source_hash": "a1eab512",
    "execution_start": 1641984355576,
    "execution_millis": 325,
    "deepnote_cell_type": "code"
   },
   "source": "rfc.fit(X_train_all, y_train_all)\npred_all_rfc = rfc.predict(X_test_all)",
   "execution_count": null,
   "outputs": []
  },
  {
   "cell_type": "code",
   "metadata": {
    "tags": [],
    "cell_id": "00084-c0091bef-3ce9-45d4-884d-d8580e148ddd",
    "deepnote_to_be_reexecuted": false,
    "source_hash": "1682f65c",
    "execution_start": 1641984355911,
    "execution_millis": 23,
    "deepnote_output_heights": [
     21.199996948242188
    ],
    "deepnote_cell_type": "code"
   },
   "source": "\n\nfrom sklearn.svm import SVC\nsvc = SVC(gamma = 0.01, C = 100)#, probability=True)\nsvc.fit(X_train_sc, y_train_sc)\n\n",
   "execution_count": null,
   "outputs": [
    {
     "output_type": "execute_result",
     "execution_count": 72,
     "data": {
      "text/plain": "SVC(C=100, gamma=0.01)"
     },
     "metadata": {}
    }
   ]
  },
  {
   "cell_type": "code",
   "metadata": {
    "tags": [],
    "cell_id": "00085-25fd3528-810c-4f3f-8d2b-54badb427297",
    "deepnote_to_be_reexecuted": false,
    "source_hash": "68adf22e",
    "execution_start": 1641984355941,
    "execution_millis": 30,
    "deepnote_cell_type": "code"
   },
   "source": "\n\npred_svc = svc.predict(X_test_sc)\nprint(confusion_matrix(y_test_sc, pred_svc))\nprint(classification_report(y_test_sc, pred_svc))\nprint(accuracy_score(y_test_sc, pred_svc))\n\n",
   "execution_count": null,
   "outputs": [
    {
     "name": "stdout",
     "text": "[[116   7]\n [ 34  58]]\n              precision    recall  f1-score   support\n\n           0       0.77      0.94      0.85       123\n           1       0.89      0.63      0.74        92\n\n    accuracy                           0.81       215\n   macro avg       0.83      0.79      0.79       215\nweighted avg       0.82      0.81      0.80       215\n\n0.8093023255813954\n",
     "output_type": "stream",
     "data": {}
    }
   ]
  },
  {
   "cell_type": "code",
   "metadata": {
    "tags": [],
    "cell_id": "00086-03d4cef2-1568-436a-9610-09bbdcda681c",
    "deepnote_to_be_reexecuted": false,
    "source_hash": "60940c7c",
    "execution_start": 1641984355978,
    "execution_millis": 37946356,
    "deepnote_cell_type": "code"
   },
   "source": "from sklearn.model_selection import cross_val_score",
   "execution_count": null,
   "outputs": []
  },
  {
   "cell_type": "code",
   "metadata": {
    "tags": [],
    "cell_id": "00087-319ef679-fd45-499b-9056-139742f3ef91",
    "deepnote_to_be_reexecuted": false,
    "source_hash": "a9b8dbfc",
    "execution_start": 1641984356025,
    "execution_millis": 2560,
    "deepnote_cell_type": "code"
   },
   "source": "scores_rfc = cross_val_score(rfc, X_train_all_sc, y_train_all_sc, cv=10, scoring='accuracy')\nprint(scores_rfc)\nprint(scores_rfc.mean())",
   "execution_count": null,
   "outputs": [
    {
     "name": "stdout",
     "text": "[0.77777778 0.76388889 0.73611111 0.91666667 0.81690141 0.87323944\n 0.8028169  0.73239437 0.87323944 0.85915493]\n0.8152190923317683\n",
     "output_type": "stream",
     "data": {}
    }
   ]
  },
  {
   "cell_type": "code",
   "metadata": {
    "tags": [],
    "cell_id": "00088-3bcba3fa-a0fe-44b5-a8d2-c73f32163579",
    "deepnote_to_be_reexecuted": false,
    "source_hash": "44c4388b",
    "execution_start": 1641984358592,
    "execution_millis": 302,
    "deepnote_cell_type": "code"
   },
   "source": "scores_svc = cross_val_score(svc, X_train_all_sc, y_train_all_sc, cv=10, scoring='accuracy')\nprint(scores_svc)\nprint(scores_svc.mean())",
   "execution_count": null,
   "outputs": [
    {
     "name": "stdout",
     "text": "[0.81944444 0.80555556 0.76388889 0.875      0.81690141 0.8028169\n 0.8028169  0.73239437 0.88732394 0.84507042]\n0.8151212832550861\n",
     "output_type": "stream",
     "data": {}
    }
   ]
  },
  {
   "cell_type": "code",
   "metadata": {
    "tags": [],
    "cell_id": "00089-8352d7c4-a3bb-437c-8784-5b2d4e7b1a16",
    "deepnote_to_be_reexecuted": false,
    "source_hash": "3eb55bdd",
    "execution_start": 1641984358903,
    "execution_millis": 6,
    "deepnote_cell_type": "code"
   },
   "source": "#print(\"dtree_2 : \" , scores_dtree_2.mean())\nprint(\"rfc     : \" , scores_rfc.mean())\nprint(\"svc     : \" , scores_svc.mean())",
   "execution_count": null,
   "outputs": [
    {
     "name": "stdout",
     "text": "rfc     :  0.8152190923317683\nsvc     :  0.8151212832550861\n",
     "output_type": "stream",
     "data": {}
    }
   ]
  },
  {
   "cell_type": "code",
   "metadata": {
    "tags": [],
    "cell_id": "00090-5960153f-0f4f-4720-b573-49e96d34cfe7",
    "deepnote_to_be_reexecuted": false,
    "source_hash": "cf388784",
    "execution_start": 1641984358917,
    "execution_millis": 37835922,
    "deepnote_cell_type": "code"
   },
   "source": "\n\nfrom sklearn.model_selection import RandomizedSearchCV\nfrom sklearn.model_selection import GridSearchCV\nfrom scipy.stats import uniform\n\n",
   "execution_count": null,
   "outputs": []
  },
  {
   "cell_type": "code",
   "metadata": {
    "tags": [],
    "cell_id": "00091-42d08cb2-1075-4b88-86b9-3355f58ba394",
    "deepnote_to_be_reexecuted": false,
    "source_hash": "97788215",
    "execution_start": 1641984358925,
    "execution_millis": 65154,
    "deepnote_output_heights": [
     null,
     21.199996948242188
    ],
    "deepnote_cell_type": "code"
   },
   "source": "\n\nfrom sklearn.ensemble import RandomForestClassifier\nrfc = RandomForestClassifier()\n\nparam_grid = {'max_depth': [3, 5, 6], 'max_features': [6,7,8],  \n              'min_samples_split': [5, 6, 8]}\n\nrf_grid = GridSearchCV(rfc, param_grid, cv=10, refit=True, verbose=1)\nrf_grid.fit(X_train_sc,y_train_sc)\n#sc_rf = get_best_score(rf_grid)\nrf_grid.best_params_\n#rf_grid.fit(X_test_all_sc, y_train)\n",
   "execution_count": null,
   "outputs": [
    {
     "name": "stdout",
     "text": "Fitting 10 folds for each of 27 candidates, totalling 270 fits\n",
     "output_type": "stream",
     "data": {}
    },
    {
     "output_type": "execute_result",
     "execution_count": 79,
     "data": {
      "text/plain": "{'max_depth': 6, 'max_features': 6, 'min_samples_split': 6}"
     },
     "metadata": {}
    }
   ]
  },
  {
   "cell_type": "code",
   "metadata": {
    "tags": [],
    "cell_id": "00093-d4f3d530-c06d-4430-a09c-c57e398d7860",
    "deepnote_to_be_reexecuted": false,
    "source_hash": "5756cb13",
    "execution_start": 1641984424080,
    "execution_millis": 238,
    "deepnote_output_heights": [
     21.199996948242188
    ],
    "deepnote_cell_type": "code"
   },
   "source": "from sklearn.ensemble import RandomForestClassifier\nrfc = RandomForestClassifier(max_depth=6, max_features=7)\nrfc.fit(X_train, y_train)",
   "execution_count": null,
   "outputs": [
    {
     "output_type": "execute_result",
     "execution_count": 80,
     "data": {
      "text/plain": "RandomForestClassifier(max_depth=6, max_features=7)"
     },
     "metadata": {}
    }
   ]
  },
  {
   "cell_type": "code",
   "metadata": {
    "tags": [],
    "cell_id": "00094-9d439b68-afad-4efd-825d-47488444ad2e",
    "deepnote_to_be_reexecuted": false,
    "source_hash": "f31196a",
    "execution_start": 1641984424333,
    "execution_millis": 440,
    "deepnote_output_heights": [
     21,
     253
    ],
    "deepnote_cell_type": "code"
   },
   "source": "plt.barh(df_test_ml.columns, rfc.feature_importances_)\n",
   "execution_count": null,
   "outputs": [
    {
     "output_type": "execute_result",
     "execution_count": 81,
     "data": {
      "text/plain": "<BarContainer object of 9 artists>"
     },
     "metadata": {}
    },
    {
     "data": {
      "text/plain": "<Figure size 432x288 with 1 Axes>",
      "image/png": "[encoded data removed]"
     },
     "metadata": {
      "image/png": {
       "width": 435,
       "height": 251
      }
     },
     "output_type": "display_data"
    }
   ]
  },
  {
   "cell_type": "code",
   "metadata": {
    "tags": [],
    "cell_id": "00087-42aeb64f-6abe-430e-b0ca-ebdf0e3e4f7c",
    "deepnote_to_be_reexecuted": true,
    "source_hash": "61f93a7b",
    "deepnote_cell_type": "code"
   },
   "source": "# deleete this ",
   "execution_count": null,
   "outputs": []
  },
  {
   "cell_type": "code",
   "metadata": {
    "tags": [],
    "cell_id": "00043-5e9acbf7-b990-4e8e-b256-ece1a6764711",
    "deepnote_to_be_reexecuted": true,
    "source_hash": "76151097",
    "execution_start": 1641823835242,
    "execution_millis": 194,
    "deepnote_cell_type": "code"
   },
   "source": "X_train_all",
   "execution_count": null,
   "outputs": [
    {
     "output_type": "execute_result",
     "execution_count": 43,
     "data": {
      "application/vnd.deepnote.dataframe.v3+json": {
       "column_count": 9,
       "row_count": 714,
       "columns": [
        {
         "name": "Age",
         "dtype": "float64",
         "stats": {
          "unique_count": 88,
          "nan_count": 0,
          "min": "0.42",
          "max": "80.0",
          "histogram": [
           {
            "bin_start": 0.42,
            "bin_end": 8.378,
            "count": 54
           },
           {
            "bin_start": 8.378,
            "bin_end": 16.336000000000002,
            "count": 46
           },
           {
            "bin_start": 16.336000000000002,
            "bin_end": 24.294000000000004,
            "count": 177
           },
           {
            "bin_start": 24.294000000000004,
            "bin_end": 32.252,
            "count": 169
           },
           {
            "bin_start": 32.252,
            "bin_end": 40.21,
            "count": 118
           },
           {
            "bin_start": 40.21,
            "bin_end": 48.168000000000006,
            "count": 70
           },
           {
            "bin_start": 48.168000000000006,
            "bin_end": 56.126000000000005,
            "count": 45
           },
           {
            "bin_start": 56.126000000000005,
            "bin_end": 64.084,
            "count": 24
           },
           {
            "bin_start": 64.084,
            "bin_end": 72.042,
            "count": 9
           },
           {
            "bin_start": 72.042,
            "bin_end": 80,
            "count": 2
           }
          ]
         }
        },
        {
         "name": "SibSp",
         "dtype": "int64",
         "stats": {
          "unique_count": 6,
          "nan_count": 0,
          "min": "0",
          "max": "5",
          "histogram": [
           {
            "bin_start": 0,
            "bin_end": 0.5,
            "count": 471
           },
           {
            "bin_start": 0.5,
            "bin_end": 1,
            "count": 0
           },
           {
            "bin_start": 1,
            "bin_end": 1.5,
            "count": 183
           },
           {
            "bin_start": 1.5,
            "bin_end": 2,
            "count": 0
           },
           {
            "bin_start": 2,
            "bin_end": 2.5,
            "count": 25
           },
           {
            "bin_start": 2.5,
            "bin_end": 3,
            "count": 0
           },
           {
            "bin_start": 3,
            "bin_end": 3.5,
            "count": 12
           },
           {
            "bin_start": 3.5,
            "bin_end": 4,
            "count": 0
           },
           {
            "bin_start": 4,
            "bin_end": 4.5,
            "count": 18
           },
           {
            "bin_start": 4.5,
            "bin_end": 5,
            "count": 5
           }
          ]
         }
        },
        {
         "name": "Parch",
         "dtype": "int64",
         "stats": {
          "unique_count": 7,
          "nan_count": 0,
          "min": "0",
          "max": "6",
          "histogram": [
           {
            "bin_start": 0,
            "bin_end": 0.6,
            "count": 521
           },
           {
            "bin_start": 0.6,
            "bin_end": 1.2,
            "count": 110
           },
           {
            "bin_start": 1.2,
            "bin_end": 1.7999999999999998,
            "count": 0
           },
           {
            "bin_start": 1.7999999999999998,
            "bin_end": 2.4,
            "count": 68
           },
           {
            "bin_start": 2.4,
            "bin_end": 3,
            "count": 0
           },
           {
            "bin_start": 3,
            "bin_end": 3.5999999999999996,
            "count": 5
           },
           {
            "bin_start": 3.5999999999999996,
            "bin_end": 4.2,
            "count": 4
           },
           {
            "bin_start": 4.2,
            "bin_end": 4.8,
            "count": 0
           },
           {
            "bin_start": 4.8,
            "bin_end": 5.3999999999999995,
            "count": 5
           },
           {
            "bin_start": 5.3999999999999995,
            "bin_end": 6,
            "count": 1
           }
          ]
         }
        },
        {
         "name": "Fare",
         "dtype": "float64",
         "stats": {
          "unique_count": 220,
          "nan_count": 0,
          "min": "0.0",
          "max": "512.3292",
          "histogram": [
           {
            "bin_start": 0,
            "bin_end": 51.23292,
            "count": 577
           },
           {
            "bin_start": 51.23292,
            "bin_end": 102.46584,
            "count": 89
           },
           {
            "bin_start": 102.46584,
            "bin_end": 153.69876,
            "count": 28
           },
           {
            "bin_start": 153.69876,
            "bin_end": 204.93168,
            "count": 2
           },
           {
            "bin_start": 204.93168,
            "bin_end": 256.1646,
            "count": 9
           },
           {
            "bin_start": 256.1646,
            "bin_end": 307.39752,
            "count": 6
           },
           {
            "bin_start": 307.39752,
            "bin_end": 358.63044,
            "count": 0
           },
           {
            "bin_start": 358.63044,
            "bin_end": 409.86336,
            "count": 0
           },
           {
            "bin_start": 409.86336,
            "bin_end": 461.09628,
            "count": 0
           },
           {
            "bin_start": 461.09628,
            "bin_end": 512.3292,
            "count": 3
           }
          ]
         }
        },
        {
         "name": "Sex_male",
         "dtype": "uint8",
         "stats": {
          "unique_count": 2,
          "nan_count": 0,
          "min": "0",
          "max": "1",
          "histogram": [
           {
            "bin_start": 0,
            "bin_end": 0.1,
            "count": 261
           },
           {
            "bin_start": 0.1,
            "bin_end": 0.2,
            "count": 0
           },
           {
            "bin_start": 0.2,
            "bin_end": 0.30000000000000004,
            "count": 0
           },
           {
            "bin_start": 0.30000000000000004,
            "bin_end": 0.4,
            "count": 0
           },
           {
            "bin_start": 0.4,
            "bin_end": 0.5,
            "count": 0
           },
           {
            "bin_start": 0.5,
            "bin_end": 0.6000000000000001,
            "count": 0
           },
           {
            "bin_start": 0.6000000000000001,
            "bin_end": 0.7000000000000001,
            "count": 0
           },
           {
            "bin_start": 0.7000000000000001,
            "bin_end": 0.8,
            "count": 0
           },
           {
            "bin_start": 0.8,
            "bin_end": 0.9,
            "count": 0
           },
           {
            "bin_start": 0.9,
            "bin_end": 1,
            "count": 453
           }
          ]
         }
        },
        {
         "name": "Embarked_Q",
         "dtype": "uint8",
         "stats": {
          "unique_count": 2,
          "nan_count": 0,
          "min": "0",
          "max": "1",
          "histogram": [
           {
            "bin_start": 0,
            "bin_end": 0.1,
            "count": 686
           },
           {
            "bin_start": 0.1,
            "bin_end": 0.2,
            "count": 0
           },
           {
            "bin_start": 0.2,
            "bin_end": 0.30000000000000004,
            "count": 0
           },
           {
            "bin_start": 0.30000000000000004,
            "bin_end": 0.4,
            "count": 0
           },
           {
            "bin_start": 0.4,
            "bin_end": 0.5,
            "count": 0
           },
           {
            "bin_start": 0.5,
            "bin_end": 0.6000000000000001,
            "count": 0
           },
           {
            "bin_start": 0.6000000000000001,
            "bin_end": 0.7000000000000001,
            "count": 0
           },
           {
            "bin_start": 0.7000000000000001,
            "bin_end": 0.8,
            "count": 0
           },
           {
            "bin_start": 0.8,
            "bin_end": 0.9,
            "count": 0
           },
           {
            "bin_start": 0.9,
            "bin_end": 1,
            "count": 28
           }
          ]
         }
        },
        {
         "name": "Embarked_S",
         "dtype": "uint8",
         "stats": {
          "unique_count": 2,
          "nan_count": 0,
          "min": "0",
          "max": "1",
          "histogram": [
           {
            "bin_start": 0,
            "bin_end": 0.1,
            "count": 160
           },
           {
            "bin_start": 0.1,
            "bin_end": 0.2,
            "count": 0
           },
           {
            "bin_start": 0.2,
            "bin_end": 0.30000000000000004,
            "count": 0
           },
           {
            "bin_start": 0.30000000000000004,
            "bin_end": 0.4,
            "count": 0
           },
           {
            "bin_start": 0.4,
            "bin_end": 0.5,
            "count": 0
           },
           {
            "bin_start": 0.5,
            "bin_end": 0.6000000000000001,
            "count": 0
           },
           {
            "bin_start": 0.6000000000000001,
            "bin_end": 0.7000000000000001,
            "count": 0
           },
           {
            "bin_start": 0.7000000000000001,
            "bin_end": 0.8,
            "count": 0
           },
           {
            "bin_start": 0.8,
            "bin_end": 0.9,
            "count": 0
           },
           {
            "bin_start": 0.9,
            "bin_end": 1,
            "count": 554
           }
          ]
         }
        },
        {
         "name": "Pclass_2",
         "dtype": "uint8",
         "stats": {
          "unique_count": 2,
          "nan_count": 0,
          "min": "0",
          "max": "1",
          "histogram": [
           {
            "bin_start": 0,
            "bin_end": 0.1,
            "count": 541
           },
           {
            "bin_start": 0.1,
            "bin_end": 0.2,
            "count": 0
           },
           {
            "bin_start": 0.2,
            "bin_end": 0.30000000000000004,
            "count": 0
           },
           {
            "bin_start": 0.30000000000000004,
            "bin_end": 0.4,
            "count": 0
           },
           {
            "bin_start": 0.4,
            "bin_end": 0.5,
            "count": 0
           },
           {
            "bin_start": 0.5,
            "bin_end": 0.6000000000000001,
            "count": 0
           },
           {
            "bin_start": 0.6000000000000001,
            "bin_end": 0.7000000000000001,
            "count": 0
           },
           {
            "bin_start": 0.7000000000000001,
            "bin_end": 0.8,
            "count": 0
           },
           {
            "bin_start": 0.8,
            "bin_end": 0.9,
            "count": 0
           },
           {
            "bin_start": 0.9,
            "bin_end": 1,
            "count": 173
           }
          ]
         }
        },
        {
         "name": "Pclass_3",
         "dtype": "uint8",
         "stats": {
          "unique_count": 2,
          "nan_count": 0,
          "min": "0",
          "max": "1",
          "histogram": [
           {
            "bin_start": 0,
            "bin_end": 0.1,
            "count": 359
           },
           {
            "bin_start": 0.1,
            "bin_end": 0.2,
            "count": 0
           },
           {
            "bin_start": 0.2,
            "bin_end": 0.30000000000000004,
            "count": 0
           },
           {
            "bin_start": 0.30000000000000004,
            "bin_end": 0.4,
            "count": 0
           },
           {
            "bin_start": 0.4,
            "bin_end": 0.5,
            "count": 0
           },
           {
            "bin_start": 0.5,
            "bin_end": 0.6000000000000001,
            "count": 0
           },
           {
            "bin_start": 0.6000000000000001,
            "bin_end": 0.7000000000000001,
            "count": 0
           },
           {
            "bin_start": 0.7000000000000001,
            "bin_end": 0.8,
            "count": 0
           },
           {
            "bin_start": 0.8,
            "bin_end": 0.9,
            "count": 0
           },
           {
            "bin_start": 0.9,
            "bin_end": 1,
            "count": 355
           }
          ]
         }
        },
        {
         "name": "_deepnote_index_column",
         "dtype": "int64"
        }
       ],
       "rows": [
        {
         "Age": 22,
         "SibSp": 1,
         "Parch": 0,
         "Fare": 7.25,
         "Sex_male": 1,
         "Embarked_Q": 0,
         "Embarked_S": 1,
         "Pclass_2": 0,
         "Pclass_3": 1,
         "_deepnote_index_column": 0
        },
        {
         "Age": 38,
         "SibSp": 1,
         "Parch": 0,
         "Fare": 71.2833,
         "Sex_male": 0,
         "Embarked_Q": 0,
         "Embarked_S": 0,
         "Pclass_2": 0,
         "Pclass_3": 0,
         "_deepnote_index_column": 1
        },
        {
         "Age": 26,
         "SibSp": 0,
         "Parch": 0,
         "Fare": 7.925,
         "Sex_male": 0,
         "Embarked_Q": 0,
         "Embarked_S": 1,
         "Pclass_2": 0,
         "Pclass_3": 1,
         "_deepnote_index_column": 2
        },
        {
         "Age": 35,
         "SibSp": 1,
         "Parch": 0,
         "Fare": 53.1,
         "Sex_male": 0,
         "Embarked_Q": 0,
         "Embarked_S": 1,
         "Pclass_2": 0,
         "Pclass_3": 0,
         "_deepnote_index_column": 3
        },
        {
         "Age": 35,
         "SibSp": 0,
         "Parch": 0,
         "Fare": 8.05,
         "Sex_male": 1,
         "Embarked_Q": 0,
         "Embarked_S": 1,
         "Pclass_2": 0,
         "Pclass_3": 1,
         "_deepnote_index_column": 4
        },
        {
         "Age": 54,
         "SibSp": 0,
         "Parch": 0,
         "Fare": 51.8625,
         "Sex_male": 1,
         "Embarked_Q": 0,
         "Embarked_S": 1,
         "Pclass_2": 0,
         "Pclass_3": 0,
         "_deepnote_index_column": 6
        },
        {
         "Age": 2,
         "SibSp": 3,
         "Parch": 1,
         "Fare": 21.075,
         "Sex_male": 1,
         "Embarked_Q": 0,
         "Embarked_S": 1,
         "Pclass_2": 0,
         "Pclass_3": 1,
         "_deepnote_index_column": 7
        },
        {
         "Age": 27,
         "SibSp": 0,
         "Parch": 2,
         "Fare": 11.1333,
         "Sex_male": 0,
         "Embarked_Q": 0,
         "Embarked_S": 1,
         "Pclass_2": 0,
         "Pclass_3": 1,
         "_deepnote_index_column": 8
        },
        {
         "Age": 14,
         "SibSp": 1,
         "Parch": 0,
         "Fare": 30.0708,
         "Sex_male": 0,
         "Embarked_Q": 0,
         "Embarked_S": 0,
         "Pclass_2": 1,
         "Pclass_3": 0,
         "_deepnote_index_column": 9
        },
        {
         "Age": 4,
         "SibSp": 1,
         "Parch": 1,
         "Fare": 16.7,
         "Sex_male": 0,
         "Embarked_Q": 0,
         "Embarked_S": 1,
         "Pclass_2": 0,
         "Pclass_3": 1,
         "_deepnote_index_column": 10
        }
       ]
      },
      "text/plain": "      Age  SibSp  Parch     Fare  Sex_male  Embarked_Q  Embarked_S  Pclass_2  \\\n0    22.0      1      0   7.2500         1           0           1         0   \n1    38.0      1      0  71.2833         0           0           0         0   \n2    26.0      0      0   7.9250         0           0           1         0   \n3    35.0      1      0  53.1000         0           0           1         0   \n4    35.0      0      0   8.0500         1           0           1         0   \n..    ...    ...    ...      ...       ...         ...         ...       ...   \n885  39.0      0      5  29.1250         0           1           0         0   \n886  27.0      0      0  13.0000         1           0           1         1   \n887  19.0      0      0  30.0000         0           0           1         0   \n889  26.0      0      0  30.0000         1           0           0         0   \n890  32.0      0      0   7.7500         1           1           0         0   \n\n     Pclass_3  \n0           1  \n1           0  \n2           1  \n3           0  \n4           1  \n..        ...  \n885         1  \n886         0  \n887         0  \n889         0  \n890         1  \n\n[714 rows x 9 columns]",
      "text/html": "<div>\n<style scoped>\n    .dataframe tbody tr th:only-of-type {\n        vertical-align: middle;\n    }\n\n    .dataframe tbody tr th {\n        vertical-align: top;\n    }\n\n    .dataframe thead th {\n        text-align: right;\n    }\n</style>\n<table border=\"1\" class=\"dataframe\">\n  <thead>\n    <tr style=\"text-align: right;\">\n      <th></th>\n      <th>Age</th>\n      <th>SibSp</th>\n      <th>Parch</th>\n      <th>Fare</th>\n      <th>Sex_male</th>\n      <th>Embarked_Q</th>\n      <th>Embarked_S</th>\n      <th>Pclass_2</th>\n      <th>Pclass_3</th>\n    </tr>\n  </thead>\n  <tbody>\n    <tr>\n      <th>0</th>\n      <td>22.0</td>\n      <td>1</td>\n      <td>0</td>\n      <td>7.2500</td>\n      <td>1</td>\n      <td>0</td>\n      <td>1</td>\n      <td>0</td>\n      <td>1</td>\n    </tr>\n    <tr>\n      <th>1</th>\n      <td>38.0</td>\n      <td>1</td>\n      <td>0</td>\n      <td>71.2833</td>\n      <td>0</td>\n      <td>0</td>\n      <td>0</td>\n      <td>0</td>\n      <td>0</td>\n    </tr>\n    <tr>\n      <th>2</th>\n      <td>26.0</td>\n      <td>0</td>\n      <td>0</td>\n      <td>7.9250</td>\n      <td>0</td>\n      <td>0</td>\n      <td>1</td>\n      <td>0</td>\n      <td>1</td>\n    </tr>\n    <tr>\n      <th>3</th>\n      <td>35.0</td>\n      <td>1</td>\n      <td>0</td>\n      <td>53.1000</td>\n      <td>0</td>\n      <td>0</td>\n      <td>1</td>\n      <td>0</td>\n      <td>0</td>\n    </tr>\n    <tr>\n      <th>4</th>\n      <td>35.0</td>\n      <td>0</td>\n      <td>0</td>\n      <td>8.0500</td>\n      <td>1</td>\n      <td>0</td>\n      <td>1</td>\n      <td>0</td>\n      <td>1</td>\n    </tr>\n    <tr>\n      <th>...</th>\n      <td>...</td>\n      <td>...</td>\n      <td>...</td>\n      <td>...</td>\n      <td>...</td>\n      <td>...</td>\n      <td>...</td>\n      <td>...</td>\n      <td>...</td>\n    </tr>\n    <tr>\n      <th>885</th>\n      <td>39.0</td>\n      <td>0</td>\n      <td>5</td>\n      <td>29.1250</td>\n      <td>0</td>\n      <td>1</td>\n      <td>0</td>\n      <td>0</td>\n      <td>1</td>\n    </tr>\n    <tr>\n      <th>886</th>\n      <td>27.0</td>\n      <td>0</td>\n      <td>0</td>\n      <td>13.0000</td>\n      <td>1</td>\n      <td>0</td>\n      <td>1</td>\n      <td>1</td>\n      <td>0</td>\n    </tr>\n    <tr>\n      <th>887</th>\n      <td>19.0</td>\n      <td>0</td>\n      <td>0</td>\n      <td>30.0000</td>\n      <td>0</td>\n      <td>0</td>\n      <td>1</td>\n      <td>0</td>\n      <td>0</td>\n    </tr>\n    <tr>\n      <th>889</th>\n      <td>26.0</td>\n      <td>0</td>\n      <td>0</td>\n      <td>30.0000</td>\n      <td>1</td>\n      <td>0</td>\n      <td>0</td>\n      <td>0</td>\n      <td>0</td>\n    </tr>\n    <tr>\n      <th>890</th>\n      <td>32.0</td>\n      <td>0</td>\n      <td>0</td>\n      <td>7.7500</td>\n      <td>1</td>\n      <td>1</td>\n      <td>0</td>\n      <td>0</td>\n      <td>1</td>\n    </tr>\n  </tbody>\n</table>\n<p>714 rows × 9 columns</p>\n</div>"
     },
     "metadata": {}
    }
   ]
  },
  {
   "cell_type": "code",
   "metadata": {
    "tags": [],
    "cell_id": "00034-aa0783f8-fd88-41cb-90c5-1a3f20a6ff01",
    "deepnote_to_be_reexecuted": true,
    "source_hash": "28b0ac6a",
    "execution_start": 1641823854206,
    "execution_millis": 63,
    "deepnote_cell_type": "code"
   },
   "source": "y_train_all",
   "execution_count": null,
   "outputs": [
    {
     "output_type": "execute_result",
     "execution_count": 44,
     "data": {
      "application/vnd.deepnote.dataframe.v3+json": {
       "column_count": 9,
       "row_count": 714,
       "columns": [
        {
         "name": "Age",
         "dtype": "float64",
         "stats": {
          "unique_count": 88,
          "nan_count": 0,
          "min": "0.42",
          "max": "80.0",
          "histogram": [
           {
            "bin_start": 0.42,
            "bin_end": 8.378,
            "count": 54
           },
           {
            "bin_start": 8.378,
            "bin_end": 16.336000000000002,
            "count": 46
           },
           {
            "bin_start": 16.336000000000002,
            "bin_end": 24.294000000000004,
            "count": 177
           },
           {
            "bin_start": 24.294000000000004,
            "bin_end": 32.252,
            "count": 169
           },
           {
            "bin_start": 32.252,
            "bin_end": 40.21,
            "count": 118
           },
           {
            "bin_start": 40.21,
            "bin_end": 48.168000000000006,
            "count": 70
           },
           {
            "bin_start": 48.168000000000006,
            "bin_end": 56.126000000000005,
            "count": 45
           },
           {
            "bin_start": 56.126000000000005,
            "bin_end": 64.084,
            "count": 24
           },
           {
            "bin_start": 64.084,
            "bin_end": 72.042,
            "count": 9
           },
           {
            "bin_start": 72.042,
            "bin_end": 80,
            "count": 2
           }
          ]
         }
        },
        {
         "name": "SibSp",
         "dtype": "int64",
         "stats": {
          "unique_count": 6,
          "nan_count": 0,
          "min": "0",
          "max": "5",
          "histogram": [
           {
            "bin_start": 0,
            "bin_end": 0.5,
            "count": 471
           },
           {
            "bin_start": 0.5,
            "bin_end": 1,
            "count": 0
           },
           {
            "bin_start": 1,
            "bin_end": 1.5,
            "count": 183
           },
           {
            "bin_start": 1.5,
            "bin_end": 2,
            "count": 0
           },
           {
            "bin_start": 2,
            "bin_end": 2.5,
            "count": 25
           },
           {
            "bin_start": 2.5,
            "bin_end": 3,
            "count": 0
           },
           {
            "bin_start": 3,
            "bin_end": 3.5,
            "count": 12
           },
           {
            "bin_start": 3.5,
            "bin_end": 4,
            "count": 0
           },
           {
            "bin_start": 4,
            "bin_end": 4.5,
            "count": 18
           },
           {
            "bin_start": 4.5,
            "bin_end": 5,
            "count": 5
           }
          ]
         }
        },
        {
         "name": "Parch",
         "dtype": "int64",
         "stats": {
          "unique_count": 7,
          "nan_count": 0,
          "min": "0",
          "max": "6",
          "histogram": [
           {
            "bin_start": 0,
            "bin_end": 0.6,
            "count": 521
           },
           {
            "bin_start": 0.6,
            "bin_end": 1.2,
            "count": 110
           },
           {
            "bin_start": 1.2,
            "bin_end": 1.7999999999999998,
            "count": 0
           },
           {
            "bin_start": 1.7999999999999998,
            "bin_end": 2.4,
            "count": 68
           },
           {
            "bin_start": 2.4,
            "bin_end": 3,
            "count": 0
           },
           {
            "bin_start": 3,
            "bin_end": 3.5999999999999996,
            "count": 5
           },
           {
            "bin_start": 3.5999999999999996,
            "bin_end": 4.2,
            "count": 4
           },
           {
            "bin_start": 4.2,
            "bin_end": 4.8,
            "count": 0
           },
           {
            "bin_start": 4.8,
            "bin_end": 5.3999999999999995,
            "count": 5
           },
           {
            "bin_start": 5.3999999999999995,
            "bin_end": 6,
            "count": 1
           }
          ]
         }
        },
        {
         "name": "Fare",
         "dtype": "float64",
         "stats": {
          "unique_count": 220,
          "nan_count": 0,
          "min": "0.0",
          "max": "512.3292",
          "histogram": [
           {
            "bin_start": 0,
            "bin_end": 51.23292,
            "count": 577
           },
           {
            "bin_start": 51.23292,
            "bin_end": 102.46584,
            "count": 89
           },
           {
            "bin_start": 102.46584,
            "bin_end": 153.69876,
            "count": 28
           },
           {
            "bin_start": 153.69876,
            "bin_end": 204.93168,
            "count": 2
           },
           {
            "bin_start": 204.93168,
            "bin_end": 256.1646,
            "count": 9
           },
           {
            "bin_start": 256.1646,
            "bin_end": 307.39752,
            "count": 6
           },
           {
            "bin_start": 307.39752,
            "bin_end": 358.63044,
            "count": 0
           },
           {
            "bin_start": 358.63044,
            "bin_end": 409.86336,
            "count": 0
           },
           {
            "bin_start": 409.86336,
            "bin_end": 461.09628,
            "count": 0
           },
           {
            "bin_start": 461.09628,
            "bin_end": 512.3292,
            "count": 3
           }
          ]
         }
        },
        {
         "name": "Sex_male",
         "dtype": "uint8",
         "stats": {
          "unique_count": 2,
          "nan_count": 0,
          "min": "0",
          "max": "1",
          "histogram": [
           {
            "bin_start": 0,
            "bin_end": 0.1,
            "count": 261
           },
           {
            "bin_start": 0.1,
            "bin_end": 0.2,
            "count": 0
           },
           {
            "bin_start": 0.2,
            "bin_end": 0.30000000000000004,
            "count": 0
           },
           {
            "bin_start": 0.30000000000000004,
            "bin_end": 0.4,
            "count": 0
           },
           {
            "bin_start": 0.4,
            "bin_end": 0.5,
            "count": 0
           },
           {
            "bin_start": 0.5,
            "bin_end": 0.6000000000000001,
            "count": 0
           },
           {
            "bin_start": 0.6000000000000001,
            "bin_end": 0.7000000000000001,
            "count": 0
           },
           {
            "bin_start": 0.7000000000000001,
            "bin_end": 0.8,
            "count": 0
           },
           {
            "bin_start": 0.8,
            "bin_end": 0.9,
            "count": 0
           },
           {
            "bin_start": 0.9,
            "bin_end": 1,
            "count": 453
           }
          ]
         }
        },
        {
         "name": "Embarked_Q",
         "dtype": "uint8",
         "stats": {
          "unique_count": 2,
          "nan_count": 0,
          "min": "0",
          "max": "1",
          "histogram": [
           {
            "bin_start": 0,
            "bin_end": 0.1,
            "count": 686
           },
           {
            "bin_start": 0.1,
            "bin_end": 0.2,
            "count": 0
           },
           {
            "bin_start": 0.2,
            "bin_end": 0.30000000000000004,
            "count": 0
           },
           {
            "bin_start": 0.30000000000000004,
            "bin_end": 0.4,
            "count": 0
           },
           {
            "bin_start": 0.4,
            "bin_end": 0.5,
            "count": 0
           },
           {
            "bin_start": 0.5,
            "bin_end": 0.6000000000000001,
            "count": 0
           },
           {
            "bin_start": 0.6000000000000001,
            "bin_end": 0.7000000000000001,
            "count": 0
           },
           {
            "bin_start": 0.7000000000000001,
            "bin_end": 0.8,
            "count": 0
           },
           {
            "bin_start": 0.8,
            "bin_end": 0.9,
            "count": 0
           },
           {
            "bin_start": 0.9,
            "bin_end": 1,
            "count": 28
           }
          ]
         }
        },
        {
         "name": "Embarked_S",
         "dtype": "uint8",
         "stats": {
          "unique_count": 2,
          "nan_count": 0,
          "min": "0",
          "max": "1",
          "histogram": [
           {
            "bin_start": 0,
            "bin_end": 0.1,
            "count": 160
           },
           {
            "bin_start": 0.1,
            "bin_end": 0.2,
            "count": 0
           },
           {
            "bin_start": 0.2,
            "bin_end": 0.30000000000000004,
            "count": 0
           },
           {
            "bin_start": 0.30000000000000004,
            "bin_end": 0.4,
            "count": 0
           },
           {
            "bin_start": 0.4,
            "bin_end": 0.5,
            "count": 0
           },
           {
            "bin_start": 0.5,
            "bin_end": 0.6000000000000001,
            "count": 0
           },
           {
            "bin_start": 0.6000000000000001,
            "bin_end": 0.7000000000000001,
            "count": 0
           },
           {
            "bin_start": 0.7000000000000001,
            "bin_end": 0.8,
            "count": 0
           },
           {
            "bin_start": 0.8,
            "bin_end": 0.9,
            "count": 0
           },
           {
            "bin_start": 0.9,
            "bin_end": 1,
            "count": 554
           }
          ]
         }
        },
        {
         "name": "Pclass_2",
         "dtype": "uint8",
         "stats": {
          "unique_count": 2,
          "nan_count": 0,
          "min": "0",
          "max": "1",
          "histogram": [
           {
            "bin_start": 0,
            "bin_end": 0.1,
            "count": 541
           },
           {
            "bin_start": 0.1,
            "bin_end": 0.2,
            "count": 0
           },
           {
            "bin_start": 0.2,
            "bin_end": 0.30000000000000004,
            "count": 0
           },
           {
            "bin_start": 0.30000000000000004,
            "bin_end": 0.4,
            "count": 0
           },
           {
            "bin_start": 0.4,
            "bin_end": 0.5,
            "count": 0
           },
           {
            "bin_start": 0.5,
            "bin_end": 0.6000000000000001,
            "count": 0
           },
           {
            "bin_start": 0.6000000000000001,
            "bin_end": 0.7000000000000001,
            "count": 0
           },
           {
            "bin_start": 0.7000000000000001,
            "bin_end": 0.8,
            "count": 0
           },
           {
            "bin_start": 0.8,
            "bin_end": 0.9,
            "count": 0
           },
           {
            "bin_start": 0.9,
            "bin_end": 1,
            "count": 173
           }
          ]
         }
        },
        {
         "name": "Pclass_3",
         "dtype": "uint8",
         "stats": {
          "unique_count": 2,
          "nan_count": 0,
          "min": "0",
          "max": "1",
          "histogram": [
           {
            "bin_start": 0,
            "bin_end": 0.1,
            "count": 359
           },
           {
            "bin_start": 0.1,
            "bin_end": 0.2,
            "count": 0
           },
           {
            "bin_start": 0.2,
            "bin_end": 0.30000000000000004,
            "count": 0
           },
           {
            "bin_start": 0.30000000000000004,
            "bin_end": 0.4,
            "count": 0
           },
           {
            "bin_start": 0.4,
            "bin_end": 0.5,
            "count": 0
           },
           {
            "bin_start": 0.5,
            "bin_end": 0.6000000000000001,
            "count": 0
           },
           {
            "bin_start": 0.6000000000000001,
            "bin_end": 0.7000000000000001,
            "count": 0
           },
           {
            "bin_start": 0.7000000000000001,
            "bin_end": 0.8,
            "count": 0
           },
           {
            "bin_start": 0.8,
            "bin_end": 0.9,
            "count": 0
           },
           {
            "bin_start": 0.9,
            "bin_end": 1,
            "count": 355
           }
          ]
         }
        },
        {
         "name": "_deepnote_index_column",
         "dtype": "int64"
        }
       ],
       "rows": [
        {
         "Age": 22,
         "SibSp": 1,
         "Parch": 0,
         "Fare": 7.25,
         "Sex_male": 1,
         "Embarked_Q": 0,
         "Embarked_S": 1,
         "Pclass_2": 0,
         "Pclass_3": 1,
         "_deepnote_index_column": 0
        },
        {
         "Age": 38,
         "SibSp": 1,
         "Parch": 0,
         "Fare": 71.2833,
         "Sex_male": 0,
         "Embarked_Q": 0,
         "Embarked_S": 0,
         "Pclass_2": 0,
         "Pclass_3": 0,
         "_deepnote_index_column": 1
        },
        {
         "Age": 26,
         "SibSp": 0,
         "Parch": 0,
         "Fare": 7.925,
         "Sex_male": 0,
         "Embarked_Q": 0,
         "Embarked_S": 1,
         "Pclass_2": 0,
         "Pclass_3": 1,
         "_deepnote_index_column": 2
        },
        {
         "Age": 35,
         "SibSp": 1,
         "Parch": 0,
         "Fare": 53.1,
         "Sex_male": 0,
         "Embarked_Q": 0,
         "Embarked_S": 1,
         "Pclass_2": 0,
         "Pclass_3": 0,
         "_deepnote_index_column": 3
        },
        {
         "Age": 35,
         "SibSp": 0,
         "Parch": 0,
         "Fare": 8.05,
         "Sex_male": 1,
         "Embarked_Q": 0,
         "Embarked_S": 1,
         "Pclass_2": 0,
         "Pclass_3": 1,
         "_deepnote_index_column": 4
        },
        {
         "Age": 54,
         "SibSp": 0,
         "Parch": 0,
         "Fare": 51.8625,
         "Sex_male": 1,
         "Embarked_Q": 0,
         "Embarked_S": 1,
         "Pclass_2": 0,
         "Pclass_3": 0,
         "_deepnote_index_column": 6
        },
        {
         "Age": 2,
         "SibSp": 3,
         "Parch": 1,
         "Fare": 21.075,
         "Sex_male": 1,
         "Embarked_Q": 0,
         "Embarked_S": 1,
         "Pclass_2": 0,
         "Pclass_3": 1,
         "_deepnote_index_column": 7
        },
        {
         "Age": 27,
         "SibSp": 0,
         "Parch": 2,
         "Fare": 11.1333,
         "Sex_male": 0,
         "Embarked_Q": 0,
         "Embarked_S": 1,
         "Pclass_2": 0,
         "Pclass_3": 1,
         "_deepnote_index_column": 8
        },
        {
         "Age": 14,
         "SibSp": 1,
         "Parch": 0,
         "Fare": 30.0708,
         "Sex_male": 0,
         "Embarked_Q": 0,
         "Embarked_S": 0,
         "Pclass_2": 1,
         "Pclass_3": 0,
         "_deepnote_index_column": 9
        },
        {
         "Age": 4,
         "SibSp": 1,
         "Parch": 1,
         "Fare": 16.7,
         "Sex_male": 0,
         "Embarked_Q": 0,
         "Embarked_S": 1,
         "Pclass_2": 0,
         "Pclass_3": 1,
         "_deepnote_index_column": 10
        }
       ]
      },
      "text/plain": "      Age  SibSp  Parch     Fare  Sex_male  Embarked_Q  Embarked_S  Pclass_2  \\\n0    22.0      1      0   7.2500         1           0           1         0   \n1    38.0      1      0  71.2833         0           0           0         0   \n2    26.0      0      0   7.9250         0           0           1         0   \n3    35.0      1      0  53.1000         0           0           1         0   \n4    35.0      0      0   8.0500         1           0           1         0   \n..    ...    ...    ...      ...       ...         ...         ...       ...   \n885  39.0      0      5  29.1250         0           1           0         0   \n886  27.0      0      0  13.0000         1           0           1         1   \n887  19.0      0      0  30.0000         0           0           1         0   \n889  26.0      0      0  30.0000         1           0           0         0   \n890  32.0      0      0   7.7500         1           1           0         0   \n\n     Pclass_3  \n0           1  \n1           0  \n2           1  \n3           0  \n4           1  \n..        ...  \n885         1  \n886         0  \n887         0  \n889         0  \n890         1  \n\n[714 rows x 9 columns]",
      "text/html": "<div>\n<style scoped>\n    .dataframe tbody tr th:only-of-type {\n        vertical-align: middle;\n    }\n\n    .dataframe tbody tr th {\n        vertical-align: top;\n    }\n\n    .dataframe thead th {\n        text-align: right;\n    }\n</style>\n<table border=\"1\" class=\"dataframe\">\n  <thead>\n    <tr style=\"text-align: right;\">\n      <th></th>\n      <th>Age</th>\n      <th>SibSp</th>\n      <th>Parch</th>\n      <th>Fare</th>\n      <th>Sex_male</th>\n      <th>Embarked_Q</th>\n      <th>Embarked_S</th>\n      <th>Pclass_2</th>\n      <th>Pclass_3</th>\n    </tr>\n  </thead>\n  <tbody>\n    <tr>\n      <th>0</th>\n      <td>22.0</td>\n      <td>1</td>\n      <td>0</td>\n      <td>7.2500</td>\n      <td>1</td>\n      <td>0</td>\n      <td>1</td>\n      <td>0</td>\n      <td>1</td>\n    </tr>\n    <tr>\n      <th>1</th>\n      <td>38.0</td>\n      <td>1</td>\n      <td>0</td>\n      <td>71.2833</td>\n      <td>0</td>\n      <td>0</td>\n      <td>0</td>\n      <td>0</td>\n      <td>0</td>\n    </tr>\n    <tr>\n      <th>2</th>\n      <td>26.0</td>\n      <td>0</td>\n      <td>0</td>\n      <td>7.9250</td>\n      <td>0</td>\n      <td>0</td>\n      <td>1</td>\n      <td>0</td>\n      <td>1</td>\n    </tr>\n    <tr>\n      <th>3</th>\n      <td>35.0</td>\n      <td>1</td>\n      <td>0</td>\n      <td>53.1000</td>\n      <td>0</td>\n      <td>0</td>\n      <td>1</td>\n      <td>0</td>\n      <td>0</td>\n    </tr>\n    <tr>\n      <th>4</th>\n      <td>35.0</td>\n      <td>0</td>\n      <td>0</td>\n      <td>8.0500</td>\n      <td>1</td>\n      <td>0</td>\n      <td>1</td>\n      <td>0</td>\n      <td>1</td>\n    </tr>\n    <tr>\n      <th>...</th>\n      <td>...</td>\n      <td>...</td>\n      <td>...</td>\n      <td>...</td>\n      <td>...</td>\n      <td>...</td>\n      <td>...</td>\n      <td>...</td>\n      <td>...</td>\n    </tr>\n    <tr>\n      <th>885</th>\n      <td>39.0</td>\n      <td>0</td>\n      <td>5</td>\n      <td>29.1250</td>\n      <td>0</td>\n      <td>1</td>\n      <td>0</td>\n      <td>0</td>\n      <td>1</td>\n    </tr>\n    <tr>\n      <th>886</th>\n      <td>27.0</td>\n      <td>0</td>\n      <td>0</td>\n      <td>13.0000</td>\n      <td>1</td>\n      <td>0</td>\n      <td>1</td>\n      <td>1</td>\n      <td>0</td>\n    </tr>\n    <tr>\n      <th>887</th>\n      <td>19.0</td>\n      <td>0</td>\n      <td>0</td>\n      <td>30.0000</td>\n      <td>0</td>\n      <td>0</td>\n      <td>1</td>\n      <td>0</td>\n      <td>0</td>\n    </tr>\n    <tr>\n      <th>889</th>\n      <td>26.0</td>\n      <td>0</td>\n      <td>0</td>\n      <td>30.0000</td>\n      <td>1</td>\n      <td>0</td>\n      <td>0</td>\n      <td>0</td>\n      <td>0</td>\n    </tr>\n    <tr>\n      <th>890</th>\n      <td>32.0</td>\n      <td>0</td>\n      <td>0</td>\n      <td>7.7500</td>\n      <td>1</td>\n      <td>1</td>\n      <td>0</td>\n      <td>0</td>\n      <td>1</td>\n    </tr>\n  </tbody>\n</table>\n<p>714 rows × 9 columns</p>\n</div>"
     },
     "metadata": {}
    }
   ]
  },
  {
   "cell_type": "markdown",
   "source": "# End Notebook\n---",
   "metadata": {
    "tags": [],
    "cell_id": "00002-586c2ca2-d18e-44b8-b817-1dab760cc186",
    "deepnote_cell_type": "markdown"
   }
  },
  {
   "cell_type": "markdown",
   "source": "<a style='text-decoration:none;line-height:16px;display:flex;color:#5B5B62;padding:10px;justify-content:end;' href='https://deepnote.com?utm_source=created-in-deepnote-cell&projectId=b048325a-8a20-4a84-a12b-a1cbf86f9889' target=\"_blank\">\n<img alt='Created in deepnote.com' style='display:inline;max-height:16px;margin:0px;margin-right:7.5px;' src='data:image/svg+xml;base64,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' > </img>\nCreated in <span style='font-weight:600;margin-left:4px;'>Deepnote</span></a>",
   "metadata": {
    "tags": [],
    "created_in_deepnote_cell": true,
    "deepnote_cell_type": "markdown"
   }
  }
 ],
 "nbformat": 4,
 "nbformat_minor": 2,
 "metadata": {
  "orig_nbformat": 2,
  "deepnote": {
   "is_reactive": false
  },
  "deepnote_notebook_id": "daff7d76-8cae-4517-b55e-a62ce860b2c4",
  "deepnote_execution_queue": []
 }
}